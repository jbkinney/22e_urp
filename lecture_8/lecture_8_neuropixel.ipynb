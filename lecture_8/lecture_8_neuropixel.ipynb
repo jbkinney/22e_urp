{
 "cells": [
  {
   "cell_type": "markdown",
   "id": "ready-withdrawal",
   "metadata": {},
   "source": [
    "# Lecture 7\n",
    "Analyzing neural data from neuropixel experiment\n",
    "\n",
    "Adapted from neuromatch academy material https://github.com/NeuromatchAcademy/course-content/tree/main/tutorials"
   ]
  },
  {
   "cell_type": "code",
   "execution_count": null,
   "id": "rural-series",
   "metadata": {},
   "outputs": [],
   "source": [
    "import numpy as np\n",
    "import matplotlib.pyplot as plt\n",
    "from scipy import stats"
   ]
  },
  {
   "cell_type": "code",
   "execution_count": null,
   "id": "orange-beaver",
   "metadata": {},
   "outputs": [],
   "source": [
    "import io\n",
    "import requests\n",
    "r = requests.get('https://osf.io/sy5xt/download')\n",
    "if r.status_code != 200:\n",
    "    print('Could not download data')\n",
    "else:\n",
    "    spike_times = np.load(io.BytesIO(r.content), allow_pickle=True)['spike_times']"
   ]
  },
  {
   "cell_type": "code",
   "execution_count": null,
   "id": "residential-manhattan",
   "metadata": {},
   "outputs": [],
   "source": [
    "def plot_isis(single_neuron_isis):\n",
    "  plt.hist(single_neuron_isis, bins=50, histtype=\"stepfilled\")\n",
    "  plt.axvline(single_neuron_isis.mean(), color=\"orange\", label=\"Mean ISI\")\n",
    "  plt.xlabel(\"ISI duration (s)\")\n",
    "  plt.ylabel(\"Number of spikes\")\n",
    "  plt.legend()"
   ]
  },
  {
   "cell_type": "code",
   "execution_count": null,
   "id": "infectious-festival",
   "metadata": {},
   "outputs": [],
   "source": [
    "type(spike_times)"
   ]
  },
  {
   "cell_type": "code",
   "execution_count": null,
   "id": "advisory-learning",
   "metadata": {},
   "outputs": [],
   "source": [
    "spike_times"
   ]
  },
  {
   "cell_type": "code",
   "execution_count": null,
   "id": "warming-knight",
   "metadata": {},
   "outputs": [],
   "source": [
    "spike_times[0]"
   ]
  },
  {
   "cell_type": "code",
   "execution_count": null,
   "id": "expired-receiver",
   "metadata": {},
   "outputs": [],
   "source": [
    "spike_times[0].shape"
   ]
  },
  {
   "cell_type": "code",
   "execution_count": null,
   "id": "oriental-mistress",
   "metadata": {
    "scrolled": true
   },
   "outputs": [],
   "source": [
    "i_neurons = [0, 321]\n",
    "i_print = slice(0, 5)\n",
    "\n",
    "for i in i_neurons:\n",
    "  print(\n",
    "    \"Neuron {}:\".format(i),\n",
    "    spike_times[i].dtype,\n",
    "    spike_times[i][i_print],\n",
    "    \"\\n\",\n",
    "    sep=\"\\n\"\n",
    "  )"
   ]
  },
  {
   "cell_type": "code",
   "execution_count": null,
   "id": "express-remove",
   "metadata": {},
   "outputs": [],
   "source": [
    "n_neurons = len(spike_times)\n",
    "total_spikes_per_neuron = [len(spike_times_i) for spike_times_i in spike_times]\n",
    "\n",
    "print(f\"Number of neurons: {n_neurons}\")\n",
    "print(f\"Number of spikes for first five neurons: {total_spikes_per_neuron[:5]}\")"
   ]
  },
  {
   "cell_type": "code",
   "execution_count": null,
   "id": "fleet-wells",
   "metadata": {},
   "outputs": [],
   "source": [
    "plt.hist(total_spikes_per_neuron, bins=50, histtype=\"stepfilled\")\n",
    "plt.xlabel(\"Total spikes per neuron\")\n",
    "plt.ylabel(\"Number of neurons\");"
   ]
  },
  {
   "cell_type": "code",
   "execution_count": null,
   "id": "fuzzy-provision",
   "metadata": {},
   "outputs": [],
   "source": [
    "mean_spike_count = np.mean(total_spikes_per_neuron)\n",
    "plt.hist(total_spikes_per_neuron, bins=50, histtype=\"stepfilled\")\n",
    "plt.xlabel(\"Total spikes per neuron\")\n",
    "plt.ylabel(\"Number of neurons\")\n",
    "plt.axvline(mean_spike_count, color=\"orange\", label=\"Mean neuron\")\n",
    "plt.legend();"
   ]
  },
  {
   "cell_type": "code",
   "execution_count": null,
   "id": "intense-raising",
   "metadata": {},
   "outputs": [],
   "source": [
    "# Exercise: Add in a line for the median spike count"
   ]
  },
  {
   "cell_type": "markdown",
   "id": "weekly-portuguese",
   "metadata": {},
   "source": [
    "## Plotting rasters"
   ]
  },
  {
   "cell_type": "code",
   "execution_count": null,
   "id": "frank-rings",
   "metadata": {},
   "outputs": [],
   "source": [
    "spike_times_flat = np.concatenate(spike_times)\n",
    "print(np.min(spike_times_flat))\n",
    "print(np.max(spike_times_flat))"
   ]
  },
  {
   "cell_type": "code",
   "execution_count": null,
   "id": "prepared-equity",
   "metadata": {},
   "outputs": [],
   "source": [
    "def restrict_spike_times(spike_times, interval):\n",
    "  \"\"\"Given a spike_time dataset, restrict to spikes within given interval.\n",
    "\n",
    "  Args:\n",
    "    spike_times (sequence of np.ndarray): List or array of arrays,\n",
    "      each inner array has spike times for a single neuron.\n",
    "    interval (tuple): Min, max time values; keep min <= t < max.\n",
    "\n",
    "  Returns:\n",
    "    np.ndarray: like `spike_times`, but only within `interval`\n",
    "  \"\"\"\n",
    "  interval_spike_times = []\n",
    "  for spikes in spike_times:\n",
    "    interval_mask = (spikes >= interval[0]) & (spikes < interval[1])\n",
    "    interval_spike_times.append(spikes[interval_mask])\n",
    "  return np.array(interval_spike_times, object)"
   ]
  },
  {
   "cell_type": "code",
   "execution_count": null,
   "id": "divine-catholic",
   "metadata": {
    "scrolled": true
   },
   "outputs": [],
   "source": [
    "interval_spike_times = restrict_spike_times(spike_times, (5, 15))\n",
    "neuron_idx = 1\n",
    "plt.eventplot(interval_spike_times[neuron_idx], color=\".2\")\n",
    "plt.xlabel(\"Time (s)\")\n",
    "plt.yticks([]);"
   ]
  },
  {
   "cell_type": "code",
   "execution_count": null,
   "id": "informal-denver",
   "metadata": {
    "scrolled": true
   },
   "outputs": [],
   "source": [
    "neuron_idx = np.arange(0, len(spike_times), 5)\n",
    "plt.eventplot(interval_spike_times[neuron_idx], color=\".2\")\n",
    "plt.xlabel(\"Time (s)\")\n",
    "plt.yticks([]);"
   ]
  },
  {
   "cell_type": "code",
   "execution_count": null,
   "id": "existing-naples",
   "metadata": {},
   "outputs": [],
   "source": [
    "n_bins = 200\n",
    "neuron_idx = 0\n",
    "plt.hist(spike_times[neuron_idx], bins=n_bins)"
   ]
  },
  {
   "cell_type": "code",
   "execution_count": null,
   "id": "genetic-affiliate",
   "metadata": {},
   "outputs": [],
   "source": [
    "# What is the average firing rate?\n",
    "# What is the average firing rate from time 100 to 150?"
   ]
  },
  {
   "cell_type": "code",
   "execution_count": null,
   "id": "average-chamber",
   "metadata": {},
   "outputs": [],
   "source": [
    "bins = np.arange(0, 2710, 10)\n",
    "psths = np.asarray([np.histogram(spike_times[i], bins=bins)[0] for i in range(spike_times.shape[0])])"
   ]
  },
  {
   "cell_type": "code",
   "execution_count": null,
   "id": "essential-stylus",
   "metadata": {},
   "outputs": [],
   "source": [
    "from sklearn.decomposition import PCA\n",
    "pca = PCA(n_components = 3)\n",
    "neurons_decomp = pca.fit_transform(psths)"
   ]
  },
  {
   "cell_type": "code",
   "execution_count": null,
   "id": "dress-fusion",
   "metadata": {},
   "outputs": [],
   "source": [
    "plt.scatter(x=neurons_decomp[:, 0], y=neurons_decomp[:, 1])"
   ]
  },
  {
   "cell_type": "markdown",
   "id": "republican-timber",
   "metadata": {},
   "source": [
    "## Getting trialed spike rates"
   ]
  },
  {
   "cell_type": "code",
   "execution_count": null,
   "id": "later-geology",
   "metadata": {},
   "outputs": [],
   "source": [
    "#@title Data retrieval and loading\n",
    "import os\n",
    "import requests\n",
    "import hashlib\n",
    "\n",
    "url = \"https://osf.io/r9gh8/download\"\n",
    "fname = \"W1D4_steinmetz_data.npz\"\n",
    "expected_md5 = \"d19716354fed0981267456b80db07ea8\"\n",
    "\n",
    "if not os.path.isfile(fname):\n",
    "  try:\n",
    "    r = requests.get(url)\n",
    "  except requests.ConnectionError:\n",
    "    print(\"!!! Failed to download data !!!\")\n",
    "  else:\n",
    "    if r.status_code != requests.codes.ok:\n",
    "      print(\"!!! Failed to download data !!!\")\n",
    "    elif hashlib.md5(r.content).hexdigest() != expected_md5:\n",
    "      print(\"!!! Data download appears corrupted !!!\")\n",
    "    else:\n",
    "      with open(fname, \"wb\") as fid:\n",
    "        fid.write(r.content)\n",
    "\n",
    "def load_steinmetz_data(data_fname=fname):\n",
    "\n",
    "  with np.load(data_fname) as dobj:\n",
    "    data = dict(**dobj)\n",
    "\n",
    "  return data"
   ]
  },
  {
   "cell_type": "code",
   "execution_count": null,
   "id": "regular-convention",
   "metadata": {},
   "outputs": [],
   "source": [
    "data = load_steinmetz_data()\n",
    "for key, val in data.items():\n",
    "  print(key, val.shape)"
   ]
  },
  {
   "cell_type": "code",
   "execution_count": null,
   "id": "confidential-frame",
   "metadata": {},
   "outputs": [],
   "source": [
    "y = data[\"choices\"]\n",
    "X = data[\"spikes\"]"
   ]
  },
  {
   "cell_type": "code",
   "execution_count": null,
   "id": "experienced-shepherd",
   "metadata": {},
   "outputs": [],
   "source": [
    "from sklearn.linear_model import LogisticRegression\n",
    "# Define the model\n",
    "log_reg = LogisticRegression(penalty=\"none\")\n",
    "\n",
    "# Fit it to data\n",
    "log_reg.fit(X, y)"
   ]
  },
  {
   "cell_type": "code",
   "execution_count": null,
   "id": "iraqi-webcam",
   "metadata": {},
   "outputs": [],
   "source": [
    "y_pred = log_reg.predict(X)"
   ]
  },
  {
   "cell_type": "code",
   "execution_count": null,
   "id": "measured-schema",
   "metadata": {},
   "outputs": [],
   "source": [
    "# TODO: Calculate the accuracy of your linear regression"
   ]
  },
  {
   "cell_type": "code",
   "execution_count": null,
   "id": "intense-citation",
   "metadata": {},
   "outputs": [],
   "source": [
    "from sklearn.model_selection import cross_val_score\n",
    "accuracies = cross_val_score(LogisticRegression(penalty='none'), X, y, cv=8)  # k=8 cross validation"
   ]
  }
 ],
 "metadata": {
  "kernelspec": {
   "display_name": "Python 3",
   "language": "python",
   "name": "python3"
  },
  "language_info": {
   "codemirror_mode": {
    "name": "ipython",
    "version": 3
   },
   "file_extension": ".py",
   "mimetype": "text/x-python",
   "name": "python",
   "nbconvert_exporter": "python",
   "pygments_lexer": "ipython3",
   "version": "3.7.3"
  },
  "toc": {
   "base_numbering": 1,
   "nav_menu": {},
   "number_sections": true,
   "sideBar": true,
   "skip_h1_title": false,
   "title_cell": "Table of Contents",
   "title_sidebar": "Contents",
   "toc_cell": false,
   "toc_position": {},
   "toc_section_display": true,
   "toc_window_display": false
  }
 },
 "nbformat": 4,
 "nbformat_minor": 5
}
