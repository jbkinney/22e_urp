{
 "cells": [
  {
   "cell_type": "markdown",
   "id": "engaged-holder",
   "metadata": {},
   "source": [
    "# Lecture 7\n",
    "Analyzing neural data from neuropixel experiment\n",
    "\n",
    "Adapted from neuromatch academy material https://github.com/NeuromatchAcademy/course-content/tree/main/tutorials"
   ]
  },
  {
   "cell_type": "code",
   "execution_count": 1,
   "id": "centered-bangladesh",
   "metadata": {},
   "outputs": [
    {
     "name": "stderr",
     "output_type": "stream",
     "text": [
      "/Users/julwang/miniconda3/lib/python3.7/importlib/_bootstrap.py:219: RuntimeWarning: numpy.ufunc size changed, may indicate binary incompatibility. Expected 192 from C header, got 216 from PyObject\n",
      "  return f(*args, **kwds)\n",
      "/Users/julwang/miniconda3/lib/python3.7/importlib/_bootstrap.py:219: RuntimeWarning: numpy.ufunc size changed, may indicate binary incompatibility. Expected 192 from C header, got 216 from PyObject\n",
      "  return f(*args, **kwds)\n",
      "/Users/julwang/miniconda3/lib/python3.7/importlib/_bootstrap.py:219: RuntimeWarning: numpy.ufunc size changed, may indicate binary incompatibility. Expected 192 from C header, got 216 from PyObject\n",
      "  return f(*args, **kwds)\n"
     ]
    }
   ],
   "source": [
    "import numpy as np\n",
    "import matplotlib.pyplot as plt\n",
    "from scipy import stats"
   ]
  },
  {
   "cell_type": "code",
   "execution_count": 5,
   "id": "focal-consolidation",
   "metadata": {},
   "outputs": [],
   "source": [
    "import io\n",
    "import requests\n",
    "r = requests.get('https://osf.io/sy5xt/download')\n",
    "if r.status_code != 200:\n",
    "    print('Could not download data')\n",
    "else:\n",
    "    spike_times = np.load(io.BytesIO(r.content), allow_pickle=True)['spike_times']"
   ]
  },
  {
   "cell_type": "code",
   "execution_count": 3,
   "id": "informal-summer",
   "metadata": {},
   "outputs": [],
   "source": [
    "def plot_isis(single_neuron_isis):\n",
    "  plt.hist(single_neuron_isis, bins=50, histtype=\"stepfilled\")\n",
    "  plt.axvline(single_neuron_isis.mean(), color=\"orange\", label=\"Mean ISI\")\n",
    "  plt.xlabel(\"ISI duration (s)\")\n",
    "  plt.ylabel(\"Number of spikes\")\n",
    "  plt.legend()"
   ]
  },
  {
   "cell_type": "code",
   "execution_count": 6,
   "id": "sunset-conjunction",
   "metadata": {},
   "outputs": [
    {
     "data": {
      "text/plain": [
       "numpy.ndarray"
      ]
     },
     "execution_count": 6,
     "metadata": {},
     "output_type": "execute_result"
    }
   ],
   "source": [
    "type(spike_times)"
   ]
  },
  {
   "cell_type": "code",
   "execution_count": 7,
   "id": "close-three",
   "metadata": {},
   "outputs": [
    {
     "data": {
      "text/plain": [
       "(734,)"
      ]
     },
     "execution_count": 7,
     "metadata": {},
     "output_type": "execute_result"
    }
   ],
   "source": [
    "spike_times"
   ]
  },
  {
   "cell_type": "code",
   "execution_count": 10,
   "id": "worthy-assets",
   "metadata": {},
   "outputs": [
    {
     "data": {
      "text/plain": [
       "array([8.1489998e-01, 1.4822467e+01, 2.4964600e+01, 2.5143600e+01,\n",
       "       3.8870899e+01, 5.0820801e+01, 5.4806866e+01, 5.9511833e+01,\n",
       "       8.0470367e+01, 1.2709637e+02, 1.6678714e+02, 1.7524760e+02,\n",
       "       1.7728830e+02, 1.7831754e+02, 2.3178033e+02, 2.4066676e+02,\n",
       "       2.7128897e+02, 3.0554150e+02, 3.0564987e+02, 3.1116019e+02,\n",
       "       3.1275296e+02, 3.1846918e+02, 3.2280109e+02, 3.2485114e+02,\n",
       "       3.5686102e+02, 3.5699719e+02, 3.7701962e+02, 3.8818140e+02,\n",
       "       3.9037332e+02, 4.3421207e+02, 4.4229883e+02, 4.7392587e+02,\n",
       "       4.8475021e+02, 5.0332483e+02, 5.0333578e+02, 5.0336313e+02,\n",
       "       5.0341571e+02, 5.3048364e+02, 5.7414423e+02, 5.8498682e+02,\n",
       "       5.8690369e+02, 5.9334210e+02, 6.1483112e+02, 6.5422388e+02,\n",
       "       6.5453082e+02, 6.5481042e+02, 7.1913885e+02, 7.3967511e+02,\n",
       "       7.4461981e+02, 7.4536530e+02, 7.5823090e+02, 7.5842230e+02,\n",
       "       7.6530389e+02, 7.7090735e+02, 7.9484314e+02, 8.0276129e+02,\n",
       "       8.0647791e+02, 8.0952216e+02, 8.1770441e+02, 8.3288147e+02,\n",
       "       8.3292633e+02, 8.3296265e+02, 8.4459955e+02, 8.4494635e+02,\n",
       "       8.5408063e+02, 8.6996313e+02, 8.8666602e+02, 8.9767316e+02,\n",
       "       9.0447626e+02, 9.3626306e+02, 9.5366168e+02, 9.5381262e+02,\n",
       "       9.5408832e+02, 9.6296478e+02, 9.6300531e+02, 9.6377283e+02,\n",
       "       9.6460968e+02, 9.7670758e+02, 1.0266655e+03, 1.0267345e+03,\n",
       "       1.0274108e+03, 1.0274568e+03, 1.0274822e+03, 1.0275718e+03,\n",
       "       1.0457637e+03, 1.0459503e+03, 1.0708635e+03, 1.0709470e+03,\n",
       "       1.1110602e+03, 1.1111388e+03, 1.1166316e+03, 1.1169410e+03,\n",
       "       1.1191426e+03, 1.1191907e+03, 1.1192668e+03, 1.1223395e+03,\n",
       "       1.1446840e+03, 1.1461755e+03, 1.1484813e+03, 1.1516519e+03,\n",
       "       1.1520592e+03, 1.1522358e+03, 1.1526252e+03, 1.1527206e+03,\n",
       "       1.1527794e+03, 1.1532245e+03, 1.1533669e+03, 1.1534667e+03,\n",
       "       1.1535416e+03, 1.1543304e+03, 1.1544109e+03, 1.1548291e+03,\n",
       "       1.1549728e+03, 1.1554740e+03, 1.1590403e+03, 1.1591011e+03,\n",
       "       1.1594758e+03, 1.1596007e+03, 1.1637408e+03, 1.1673711e+03,\n",
       "       1.1704840e+03, 1.1710392e+03, 1.1717217e+03, 1.1743513e+03,\n",
       "       1.1744598e+03, 1.1746119e+03, 1.1777235e+03, 1.1950244e+03,\n",
       "       1.1960154e+03, 1.1963629e+03, 1.1971744e+03, 1.1974314e+03,\n",
       "       1.1975566e+03, 1.1984471e+03, 1.2037333e+03, 1.2044623e+03,\n",
       "       1.2105813e+03, 1.2122797e+03, 1.2128129e+03, 1.2139418e+03,\n",
       "       1.2187122e+03, 1.2237185e+03, 1.2237600e+03, 1.2257955e+03,\n",
       "       1.2258522e+03, 1.2259242e+03, 1.2259324e+03, 1.2260591e+03,\n",
       "       1.2263345e+03, 1.2337863e+03, 1.2344578e+03, 1.2346836e+03,\n",
       "       1.2347418e+03, 1.2347664e+03, 1.2347712e+03, 1.2385753e+03,\n",
       "       1.2392509e+03, 1.2420062e+03, 1.2423053e+03, 1.2434276e+03,\n",
       "       1.2435264e+03, 1.2452755e+03, 1.2465422e+03, 1.2475049e+03,\n",
       "       1.2476663e+03, 1.2478142e+03, 1.2480676e+03, 1.2481677e+03,\n",
       "       1.2483267e+03, 1.2499558e+03, 1.2504034e+03, 1.2505349e+03,\n",
       "       1.2517920e+03, 1.2523751e+03, 1.2613658e+03, 1.2655403e+03,\n",
       "       1.2659080e+03, 1.2662467e+03, 1.2663643e+03, 1.2693844e+03,\n",
       "       1.2696392e+03, 1.2703315e+03, 1.2708556e+03, 1.2716222e+03,\n",
       "       1.2735079e+03, 1.2755900e+03, 1.2830842e+03, 1.2869027e+03,\n",
       "       1.2873661e+03, 1.2878848e+03, 1.2896971e+03, 1.2897031e+03,\n",
       "       1.2901499e+03, 1.2904403e+03, 1.2905204e+03, 1.2951874e+03,\n",
       "       1.2993842e+03, 1.3019458e+03, 1.3034392e+03, 1.3046649e+03,\n",
       "       1.3050105e+03, 1.3050944e+03, 1.3056926e+03, 1.3060559e+03,\n",
       "       1.3061046e+03, 1.3061635e+03, 1.3062960e+03, 1.3065402e+03,\n",
       "       1.3066388e+03, 1.3069290e+03, 1.3083409e+03, 1.3105649e+03,\n",
       "       1.3166207e+03, 1.3242404e+03, 1.3273994e+03, 1.3279861e+03,\n",
       "       1.3288508e+03, 1.3288707e+03, 1.3291340e+03, 1.3291743e+03,\n",
       "       1.3292253e+03, 1.3294283e+03, 1.3294365e+03, 1.3302321e+03,\n",
       "       1.3305171e+03, 1.3305781e+03, 1.3310616e+03, 1.3315593e+03,\n",
       "       1.3316312e+03, 1.3316422e+03, 1.3323062e+03, 1.3323530e+03,\n",
       "       1.3327251e+03, 1.3579271e+03, 1.3603048e+03, 1.3613770e+03,\n",
       "       1.3614572e+03, 1.3616742e+03, 1.3618953e+03, 1.3619919e+03,\n",
       "       1.3620098e+03, 1.3621735e+03, 1.3623638e+03, 1.3627177e+03,\n",
       "       1.3634871e+03, 1.3635242e+03, 1.3640720e+03, 1.3645612e+03,\n",
       "       1.3654878e+03, 1.3732789e+03, 1.3736388e+03, 1.3741733e+03,\n",
       "       1.3784747e+03, 1.3784854e+03, 1.3786407e+03, 1.3804871e+03,\n",
       "       1.3806572e+03, 1.3808424e+03, 1.3808539e+03, 1.3809666e+03,\n",
       "       1.3809789e+03, 1.3816975e+03, 1.3885452e+03, 1.3966982e+03,\n",
       "       1.3990818e+03, 1.3990990e+03, 1.4017200e+03, 1.4020665e+03,\n",
       "       1.4070721e+03, 1.4071250e+03, 1.4097675e+03, 1.4098062e+03,\n",
       "       1.4106506e+03, 1.4111619e+03, 1.4280599e+03, 1.4282614e+03,\n",
       "       1.4286290e+03, 1.4289144e+03, 1.4315923e+03, 1.4316293e+03,\n",
       "       1.4408652e+03, 1.4484373e+03, 1.4559142e+03, 1.4579103e+03,\n",
       "       1.4583167e+03, 1.4595146e+03, 1.4598953e+03, 1.4599218e+03,\n",
       "       1.4784358e+03, 1.4960676e+03, 1.5127275e+03, 1.5193887e+03,\n",
       "       1.5198552e+03, 1.5211436e+03, 1.5317812e+03, 1.5409377e+03,\n",
       "       1.5410632e+03, 1.5494752e+03, 1.5495266e+03, 1.5522037e+03,\n",
       "       1.5619264e+03, 1.5619524e+03, 1.5625486e+03, 1.5635159e+03,\n",
       "       1.5648214e+03, 1.5648623e+03, 1.5649424e+03, 1.5649594e+03,\n",
       "       1.5649934e+03, 1.5667515e+03, 1.5674247e+03, 1.5676237e+03,\n",
       "       1.5676525e+03, 1.5678427e+03, 1.5699351e+03, 1.5871904e+03,\n",
       "       1.6004664e+03, 1.6061025e+03, 1.6070403e+03, 1.6084575e+03,\n",
       "       1.6085190e+03, 1.6086063e+03, 1.6087844e+03, 1.6087993e+03,\n",
       "       1.6088590e+03, 1.6088883e+03, 1.6097932e+03, 1.6098083e+03,\n",
       "       1.6106127e+03, 1.6113022e+03, 1.6118115e+03, 1.6122501e+03,\n",
       "       1.6154528e+03, 1.6220269e+03, 1.6229749e+03, 1.6336262e+03,\n",
       "       1.6354882e+03, 1.6371365e+03, 1.6396180e+03, 1.6398562e+03,\n",
       "       1.6399648e+03, 1.6404214e+03, 1.6412389e+03, 1.6416890e+03,\n",
       "       1.6417039e+03, 1.6417522e+03, 1.6425750e+03, 1.6427261e+03,\n",
       "       1.6427552e+03, 1.6433503e+03, 1.6436213e+03, 1.6438125e+03,\n",
       "       1.6438872e+03, 1.6441019e+03, 1.6446500e+03, 1.6453336e+03,\n",
       "       1.6454192e+03, 1.6477334e+03, 1.6575282e+03, 1.6844604e+03,\n",
       "       1.6850273e+03, 1.6857676e+03, 1.7025720e+03, 1.7027341e+03,\n",
       "       1.7190858e+03, 1.7273101e+03, 1.7298134e+03, 1.7379207e+03,\n",
       "       1.7398477e+03, 1.7490875e+03, 1.7615880e+03, 1.7618779e+03,\n",
       "       1.7740175e+03, 1.7846765e+03, 1.7926230e+03, 1.7926428e+03,\n",
       "       1.7939314e+03, 1.7973989e+03, 1.8031130e+03, 1.8040284e+03,\n",
       "       1.8055375e+03, 1.8056112e+03, 1.8059164e+03, 1.8069670e+03,\n",
       "       1.8070442e+03, 1.8101013e+03, 1.8126600e+03, 1.8135692e+03,\n",
       "       1.8201190e+03, 1.8207994e+03, 1.8417491e+03, 1.8476805e+03,\n",
       "       1.8478822e+03, 1.8482903e+03, 1.8484250e+03, 1.8484962e+03,\n",
       "       1.8485104e+03, 1.8485513e+03, 1.8485625e+03, 1.8485701e+03,\n",
       "       1.8486110e+03, 1.8486429e+03, 1.8487299e+03, 1.8487351e+03,\n",
       "       1.8490397e+03, 1.8490438e+03, 1.8490521e+03, 1.8491438e+03,\n",
       "       1.8491489e+03, 1.8491625e+03, 1.8494075e+03, 1.8494237e+03,\n",
       "       1.8494319e+03, 1.8494414e+03, 1.8494523e+03, 1.8494626e+03,\n",
       "       1.8495552e+03, 1.8495649e+03, 1.8495734e+03, 1.8495833e+03,\n",
       "       1.8496194e+03, 1.8496376e+03, 1.8501899e+03, 1.8506057e+03,\n",
       "       1.8508260e+03, 1.8508817e+03, 1.8509719e+03, 1.8510941e+03,\n",
       "       1.8511180e+03, 1.8511239e+03, 1.8511527e+03, 1.8511575e+03,\n",
       "       1.8511628e+03, 1.8513555e+03, 1.8515027e+03, 1.8516356e+03,\n",
       "       1.8527815e+03, 1.8532749e+03, 1.8533284e+03, 1.8534434e+03,\n",
       "       1.8537468e+03, 1.8558334e+03, 1.8559153e+03, 1.8559832e+03,\n",
       "       1.8560425e+03, 1.8561263e+03, 1.8561581e+03, 1.8567336e+03,\n",
       "       1.8570417e+03, 1.8571056e+03, 1.8571644e+03, 1.8582432e+03,\n",
       "       1.8595123e+03, 1.8608113e+03, 1.8623170e+03, 1.8624094e+03,\n",
       "       1.8650051e+03, 1.8650876e+03, 1.8652799e+03, 1.8697030e+03,\n",
       "       1.8697709e+03, 1.8698784e+03, 1.8699989e+03, 1.8703767e+03,\n",
       "       1.8709940e+03, 1.8710984e+03, 1.8720214e+03, 1.8805142e+03,\n",
       "       1.8883542e+03, 1.8893600e+03, 1.8896350e+03, 1.8899193e+03,\n",
       "       1.8904146e+03, 1.8923044e+03, 1.8992543e+03, 1.8993730e+03,\n",
       "       1.9010078e+03, 1.9025426e+03, 1.9060103e+03, 1.9061790e+03,\n",
       "       1.9062968e+03, 1.9063214e+03, 1.9063296e+03, 1.9116798e+03,\n",
       "       1.9159373e+03, 1.9255698e+03, 1.9266664e+03, 1.9267401e+03,\n",
       "       1.9271382e+03, 1.9273802e+03, 1.9281993e+03, 1.9285372e+03,\n",
       "       1.9293044e+03, 1.9335736e+03, 1.9369618e+03, 1.9380553e+03,\n",
       "       1.9380953e+03, 1.9386011e+03, 1.9386500e+03, 1.9394799e+03,\n",
       "       1.9398640e+03, 1.9411974e+03, 1.9414845e+03, 1.9414877e+03,\n",
       "       1.9430398e+03, 1.9493361e+03, 1.9502638e+03, 1.9533594e+03,\n",
       "       1.9539761e+03, 1.9542570e+03, 1.9550186e+03, 1.9550332e+03,\n",
       "       1.9551779e+03, 1.9552135e+03, 1.9567234e+03, 1.9567694e+03,\n",
       "       1.9568331e+03, 1.9568799e+03, 1.9589387e+03, 1.9625929e+03,\n",
       "       1.9626987e+03, 1.9685714e+03, 1.9689497e+03, 1.9696519e+03,\n",
       "       1.9730017e+03, 1.9746776e+03, 1.9748201e+03, 1.9813383e+03,\n",
       "       1.9813842e+03, 1.9881427e+03, 1.9887048e+03, 1.9887312e+03,\n",
       "       1.9888024e+03, 1.9888629e+03, 1.9889347e+03, 1.9890023e+03,\n",
       "       1.9890131e+03, 1.9891366e+03, 2.0032281e+03, 2.0045248e+03,\n",
       "       2.0047412e+03, 2.0208932e+03, 2.0244570e+03, 2.0335500e+03,\n",
       "       2.0337369e+03, 2.0373368e+03, 2.0376135e+03, 2.0377202e+03,\n",
       "       2.0392897e+03, 2.0394402e+03, 2.0399315e+03, 2.0401613e+03,\n",
       "       2.0470157e+03, 2.0470817e+03, 2.0497788e+03, 2.0536216e+03,\n",
       "       2.0538611e+03, 2.0539429e+03, 2.0540693e+03, 2.0578279e+03,\n",
       "       2.0616685e+03, 2.0618601e+03, 2.0619912e+03, 2.0654587e+03,\n",
       "       2.0662542e+03, 2.0674404e+03, 2.0677954e+03, 2.0686785e+03,\n",
       "       2.0729783e+03, 2.0733787e+03, 2.0748872e+03, 2.0773384e+03,\n",
       "       2.0892158e+03, 2.0892861e+03, 2.0893455e+03, 2.0900322e+03,\n",
       "       2.0968291e+03, 2.1009316e+03, 2.1129417e+03, 2.1147175e+03,\n",
       "       2.1147812e+03, 2.1148982e+03, 2.1149568e+03, 2.1149661e+03,\n",
       "       2.1149714e+03, 2.1153899e+03, 2.1154268e+03, 2.1154612e+03,\n",
       "       2.1158018e+03, 2.1159014e+03, 2.1184102e+03, 2.1203367e+03,\n",
       "       2.1229109e+03, 2.1229229e+03, 2.1229312e+03, 2.1242134e+03,\n",
       "       2.1252351e+03, 2.1252776e+03, 2.1252932e+03, 2.1253176e+03,\n",
       "       2.1289221e+03, 2.1295356e+03, 2.1295620e+03, 2.1297695e+03,\n",
       "       2.1368611e+03, 2.1370723e+03, 2.1382102e+03, 2.1382278e+03,\n",
       "       2.1385388e+03, 2.1385762e+03, 2.1391567e+03, 2.1393416e+03,\n",
       "       2.1394968e+03, 2.1397705e+03, 2.1398574e+03, 2.1402554e+03,\n",
       "       2.1414910e+03, 2.1419587e+03, 2.1423896e+03, 2.1434590e+03,\n",
       "       2.1435276e+03, 2.1436646e+03, 2.1441052e+03, 2.1461152e+03,\n",
       "       2.1574363e+03, 2.1583857e+03, 2.1596738e+03, 2.1622876e+03,\n",
       "       2.1625461e+03, 2.1658311e+03, 2.1692288e+03, 2.1749731e+03,\n",
       "       2.1794634e+03, 2.1949136e+03, 2.2096909e+03, 2.2150259e+03,\n",
       "       2.2150879e+03, 2.2171680e+03, 2.2177429e+03, 2.2220542e+03,\n",
       "       2.2352378e+03, 2.2354631e+03, 2.2418254e+03, 2.2425732e+03,\n",
       "       2.2443203e+03, 2.2483682e+03, 2.2483752e+03, 2.2484094e+03,\n",
       "       2.2495247e+03, 2.2496670e+03, 2.2496926e+03, 2.2578447e+03,\n",
       "       2.2580759e+03, 2.2702183e+03, 2.2817253e+03, 2.2911089e+03,\n",
       "       2.2971492e+03, 2.2971995e+03, 2.2998718e+03, 2.3000588e+03,\n",
       "       2.3000840e+03, 2.3132893e+03, 2.3142598e+03, 2.3143274e+03,\n",
       "       2.3143833e+03, 2.3155403e+03, 2.3179170e+03, 2.3183794e+03,\n",
       "       2.3238044e+03, 2.3239915e+03, 2.3275759e+03, 2.3275798e+03,\n",
       "       2.3276335e+03, 2.3280181e+03, 2.3292959e+03, 2.3294392e+03,\n",
       "       2.3456367e+03, 2.3457302e+03, 2.3458833e+03, 2.3522278e+03,\n",
       "       2.3522952e+03, 2.3524844e+03, 2.3527637e+03, 2.3528418e+03,\n",
       "       2.3707466e+03, 2.3816921e+03, 2.3820554e+03, 2.3829189e+03,\n",
       "       2.3832913e+03, 2.3847832e+03, 2.3872769e+03, 2.3883752e+03,\n",
       "       2.3896038e+03, 2.3922148e+03, 2.3924695e+03, 2.3929783e+03,\n",
       "       2.3934495e+03, 2.4049985e+03, 2.4080322e+03, 2.4170532e+03,\n",
       "       2.4170742e+03, 2.4170784e+03, 2.4170935e+03, 2.4171436e+03,\n",
       "       2.4171843e+03, 2.4214390e+03, 2.4300225e+03, 2.4325105e+03,\n",
       "       2.4657361e+03, 2.4718848e+03, 2.4745220e+03, 2.4756353e+03,\n",
       "       2.4770557e+03, 2.4788633e+03, 2.4792302e+03, 2.4815996e+03,\n",
       "       2.4865183e+03, 2.4909595e+03, 2.4998875e+03, 2.5027954e+03,\n",
       "       2.5035720e+03, 2.5038579e+03, 2.5039177e+03, 2.5055703e+03,\n",
       "       2.5056655e+03, 2.5058154e+03, 2.5152593e+03, 2.5160044e+03,\n",
       "       2.5223706e+03, 2.5242258e+03, 2.5294724e+03, 2.5336653e+03,\n",
       "       2.5353208e+03, 2.5354517e+03, 2.5355344e+03, 2.5356638e+03,\n",
       "       2.5378738e+03, 2.5379692e+03, 2.5380645e+03, 2.5406086e+03,\n",
       "       2.5407195e+03, 2.5544800e+03, 2.5579568e+03, 2.5614417e+03,\n",
       "       2.5648611e+03, 2.5739729e+03, 2.5773132e+03, 2.5775754e+03,\n",
       "       2.5776755e+03, 2.5789207e+03, 2.5800889e+03, 2.5801575e+03,\n",
       "       2.5801804e+03, 2.5801963e+03, 2.5802185e+03, 2.5803618e+03,\n",
       "       2.5804475e+03, 2.5806760e+03, 2.5812830e+03, 2.5813135e+03,\n",
       "       2.5815457e+03, 2.5816707e+03, 2.5819543e+03, 2.5827566e+03,\n",
       "       2.5827869e+03, 2.5830513e+03, 2.5833516e+03, 2.5845911e+03,\n",
       "       2.5854060e+03, 2.5854653e+03, 2.5855042e+03, 2.5856191e+03,\n",
       "       2.5856343e+03, 2.5856516e+03, 2.5856548e+03, 2.5856611e+03,\n",
       "       2.5869331e+03, 2.5869365e+03, 2.5869766e+03, 2.5874468e+03,\n",
       "       2.5908530e+03, 2.5948367e+03, 2.5948582e+03, 2.5969937e+03,\n",
       "       2.5999927e+03, 2.6095608e+03, 2.6096223e+03, 2.6098521e+03,\n",
       "       2.6099729e+03, 2.6102288e+03, 2.6103955e+03, 2.6105212e+03,\n",
       "       2.6106973e+03, 2.6170715e+03, 2.6188716e+03, 2.6270830e+03,\n",
       "       2.6273032e+03, 2.6277942e+03, 2.6300027e+03, 2.6300952e+03,\n",
       "       2.6308191e+03, 2.6361294e+03, 2.6407302e+03, 2.6450139e+03,\n",
       "       2.6484712e+03, 2.6489910e+03, 2.6496963e+03, 2.6499509e+03,\n",
       "       2.6500784e+03, 2.6502412e+03, 2.6550144e+03, 2.6555879e+03,\n",
       "       2.6559719e+03, 2.6575271e+03, 2.6575476e+03, 2.6576121e+03,\n",
       "       2.6576206e+03, 2.6576597e+03, 2.6580396e+03, 2.6583188e+03,\n",
       "       2.6763423e+03, 2.6781531e+03, 2.6865293e+03, 2.6867214e+03,\n",
       "       2.6885820e+03, 2.6894690e+03], dtype=float32)"
      ]
     },
     "execution_count": 10,
     "metadata": {},
     "output_type": "execute_result"
    }
   ],
   "source": [
    "spike_times[0]"
   ]
  },
  {
   "cell_type": "code",
   "execution_count": 11,
   "id": "celtic-hearing",
   "metadata": {},
   "outputs": [
    {
     "data": {
      "text/plain": [
       "(826,)"
      ]
     },
     "execution_count": 11,
     "metadata": {},
     "output_type": "execute_result"
    }
   ],
   "source": [
    "spike_times[0].shape"
   ]
  },
  {
   "cell_type": "code",
   "execution_count": 12,
   "id": "parliamentary-designer",
   "metadata": {
    "scrolled": true
   },
   "outputs": [
    {
     "name": "stdout",
     "output_type": "stream",
     "text": [
      "Neuron 0:\n",
      "float32\n",
      "[ 0.8149   14.822467 24.9646   25.1436   38.8709  ]\n",
      "\n",
      "\n",
      "Neuron 321:\n",
      "float32\n",
      "[1.0698667 1.1536334 1.2403667 1.7072    1.799    ]\n",
      "\n",
      "\n"
     ]
    }
   ],
   "source": [
    "i_neurons = [0, 321]\n",
    "i_print = slice(0, 5)\n",
    "\n",
    "for i in i_neurons:\n",
    "  print(\n",
    "    \"Neuron {}:\".format(i),\n",
    "    spike_times[i].dtype,\n",
    "    spike_times[i][i_print],\n",
    "    \"\\n\",\n",
    "    sep=\"\\n\"\n",
    "  )"
   ]
  },
  {
   "cell_type": "code",
   "execution_count": 13,
   "id": "alternate-perth",
   "metadata": {},
   "outputs": [
    {
     "name": "stdout",
     "output_type": "stream",
     "text": [
      "Number of neurons: 734\n",
      "Number of spikes for first five neurons: [826, 2818, 3953, 646, 1115]\n"
     ]
    }
   ],
   "source": [
    "n_neurons = len(spike_times)\n",
    "total_spikes_per_neuron = [len(spike_times_i) for spike_times_i in spike_times]\n",
    "\n",
    "print(f\"Number of neurons: {n_neurons}\")\n",
    "print(f\"Number of spikes for first five neurons: {total_spikes_per_neuron[:5]}\")"
   ]
  },
  {
   "cell_type": "code",
   "execution_count": 14,
   "id": "speaking-culture",
   "metadata": {},
   "outputs": [
    {
     "data": {
      "image/png": "[encoded data removed]",
      "text/plain": [
       "<Figure size 432x288 with 1 Axes>"
      ]
     },
     "metadata": {
      "needs_background": "light"
     },
     "output_type": "display_data"
    }
   ],
   "source": [
    "plt.hist(total_spikes_per_neuron, bins=50, histtype=\"stepfilled\")\n",
    "plt.xlabel(\"Total spikes per neuron\")\n",
    "plt.ylabel(\"Number of neurons\");"
   ]
  },
  {
   "cell_type": "code",
   "execution_count": 16,
   "id": "compatible-ownership",
   "metadata": {},
   "outputs": [
    {
     "data": {
      "image/png": "[encoded data removed]",
      "text/plain": [
       "<Figure size 432x288 with 1 Axes>"
      ]
     },
     "metadata": {
      "needs_background": "light"
     },
     "output_type": "display_data"
    }
   ],
   "source": [
    "mean_spike_count = np.mean(total_spikes_per_neuron)\n",
    "plt.hist(total_spikes_per_neuron, bins=50, histtype=\"stepfilled\")\n",
    "plt.xlabel(\"Total spikes per neuron\")\n",
    "plt.ylabel(\"Number of neurons\")\n",
    "plt.axvline(mean_spike_count, color=\"orange\", label=\"Mean neuron\")\n",
    "plt.legend();"
   ]
  },
  {
   "cell_type": "code",
   "execution_count": null,
   "id": "printable-disclosure",
   "metadata": {},
   "outputs": [],
   "source": [
    "# Exercise: Add in a line for the median spike count"
   ]
  },
  {
   "cell_type": "markdown",
   "id": "formal-johns",
   "metadata": {},
   "source": [
    "## Plotting rasters"
   ]
  },
  {
   "cell_type": "code",
   "execution_count": 45,
   "id": "equal-coalition",
   "metadata": {},
   "outputs": [
    {
     "name": "stdout",
     "output_type": "stream",
     "text": [
      "0.0033666666\n",
      "2702.643\n"
     ]
    }
   ],
   "source": [
    "spike_times_flat = np.concatenate(spike_times)\n",
    "print(np.min(spike_times_flat))\n",
    "print(np.max(spike_times_flat))"
   ]
  },
  {
   "cell_type": "code",
   "execution_count": 22,
   "id": "hollywood-assembly",
   "metadata": {},
   "outputs": [],
   "source": [
    "def restrict_spike_times(spike_times, interval):\n",
    "  \"\"\"Given a spike_time dataset, restrict to spikes within given interval.\n",
    "\n",
    "  Args:\n",
    "    spike_times (sequence of np.ndarray): List or array of arrays,\n",
    "      each inner array has spike times for a single neuron.\n",
    "    interval (tuple): Min, max time values; keep min <= t < max.\n",
    "\n",
    "  Returns:\n",
    "    np.ndarray: like `spike_times`, but only within `interval`\n",
    "  \"\"\"\n",
    "  interval_spike_times = []\n",
    "  for spikes in spike_times:\n",
    "    interval_mask = (spikes >= interval[0]) & (spikes < interval[1])\n",
    "    interval_spike_times.append(spikes[interval_mask])\n",
    "  return np.array(interval_spike_times, object)"
   ]
  },
  {
   "cell_type": "code",
   "execution_count": 24,
   "id": "secret-salon",
   "metadata": {
    "scrolled": true
   },
   "outputs": [
    {
     "data": {
      "image/png": "[encoded data removed]",
      "text/plain": [
       "<Figure size 432x288 with 1 Axes>"
      ]
     },
     "metadata": {
      "needs_background": "light"
     },
     "output_type": "display_data"
    }
   ],
   "source": [
    "interval_spike_times = restrict_spike_times(spike_times, (5, 15))\n",
    "neuron_idx = 1\n",
    "plt.eventplot(interval_spike_times[neuron_idx], color=\".2\")\n",
    "plt.xlabel(\"Time (s)\")\n",
    "plt.yticks([]);"
   ]
  },
  {
   "cell_type": "code",
   "execution_count": 25,
   "id": "transparent-importance",
   "metadata": {
    "scrolled": true
   },
   "outputs": [
    {
     "data": {
      "image/png": "[encoded data removed]",
      "text/plain": [
       "<Figure size 432x288 with 1 Axes>"
      ]
     },
     "metadata": {
      "needs_background": "light"
     },
     "output_type": "display_data"
    }
   ],
   "source": [
    "neuron_idx = np.arange(0, len(spike_times), 5)\n",
    "plt.eventplot(interval_spike_times[neuron_idx], color=\".2\")\n",
    "plt.xlabel(\"Time (s)\")\n",
    "plt.yticks([]);"
   ]
  },
  {
   "cell_type": "code",
   "execution_count": 43,
   "id": "premier-clerk",
   "metadata": {},
   "outputs": [
    {
     "data": {
      "text/plain": [
       "(array([ 1.,  3.,  1.,  1.,  2.,  1.,  0.,  0.,  0.,  1.,  0.,  0.,  2.,\n",
       "         2.,  0.,  0.,  0.,  2.,  0.,  0.,  1.,  0.,  2.,  4.,  1.,  0.,\n",
       "         2.,  1.,  2.,  0.,  0.,  0.,  2.,  0.,  0.,  2.,  0.,  4.,  0.,\n",
       "         1.,  0.,  0.,  1.,  2.,  1.,  1.,  0.,  0.,  3.,  0.,  0.,  0.,\n",
       "         0.,  1.,  1.,  2.,  3.,  1.,  0.,  3.,  2.,  3.,  2.,  1.,  1.,\n",
       "         1.,  1.,  1.,  0.,  1.,  3.,  4.,  1.,  0.,  0.,  0.,  6.,  2.,\n",
       "         0.,  2.,  0.,  0.,  2.,  6.,  0., 18.,  6.,  7.,  4.,  6.,  6.,\n",
       "        12., 17.,  3., 11.,  9.,  5., 13., 17.,  3.,  1., 15., 13.,  2.,\n",
       "        10.,  0.,  6.,  2.,  6.,  1.,  0.,  1.,  3.,  2.,  2.,  3., 15.,\n",
       "         0.,  2., 15.,  3.,  7., 16.,  1.,  0.,  3.,  2.,  1.,  2.,  2.,\n",
       "         3.,  1.,  1.,  4., 10.,  2.,  1., 53., 15.,  9.,  6.,  9.,  2.,\n",
       "         9., 12., 15.,  6., 11.,  1.,  2.,  2.,  9.,  7.,  9.,  4.,  5.,\n",
       "         1., 18., 12., 16.,  5.,  3.,  1.,  1.,  5.,  1.,  5.,  8.,  1.,\n",
       "         1.,  3.,  3.,  9.,  6.,  8.,  0.,  1., 12.,  1.,  7.,  3.,  0.,\n",
       "         0.,  2.,  7.,  2.,  7.,  4., 11.,  1.,  3., 17., 21.,  2., 10.,\n",
       "         6.,  5., 14.,  0.,  6.]),\n",
       " array([8.1489998e-01, 1.4258170e+01, 2.7701441e+01, 4.1144711e+01,\n",
       "        5.4587982e+01, 6.8031250e+01, 8.1474525e+01, 9.4917793e+01,\n",
       "        1.0836106e+02, 1.2180434e+02, 1.3524760e+02, 1.4869087e+02,\n",
       "        1.6213414e+02, 1.7557742e+02, 1.8902069e+02, 2.0246396e+02,\n",
       "        2.1590723e+02, 2.2935049e+02, 2.4279376e+02, 2.5623703e+02,\n",
       "        2.6968030e+02, 2.8312357e+02, 2.9656686e+02, 3.1001013e+02,\n",
       "        3.2345340e+02, 3.3689667e+02, 3.5033994e+02, 3.6378320e+02,\n",
       "        3.7722647e+02, 3.9066974e+02, 4.0411301e+02, 4.1755627e+02,\n",
       "        4.3099954e+02, 4.4444284e+02, 4.5788611e+02, 4.7132938e+02,\n",
       "        4.8477264e+02, 4.9821591e+02, 5.1165918e+02, 5.2510248e+02,\n",
       "        5.3854572e+02, 5.5198901e+02, 5.6543225e+02, 5.7887555e+02,\n",
       "        5.9231879e+02, 6.0576208e+02, 6.1920532e+02, 6.3264862e+02,\n",
       "        6.4609186e+02, 6.5953516e+02, 6.7297839e+02, 6.8642169e+02,\n",
       "        6.9986499e+02, 7.1330823e+02, 7.2675153e+02, 7.4019476e+02,\n",
       "        7.5363806e+02, 7.6708130e+02, 7.8052460e+02, 7.9396783e+02,\n",
       "        8.0741113e+02, 8.2085437e+02, 8.3429767e+02, 8.4774097e+02,\n",
       "        8.6118420e+02, 8.7462750e+02, 8.8807074e+02, 9.0151404e+02,\n",
       "        9.1495728e+02, 9.2840057e+02, 9.4184381e+02, 9.5528711e+02,\n",
       "        9.6873035e+02, 9.8217365e+02, 9.9561694e+02, 1.0090602e+03,\n",
       "        1.0225035e+03, 1.0359468e+03, 1.0493900e+03, 1.0628333e+03,\n",
       "        1.0762765e+03, 1.0897198e+03, 1.1031631e+03, 1.1166063e+03,\n",
       "        1.1300496e+03, 1.1434929e+03, 1.1569362e+03, 1.1703794e+03,\n",
       "        1.1838228e+03, 1.1972660e+03, 1.2107092e+03, 1.2241525e+03,\n",
       "        1.2375958e+03, 1.2510391e+03, 1.2644823e+03, 1.2779255e+03,\n",
       "        1.2913689e+03, 1.3048121e+03, 1.3182554e+03, 1.3316987e+03,\n",
       "        1.3451420e+03, 1.3585852e+03, 1.3720284e+03, 1.3854718e+03,\n",
       "        1.3989150e+03, 1.4123583e+03, 1.4258015e+03, 1.4392449e+03,\n",
       "        1.4526881e+03, 1.4661313e+03, 1.4795747e+03, 1.4930179e+03,\n",
       "        1.5064612e+03, 1.5199044e+03, 1.5333478e+03, 1.5467910e+03,\n",
       "        1.5602343e+03, 1.5736775e+03, 1.5871208e+03, 1.6005641e+03,\n",
       "        1.6140073e+03, 1.6274507e+03, 1.6408939e+03, 1.6543372e+03,\n",
       "        1.6677804e+03, 1.6812238e+03, 1.6946670e+03, 1.7081102e+03,\n",
       "        1.7215535e+03, 1.7349968e+03, 1.7484401e+03, 1.7618833e+03,\n",
       "        1.7753267e+03, 1.7887699e+03, 1.8022131e+03, 1.8156564e+03,\n",
       "        1.8290997e+03, 1.8425430e+03, 1.8559862e+03, 1.8694294e+03,\n",
       "        1.8828728e+03, 1.8963160e+03, 1.9097593e+03, 1.9232026e+03,\n",
       "        1.9366459e+03, 1.9500891e+03, 1.9635323e+03, 1.9769757e+03,\n",
       "        1.9904189e+03, 2.0038622e+03, 2.0173054e+03, 2.0307488e+03,\n",
       "        2.0441920e+03, 2.0576353e+03, 2.0710786e+03, 2.0845217e+03,\n",
       "        2.0979651e+03, 2.1114084e+03, 2.1248516e+03, 2.1382949e+03,\n",
       "        2.1517383e+03, 2.1651814e+03, 2.1786248e+03, 2.1920679e+03,\n",
       "        2.2055112e+03, 2.2189546e+03, 2.2323977e+03, 2.2458411e+03,\n",
       "        2.2592844e+03, 2.2727275e+03, 2.2861709e+03, 2.2996143e+03,\n",
       "        2.3130574e+03, 2.3265007e+03, 2.3399438e+03, 2.3533872e+03,\n",
       "        2.3668306e+03, 2.3802737e+03, 2.3937170e+03, 2.4071604e+03,\n",
       "        2.4206035e+03, 2.4340469e+03, 2.4474902e+03, 2.4609333e+03,\n",
       "        2.4743767e+03, 2.4878198e+03, 2.5012632e+03, 2.5147065e+03,\n",
       "        2.5281497e+03, 2.5415930e+03, 2.5550364e+03, 2.5684795e+03,\n",
       "        2.5819229e+03, 2.5953662e+03, 2.6088093e+03, 2.6222527e+03,\n",
       "        2.6356958e+03, 2.6491392e+03, 2.6625825e+03, 2.6760256e+03,\n",
       "        2.6894690e+03], dtype=float32),\n",
       " <BarContainer object of 200 artists>)"
      ]
     },
     "execution_count": 43,
     "metadata": {},
     "output_type": "execute_result"
    },
    {
     "data": {
      "image/png": "[encoded data removed]",
      "text/plain": [
       "<Figure size 432x288 with 1 Axes>"
      ]
     },
     "metadata": {
      "needs_background": "light"
     },
     "output_type": "display_data"
    }
   ],
   "source": [
    "n_bins = 200\n",
    "neuron_idx = 0\n",
    "plt.hist(spike_times[neuron_idx], bins=n_bins)"
   ]
  },
  {
   "cell_type": "code",
   "execution_count": 44,
   "id": "insured-filename",
   "metadata": {},
   "outputs": [],
   "source": [
    "# What is the average firing rate?\n",
    "# What is the average firing rate from time 100 to 150?"
   ]
  },
  {
   "cell_type": "code",
   "execution_count": 48,
   "id": "enhanced-wyoming",
   "metadata": {},
   "outputs": [],
   "source": [
    "bins = np.arange(0, 2710, 10)\n",
    "psths = np.asarray([np.histogram(spike_times[i], bins=bins)[0] for i in range(spike_times.shape[0])])"
   ]
  },
  {
   "cell_type": "code",
   "execution_count": 52,
   "id": "coated-briefs",
   "metadata": {},
   "outputs": [],
   "source": [
    "from sklearn.decomposition import PCA\n",
    "pca = PCA(n_components = 3)\n",
    "neurons_decomp = pca.fit_transform(psths)"
   ]
  },
  {
   "cell_type": "code",
   "execution_count": 61,
   "id": "aggressive-christopher",
   "metadata": {},
   "outputs": [
    {
     "data": {
      "text/plain": [
       "<matplotlib.collections.PathCollection at 0x7ff516bb5e80>"
      ]
     },
     "execution_count": 61,
     "metadata": {},
     "output_type": "execute_result"
    },
    {
     "data": {
      "image/png": "[encoded data removed]",
      "text/plain": [
       "<Figure size 432x288 with 1 Axes>"
      ]
     },
     "metadata": {
      "needs_background": "light"
     },
     "output_type": "display_data"
    }
   ],
   "source": [
    "plt.scatter(x=neurons_decomp[:, 0], y=neurons_decomp[:, 1])"
   ]
  },
  {
   "cell_type": "markdown",
   "id": "constitutional-academy",
   "metadata": {},
   "source": [
    "## Getting trialed spike rates"
   ]
  },
  {
   "cell_type": "code",
   "execution_count": 31,
   "id": "cooperative-spread",
   "metadata": {},
   "outputs": [],
   "source": [
    "#@title Data retrieval and loading\n",
    "import os\n",
    "import requests\n",
    "import hashlib\n",
    "\n",
    "url = \"https://osf.io/r9gh8/download\"\n",
    "fname = \"W1D4_steinmetz_data.npz\"\n",
    "expected_md5 = \"d19716354fed0981267456b80db07ea8\"\n",
    "\n",
    "if not os.path.isfile(fname):\n",
    "  try:\n",
    "    r = requests.get(url)\n",
    "  except requests.ConnectionError:\n",
    "    print(\"!!! Failed to download data !!!\")\n",
    "  else:\n",
    "    if r.status_code != requests.codes.ok:\n",
    "      print(\"!!! Failed to download data !!!\")\n",
    "    elif hashlib.md5(r.content).hexdigest() != expected_md5:\n",
    "      print(\"!!! Data download appears corrupted !!!\")\n",
    "    else:\n",
    "      with open(fname, \"wb\") as fid:\n",
    "        fid.write(r.content)\n",
    "\n",
    "def load_steinmetz_data(data_fname=fname):\n",
    "\n",
    "  with np.load(data_fname) as dobj:\n",
    "    data = dict(**dobj)\n",
    "\n",
    "  return data"
   ]
  },
  {
   "cell_type": "code",
   "execution_count": 32,
   "id": "governmental-arrow",
   "metadata": {},
   "outputs": [
    {
     "name": "stdout",
     "output_type": "stream",
     "text": [
      "spikes (276, 691)\n",
      "choices (276,)\n"
     ]
    }
   ],
   "source": [
    "data = load_steinmetz_data()\n",
    "for key, val in data.items():\n",
    "  print(key, val.shape)"
   ]
  },
  {
   "cell_type": "code",
   "execution_count": 62,
   "id": "plastic-element",
   "metadata": {},
   "outputs": [],
   "source": [
    "y = data[\"choices\"]\n",
    "X = data[\"spikes\"]"
   ]
  },
  {
   "cell_type": "code",
   "execution_count": 64,
   "id": "documented-invention",
   "metadata": {},
   "outputs": [
    {
     "data": {
      "text/plain": [
       "LogisticRegression(C=1.0, class_weight=None, dual=False, fit_intercept=True,\n",
       "                   intercept_scaling=1, l1_ratio=None, max_iter=100,\n",
       "                   multi_class='auto', n_jobs=None, penalty='none',\n",
       "                   random_state=None, solver='lbfgs', tol=0.0001, verbose=0,\n",
       "                   warm_start=False)"
      ]
     },
     "execution_count": 64,
     "metadata": {},
     "output_type": "execute_result"
    }
   ],
   "source": [
    "from sklearn.linear_model import LogisticRegression\n",
    "# Define the model\n",
    "log_reg = LogisticRegression(penalty=\"none\")\n",
    "\n",
    "# Fit it to data\n",
    "log_reg.fit(X, y)"
   ]
  },
  {
   "cell_type": "code",
   "execution_count": 65,
   "id": "micro-policy",
   "metadata": {},
   "outputs": [],
   "source": [
    "y_pred = log_reg.predict(X)"
   ]
  },
  {
   "cell_type": "code",
   "execution_count": 67,
   "id": "expected-textbook",
   "metadata": {},
   "outputs": [],
   "source": [
    "# TODO: Calculate the accuracy of your linear regression"
   ]
  },
  {
   "cell_type": "code",
   "execution_count": 68,
   "id": "dress-herald",
   "metadata": {},
   "outputs": [],
   "source": [
    "from sklearn.model_selection import cross_val_score\n",
    "accuracies = cross_val_score(LogisticRegression(penalty='none'), X, y, cv=8)  # k=8 cross validation"
   ]
  }
 ],
 "metadata": {
  "kernelspec": {
   "display_name": "Python 3",
   "language": "python",
   "name": "python3"
  },
  "language_info": {
   "codemirror_mode": {
    "name": "ipython",
    "version": 3
   },
   "file_extension": ".py",
   "mimetype": "text/x-python",
   "name": "python",
   "nbconvert_exporter": "python",
   "pygments_lexer": "ipython3",
   "version": "3.7.3"
  },
  "toc": {
   "base_numbering": 1,
   "nav_menu": {},
   "number_sections": true,
   "sideBar": true,
   "skip_h1_title": false,
   "title_cell": "Table of Contents",
   "title_sidebar": "Contents",
   "toc_cell": false,
   "toc_position": {},
   "toc_section_display": true,
   "toc_window_display": false
  }
 },
 "nbformat": 4,
 "nbformat_minor": 5
}
