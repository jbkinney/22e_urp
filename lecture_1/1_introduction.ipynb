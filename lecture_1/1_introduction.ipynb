{
 "cells": [
  {
   "cell_type": "markdown",
   "metadata": {},
   "source": [
    "# Notebook 1: Introduction"
   ]
  },
  {
   "cell_type": "markdown",
   "metadata": {},
   "source": [
    "## Welcome to Python"
   ]
  },
  {
   "cell_type": "markdown",
   "metadata": {},
   "source": [
    "In this course we will focus on the Python programming language. There are a number of reasons for this:\n",
    "\n",
    "**Python is one of the easiest languages to learn, to write, and to read.** More than almost any other programming language,  Python code looks like pseudocode. Many aspects of the language help to enforce clarity. There is also a set of convensions, called the [PEP 8 Style Guide](https://www.python.org/dev/peps/pep-0008/), that most programmers have adopted to make their code as clear as possible.\n",
    "\n",
    "**Python allows you to create new code fast**. It is designed to allow you to write programs as quickly and as painlessly as possible. One feature of Python that enables rapid prototyping is that it is an \"interpreted\" language: each line is executed by the Python interpreter one after the next. This is different than C, C++, or Java, which require that programs first be \"compiled\", i.e. translated in their entirety from code to byte code before they are run. \n",
    "\n",
    "**Python is very flexible.** With Python you can do image analysis, sequence analysis, exploratory data analysis, and create publication-quality figures. You can write small analysis scripts or write major software applications. You can use Python at the command line, within a Jupyter notebook (such as this one), or within an interactive programming environment.  \n",
    "\n",
    "**Python is well-supported.** There is an enormous user base for Python. This means that a simple Google search can usually answer any Python programming question you have. There are also a large number of mature 3rd party packages for a wide variety of tasks including image analysis, numerical computation, machine learning, statistics, and graphics. \n",
    "\n",
    "**Python skills are highly valued.** There is great demand for people who know Python, and that demand is rapidly increasing. This is true in both academic resaerch and in industry. In particular, Python has become the de facto language of Deep Learning / Artificial Intelligence. "
   ]
  },
  {
   "cell_type": "markdown",
   "metadata": {},
   "source": [
    "The official python documentation page is https://www.python.org/. Lots of good documentation and tutorials can be found here. Another great resource for programmers is Stack Overflow at http://stackoverflow.com/. The best resource, however, is usually Google. Just google a question you have and the answer will likely be found in the first or second hit."
   ]
  },
  {
   "cell_type": "markdown",
   "metadata": {},
   "source": [
    "Note: The R language is also very popular in biology and statistics, and arguably has a larger set of tools written for biological data analysis than does Python. We will not cover this language here, but once you learn Python it should be relatively easy to learn R. There is also a substantial amount of online material to help anyone interested in learning R. (This is also true of Matlab, popular with engineers and neuroscientists.)"
   ]
  },
  {
   "cell_type": "markdown",
   "metadata": {},
   "source": [
    "**Beware: There are 2 mutually incompatible versions of Python in widespread use: Python 2 and Python 3. We will use 3.7 throughout. **"
   ]
  },
  {
   "cell_type": "markdown",
   "metadata": {},
   "source": [
    "## Jupyter notebooks"
   ]
  },
  {
   "cell_type": "markdown",
   "metadata": {},
   "source": [
    "This is an **Jupyter notebook**. You can learn more about these on the Jupyter project website, http://jupyter.org/. Jupyter notebooks provide a conveneint interface to Python. They allow you to include fully functional Python code inside of a document that also contains markdown (i.e. text like this) and figures that show analysis results. This type of hybrid document provides a very powerful method of interactive data anlysis. I encourage taking advantage of this. In fact I use Jupyter notebooks for most of my data anlysis tasks. Only when I start writing production code do I switch over to more standard Python scripts. "
   ]
  },
  {
   "cell_type": "markdown",
   "metadata": {},
   "source": [
    "If your computer runs a UNIX-like command line, and you've installed the proper software (e.g. the Anaconda Python distribution, https://www.anaconda.com/products/distribution), you can start a Jupyter notebook by typing this at the command line an pressing enter:\n",
    "\n",
    "```\n",
    "jupyter notebook\n",
    "```\n",
    "\n"
   ]
  },
  {
   "cell_type": "markdown",
   "metadata": {},
   "source": [
    "For this course, however, we will be using Google CoLab to avoid the potential headache of installing local versions of python on each of your computers. For our purposes, CoLab works nearly identically to Jupyter notebook except that they are run remotely on of Google servers instead of on your own machine."
   ]
  },
  {
   "cell_type": "markdown",
   "metadata": {},
   "source": [
    "## Markdown cells"
   ]
  },
  {
   "cell_type": "markdown",
   "metadata": {},
   "source": [
    "To create a markdown cell, Click the '+' button in the menue above. Then choose 'Markdown' from the drop-down menu."
   ]
  },
  {
   "cell_type": "markdown",
   "metadata": {},
   "source": [
    "Markdown is a simple yet powerful way of creating sylized text. For example, you can embed LaTeX code to create an equation:\n",
    "\n",
    "$$\\sin x =  \\sum_{n=0}^\\infty \\frac{(-1)^n x^{2n+1}}{(2n+1)!}$$\n",
    "\n",
    "You can add HTML, e.g. to embed images:\n",
    "\n",
    "<img src=\"cshl.jpg\" alt=\"Drawing\" style=\"width: 400px;\"/>\n",
    "\n",
    "Here is a [Markdown Cheat Sheet](https://github.com/adam-p/markdown-here/wiki/Markdown-Here-Cheatsheet) for reference."
   ]
  },
  {
   "cell_type": "markdown",
   "metadata": {},
   "source": [
    "## Code cells"
   ]
  },
  {
   "cell_type": "markdown",
   "metadata": {},
   "source": [
    "Code cells contain snippets of Python code that you can execute by pressing Shift+Enter. Here is a code cell illustrating this with a simple Hello World program:"
   ]
  },
  {
   "cell_type": "code",
   "execution_count": 1,
   "metadata": {
    "ExecuteTime": {
     "end_time": "2022-06-08T19:25:22.142594Z",
     "start_time": "2022-06-08T19:25:22.140920Z"
    }
   },
   "outputs": [
    {
     "name": "stdout",
     "output_type": "stream",
     "text": [
      "Hello World!\n"
     ]
    }
   ],
   "source": [
    "print(\"Hello World!\") # The Hello World program!"
   ]
  },
  {
   "cell_type": "code",
   "execution_count": 2,
   "metadata": {
    "ExecuteTime": {
     "end_time": "2022-06-08T19:25:22.145110Z",
     "start_time": "2022-06-08T19:25:22.143713Z"
    }
   },
   "outputs": [
    {
     "name": "stdout",
     "output_type": "stream",
     "text": [
      "Hello Justin\n"
     ]
    }
   ],
   "source": [
    "name = \"Justin\"\n",
    "print(\"Hello \" + name)"
   ]
  },
  {
   "cell_type": "markdown",
   "metadata": {},
   "source": [
    "Here, name is a variable we defined! What is a variable? A variable is a symbol (a letter or a group of letters) that serves as a stand in for some value. We can set variables to anything, and change those values around as well."
   ]
  },
  {
   "cell_type": "code",
   "execution_count": 3,
   "metadata": {
    "ExecuteTime": {
     "end_time": "2022-06-08T19:25:22.148959Z",
     "start_time": "2022-06-08T19:25:22.146070Z"
    }
   },
   "outputs": [
    {
     "name": "stdout",
     "output_type": "stream",
     "text": [
      "fruit1 is apple\n"
     ]
    }
   ],
   "source": [
    "fruit1 = \"apple\"\n",
    "print(\"fruit1 is \" + fruit1)"
   ]
  },
  {
   "cell_type": "code",
   "execution_count": 4,
   "metadata": {
    "ExecuteTime": {
     "end_time": "2022-06-08T19:25:22.152603Z",
     "start_time": "2022-06-08T19:25:22.150614Z"
    }
   },
   "outputs": [
    {
     "name": "stdout",
     "output_type": "stream",
     "text": [
      "fruit2 is banana\n"
     ]
    }
   ],
   "source": [
    "fruit2 = \"banana\"\n",
    "print(\"fruit2 is \" + fruit2)"
   ]
  },
  {
   "cell_type": "code",
   "execution_count": 5,
   "metadata": {
    "ExecuteTime": {
     "end_time": "2022-06-08T19:25:22.155519Z",
     "start_time": "2022-06-08T19:25:22.153475Z"
    },
    "scrolled": true
   },
   "outputs": [
    {
     "name": "stdout",
     "output_type": "stream",
     "text": [
      "fruit3 is apple\n"
     ]
    }
   ],
   "source": [
    "fruit3 = fruit2\n",
    "print(\"fruit3 is \" + fruit1)"
   ]
  },
  {
   "cell_type": "markdown",
   "metadata": {},
   "source": [
    "We will review different types of the most common variables in the next notebook."
   ]
  },
  {
   "cell_type": "markdown",
   "metadata": {},
   "source": [
    "All but the most trivial uses of Python usually require packages that must be imported. Some of the most common packages are `numpy`, `pandas`, and `matplotlib`. To import these, and to assign these packages useful aliases, execute the code below. Although it is not required, [PEP 8 recommends](https://www.python.org/dev/peps/pep-0008/#imports) that you do all package imports at the top of each Python document."
   ]
  },
  {
   "cell_type": "code",
   "execution_count": 6,
   "metadata": {
    "ExecuteTime": {
     "end_time": "2022-06-08T19:25:22.468697Z",
     "start_time": "2022-06-08T19:25:22.156243Z"
    }
   },
   "outputs": [],
   "source": [
    "# First code cell\n",
    "import numpy as np               # numpy is the standard numerical computing package\n",
    "import pandas as pd              # pandas is the standard pacakge for working with dataframes\n",
    "import matplotlib.pyplot as plt  # matplotlib is the standard plotting package"
   ]
  },
  {
   "cell_type": "markdown",
   "metadata": {},
   "source": [
    "Jupyter notebooks also have a variety of [magic commands](https://ipython.readthedocs.io/en/stable/interactive/magics.html). These are special built-in commands that being with a `%` sign. The one below causes `matplolib` (the primary Python plotting package, imported above) to insert plots into the notebook instead of in separate windows. I usually include this right under my imports."
   ]
  },
  {
   "cell_type": "code",
   "execution_count": 7,
   "metadata": {
    "ExecuteTime": {
     "end_time": "2022-06-08T19:25:22.473490Z",
     "start_time": "2022-06-08T19:25:22.470252Z"
    }
   },
   "outputs": [],
   "source": [
    "%matplotlib inline"
   ]
  },
  {
   "cell_type": "markdown",
   "metadata": {},
   "source": [
    "## Short example: Drawing sequence logos\n",
    "\n",
    "To give you just a taste of how Jupyter notebooks are used, we will install a piece of software called Logomaker and use it to make sequence logos\n",
    "\n",
    "You can also install software from within jupyter notebooks"
   ]
  },
  {
   "cell_type": "code",
   "execution_count": 8,
   "metadata": {
    "ExecuteTime": {
     "end_time": "2022-06-08T19:25:23.688767Z",
     "start_time": "2022-06-08T19:25:22.474651Z"
    }
   },
   "outputs": [
    {
     "name": "stdout",
     "output_type": "stream",
     "text": [
      "Requirement already satisfied: logomaker in /Users/jkinney/miniforge3_arm64/lib/python3.9/site-packages (0.8)\n",
      "Requirement already satisfied: numpy in /Users/jkinney/miniforge3_arm64/lib/python3.9/site-packages (from logomaker) (1.19.5)\n",
      "Requirement already satisfied: pandas in /Users/jkinney/miniforge3_arm64/lib/python3.9/site-packages (from logomaker) (1.3.3)\n",
      "Requirement already satisfied: matplotlib in /Users/jkinney/miniforge3_arm64/lib/python3.9/site-packages (from logomaker) (3.4.2)\n",
      "Requirement already satisfied: cycler>=0.10 in /Users/jkinney/miniforge3_arm64/lib/python3.9/site-packages (from matplotlib->logomaker) (0.10.0)\n",
      "Requirement already satisfied: python-dateutil>=2.7 in /Users/jkinney/miniforge3_arm64/lib/python3.9/site-packages (from matplotlib->logomaker) (2.8.1)\n",
      "Requirement already satisfied: pillow>=6.2.0 in /Users/jkinney/miniforge3_arm64/lib/python3.9/site-packages (from matplotlib->logomaker) (8.2.0)\n",
      "Requirement already satisfied: pyparsing>=2.2.1 in /Users/jkinney/miniforge3_arm64/lib/python3.9/site-packages (from matplotlib->logomaker) (2.4.7)\n",
      "Requirement already satisfied: kiwisolver>=1.0.1 in /Users/jkinney/miniforge3_arm64/lib/python3.9/site-packages (from matplotlib->logomaker) (1.3.1)\n",
      "Requirement already satisfied: six in /Users/jkinney/miniforge3_arm64/lib/python3.9/site-packages (from cycler>=0.10->matplotlib->logomaker) (1.15.0)\n",
      "Requirement already satisfied: pytz>=2017.3 in /Users/jkinney/miniforge3_arm64/lib/python3.9/site-packages (from pandas->logomaker) (2021.1)\n",
      "\u001b[33mWARNING: You are using pip version 21.2.4; however, version 22.1.2 is available.\n",
      "You should consider upgrading via the '/Users/jkinney/miniforge3_arm64/bin/python -m pip install --upgrade pip' command.\u001b[0m\n"
     ]
    }
   ],
   "source": [
    "# Add an exclamation point in front of a statment to execute that statement at the command line|\n",
    "!pip install logomaker\n",
    "\n",
    "# Import the newly installed logomaker package\n",
    "import logomaker"
   ]
  },
  {
   "cell_type": "code",
   "execution_count": 9,
   "metadata": {
    "ExecuteTime": {
     "end_time": "2022-06-08T19:25:23.697375Z",
     "start_time": "2022-06-08T19:25:23.689479Z"
    }
   },
   "outputs": [
    {
     "data": {
      "text/html": [
       "<div>\n",
       "<style scoped>\n",
       "    .dataframe tbody tr th:only-of-type {\n",
       "        vertical-align: middle;\n",
       "    }\n",
       "\n",
       "    .dataframe tbody tr th {\n",
       "        vertical-align: top;\n",
       "    }\n",
       "\n",
       "    .dataframe thead th {\n",
       "        text-align: right;\n",
       "    }\n",
       "</style>\n",
       "<table border=\"1\" class=\"dataframe\">\n",
       "  <thead>\n",
       "    <tr style=\"text-align: right;\">\n",
       "      <th></th>\n",
       "      <th>A</th>\n",
       "      <th>C</th>\n",
       "      <th>G</th>\n",
       "      <th>T</th>\n",
       "    </tr>\n",
       "    <tr>\n",
       "      <th>pos</th>\n",
       "      <th></th>\n",
       "      <th></th>\n",
       "      <th></th>\n",
       "      <th></th>\n",
       "    </tr>\n",
       "  </thead>\n",
       "  <tbody>\n",
       "    <tr>\n",
       "      <th>0</th>\n",
       "      <td>0.183642</td>\n",
       "      <td>-0.155864</td>\n",
       "      <td>-0.094136</td>\n",
       "      <td>0.066358</td>\n",
       "    </tr>\n",
       "    <tr>\n",
       "      <th>1</th>\n",
       "      <td>0.290123</td>\n",
       "      <td>-0.277778</td>\n",
       "      <td>-0.111111</td>\n",
       "      <td>0.098765</td>\n",
       "    </tr>\n",
       "    <tr>\n",
       "      <th>2</th>\n",
       "      <td>0.276235</td>\n",
       "      <td>-0.316358</td>\n",
       "      <td>-0.168210</td>\n",
       "      <td>0.208333</td>\n",
       "    </tr>\n",
       "    <tr>\n",
       "      <th>3</th>\n",
       "      <td>0.226852</td>\n",
       "      <td>-0.285494</td>\n",
       "      <td>-0.297840</td>\n",
       "      <td>0.356481</td>\n",
       "    </tr>\n",
       "    <tr>\n",
       "      <th>4</th>\n",
       "      <td>0.060185</td>\n",
       "      <td>-0.143519</td>\n",
       "      <td>-0.057099</td>\n",
       "      <td>0.140432</td>\n",
       "    </tr>\n",
       "    <tr>\n",
       "      <th>5</th>\n",
       "      <td>-0.294753</td>\n",
       "      <td>0.168210</td>\n",
       "      <td>-0.486111</td>\n",
       "      <td>0.612654</td>\n",
       "    </tr>\n",
       "    <tr>\n",
       "      <th>6</th>\n",
       "      <td>-0.179012</td>\n",
       "      <td>-0.617284</td>\n",
       "      <td>0.851852</td>\n",
       "      <td>-0.055556</td>\n",
       "    </tr>\n",
       "    <tr>\n",
       "      <th>7</th>\n",
       "      <td>-0.033951</td>\n",
       "      <td>-0.212963</td>\n",
       "      <td>-0.324074</td>\n",
       "      <td>0.570988</td>\n",
       "    </tr>\n",
       "    <tr>\n",
       "      <th>8</th>\n",
       "      <td>-0.444444</td>\n",
       "      <td>-0.592593</td>\n",
       "      <td>1.117284</td>\n",
       "      <td>-0.080247</td>\n",
       "    </tr>\n",
       "    <tr>\n",
       "      <th>9</th>\n",
       "      <td>0.628086</td>\n",
       "      <td>0.060185</td>\n",
       "      <td>-0.285494</td>\n",
       "      <td>-0.402778</td>\n",
       "    </tr>\n",
       "    <tr>\n",
       "      <th>10</th>\n",
       "      <td>-0.291667</td>\n",
       "      <td>0.214506</td>\n",
       "      <td>-0.075617</td>\n",
       "      <td>0.152778</td>\n",
       "    </tr>\n",
       "    <tr>\n",
       "      <th>11</th>\n",
       "      <td>-0.091049</td>\n",
       "      <td>0.223765</td>\n",
       "      <td>-0.004630</td>\n",
       "      <td>-0.128086</td>\n",
       "    </tr>\n",
       "    <tr>\n",
       "      <th>12</th>\n",
       "      <td>-0.111111</td>\n",
       "      <td>0.024691</td>\n",
       "      <td>-0.074074</td>\n",
       "      <td>0.160494</td>\n",
       "    </tr>\n",
       "    <tr>\n",
       "      <th>13</th>\n",
       "      <td>0.137346</td>\n",
       "      <td>-0.084877</td>\n",
       "      <td>0.063272</td>\n",
       "      <td>-0.115741</td>\n",
       "    </tr>\n",
       "    <tr>\n",
       "      <th>14</th>\n",
       "      <td>-0.162037</td>\n",
       "      <td>0.041667</td>\n",
       "      <td>0.189815</td>\n",
       "      <td>-0.069444</td>\n",
       "    </tr>\n",
       "    <tr>\n",
       "      <th>15</th>\n",
       "      <td>0.336420</td>\n",
       "      <td>-0.114198</td>\n",
       "      <td>-0.003086</td>\n",
       "      <td>-0.219136</td>\n",
       "    </tr>\n",
       "    <tr>\n",
       "      <th>16</th>\n",
       "      <td>-0.444444</td>\n",
       "      <td>-0.302469</td>\n",
       "      <td>0.049383</td>\n",
       "      <td>0.697531</td>\n",
       "    </tr>\n",
       "    <tr>\n",
       "      <th>17</th>\n",
       "      <td>-0.080247</td>\n",
       "      <td>1.098765</td>\n",
       "      <td>-0.611111</td>\n",
       "      <td>-0.407407</td>\n",
       "    </tr>\n",
       "    <tr>\n",
       "      <th>18</th>\n",
       "      <td>0.586420</td>\n",
       "      <td>-0.370370</td>\n",
       "      <td>-0.179012</td>\n",
       "      <td>-0.037037</td>\n",
       "    </tr>\n",
       "    <tr>\n",
       "      <th>19</th>\n",
       "      <td>0.174383</td>\n",
       "      <td>0.686728</td>\n",
       "      <td>-0.677469</td>\n",
       "      <td>-0.183642</td>\n",
       "    </tr>\n",
       "    <tr>\n",
       "      <th>20</th>\n",
       "      <td>0.800926</td>\n",
       "      <td>-0.544753</td>\n",
       "      <td>0.177469</td>\n",
       "      <td>-0.433642</td>\n",
       "    </tr>\n",
       "    <tr>\n",
       "      <th>21</th>\n",
       "      <td>0.220679</td>\n",
       "      <td>-0.223765</td>\n",
       "      <td>-0.057099</td>\n",
       "      <td>0.060185</td>\n",
       "    </tr>\n",
       "    <tr>\n",
       "      <th>22</th>\n",
       "      <td>0.066358</td>\n",
       "      <td>-0.174383</td>\n",
       "      <td>-0.427469</td>\n",
       "      <td>0.535494</td>\n",
       "    </tr>\n",
       "    <tr>\n",
       "      <th>23</th>\n",
       "      <td>0.146605</td>\n",
       "      <td>-0.149691</td>\n",
       "      <td>-0.248457</td>\n",
       "      <td>0.251543</td>\n",
       "    </tr>\n",
       "    <tr>\n",
       "      <th>24</th>\n",
       "      <td>-0.157407</td>\n",
       "      <td>0.083333</td>\n",
       "      <td>-0.243827</td>\n",
       "      <td>0.317901</td>\n",
       "    </tr>\n",
       "    <tr>\n",
       "      <th>25</th>\n",
       "      <td>-0.121914</td>\n",
       "      <td>-0.016975</td>\n",
       "      <td>-0.091049</td>\n",
       "      <td>0.229938</td>\n",
       "    </tr>\n",
       "  </tbody>\n",
       "</table>\n",
       "</div>"
      ],
      "text/plain": [
       "            A         C         G         T\n",
       "pos                                        \n",
       "0    0.183642 -0.155864 -0.094136  0.066358\n",
       "1    0.290123 -0.277778 -0.111111  0.098765\n",
       "2    0.276235 -0.316358 -0.168210  0.208333\n",
       "3    0.226852 -0.285494 -0.297840  0.356481\n",
       "4    0.060185 -0.143519 -0.057099  0.140432\n",
       "5   -0.294753  0.168210 -0.486111  0.612654\n",
       "6   -0.179012 -0.617284  0.851852 -0.055556\n",
       "7   -0.033951 -0.212963 -0.324074  0.570988\n",
       "8   -0.444444 -0.592593  1.117284 -0.080247\n",
       "9    0.628086  0.060185 -0.285494 -0.402778\n",
       "10  -0.291667  0.214506 -0.075617  0.152778\n",
       "11  -0.091049  0.223765 -0.004630 -0.128086\n",
       "12  -0.111111  0.024691 -0.074074  0.160494\n",
       "13   0.137346 -0.084877  0.063272 -0.115741\n",
       "14  -0.162037  0.041667  0.189815 -0.069444\n",
       "15   0.336420 -0.114198 -0.003086 -0.219136\n",
       "16  -0.444444 -0.302469  0.049383  0.697531\n",
       "17  -0.080247  1.098765 -0.611111 -0.407407\n",
       "18   0.586420 -0.370370 -0.179012 -0.037037\n",
       "19   0.174383  0.686728 -0.677469 -0.183642\n",
       "20   0.800926 -0.544753  0.177469 -0.433642\n",
       "21   0.220679 -0.223765 -0.057099  0.060185\n",
       "22   0.066358 -0.174383 -0.427469  0.535494\n",
       "23   0.146605 -0.149691 -0.248457  0.251543\n",
       "24  -0.157407  0.083333 -0.243827  0.317901\n",
       "25  -0.121914 -0.016975 -0.091049  0.229938"
      ]
     },
     "execution_count": 9,
     "metadata": {},
     "output_type": "execute_result"
    }
   ],
   "source": [
    "# Load crp energy matrix in the form of a pandas dataframe\n",
    "crp_df = -logomaker.get_example_matrix('crp_energy_matrix',\n",
    "                                        print_description=False)\n",
    "crp_df"
   ]
  },
  {
   "cell_type": "code",
   "execution_count": 10,
   "metadata": {
    "ExecuteTime": {
     "end_time": "2022-06-08T19:25:24.072258Z",
     "start_time": "2022-06-08T19:25:23.697994Z"
    }
   },
   "outputs": [
    {
     "data": {
      "image/png": "[encoded data removed]",
      "text/plain": [
       "<Figure size 720x180 with 1 Axes>"
      ]
     },
     "metadata": {
      "needs_background": "light"
     },
     "output_type": "display_data"
    }
   ],
   "source": [
    "# Plot CRP energy matrix as a sequence logo\n",
    "crp_logo = logomaker.Logo(crp_df)"
   ]
  },
  {
   "cell_type": "code",
   "execution_count": 11,
   "metadata": {
    "ExecuteTime": {
     "end_time": "2022-06-08T19:25:25.279356Z",
     "start_time": "2022-06-08T19:25:24.072950Z"
    }
   },
   "outputs": [
    {
     "data": {
      "image/png": "[encoded data removed]",
      "text/plain": [
       "<Figure size 720x180 with 1 Axes>"
      ]
     },
     "metadata": {
      "needs_background": "light"
     },
     "output_type": "display_data"
    }
   ],
   "source": [
    "# Plot logo, but also add some style\n",
    "crp_logo = logomaker.Logo(crp_df,\n",
    "                          shade_below=.5,\n",
    "                          fade_below=.5,\n",
    "                          font_name='Arial Rounded MT Bold')\n",
    "\n",
    "# style using Logo methods\n",
    "crp_logo.style_spines(visible=False)\n",
    "crp_logo.style_spines(spines=['left', 'bottom'], visible=True)\n",
    "crp_logo.style_xticks(rotation=90, fmt='%d', anchor=0)\n",
    "\n",
    "# style using Axes methods\n",
    "crp_logo.ax.set_ylabel(\"$-\\Delta \\Delta G$ (kcal/mol)\", labelpad=-1)\n",
    "crp_logo.ax.xaxis.set_ticks_position('none')\n",
    "crp_logo.ax.xaxis.set_tick_params(pad=-1)"
   ]
  },
  {
   "cell_type": "markdown",
   "metadata": {},
   "source": [
    "## Exercises"
   ]
  },
  {
   "cell_type": "markdown",
   "metadata": {},
   "source": [
    "This course will include a variety of exercises to increase your Python skills. Note that the knowledge needed to complete each exercise will NOT necessarily have been presented or discussed. If you find yourself at sea, **the first thing you should do is Google your question.** This is how 99% of programming is done."
   ]
  },
  {
   "cell_type": "markdown",
   "metadata": {},
   "source": [
    "**E1.1**: Create a markdown cell containing a bulleted list, a numbered list, and a table."
   ]
  },
  {
   "cell_type": "code",
   "execution_count": 12,
   "metadata": {
    "ExecuteTime": {
     "end_time": "2022-06-08T19:25:25.281379Z",
     "start_time": "2022-06-08T19:25:25.280073Z"
    },
    "jupyter": {
     "outputs_hidden": true
    }
   },
   "outputs": [],
   "source": [
    "# Write answer here"
   ]
  },
  {
   "cell_type": "markdown",
   "metadata": {},
   "source": [
    "**E1.2**: Print a variety of greetings to a friend. Store each greeting in a variable."
   ]
  },
  {
   "cell_type": "code",
   "execution_count": 13,
   "metadata": {
    "ExecuteTime": {
     "end_time": "2022-06-08T19:25:25.283212Z",
     "start_time": "2022-06-08T19:25:25.282020Z"
    }
   },
   "outputs": [],
   "source": [
    "# Write answer here"
   ]
  },
  {
   "cell_type": "code",
   "execution_count": null,
   "metadata": {},
   "outputs": [],
   "source": []
  }
 ],
 "metadata": {
  "kernelspec": {
   "display_name": "Python 3",
   "language": "python",
   "name": "python3"
  },
  "language_info": {
   "codemirror_mode": {
    "name": "ipython",
    "version": 3
   },
   "file_extension": ".py",
   "mimetype": "text/x-python",
   "name": "python",
   "nbconvert_exporter": "python",
   "pygments_lexer": "ipython3",
   "version": "3.9.2"
  },
  "toc": {
   "base_numbering": 1,
   "nav_menu": {},
   "number_sections": true,
   "sideBar": true,
   "skip_h1_title": false,
   "title_cell": "Table of Contents",
   "title_sidebar": "Contents",
   "toc_cell": false,
   "toc_position": {},
   "toc_section_display": true,
   "toc_window_display": false
  },
  "varInspector": {
   "cols": {
    "lenName": 16,
    "lenType": 16,
    "lenVar": 40
   },
   "kernels_config": {
    "python": {
     "delete_cmd_postfix": "",
     "delete_cmd_prefix": "del ",
     "library": "var_list.py",
     "varRefreshCmd": "print(var_dic_list())"
    },
    "r": {
     "delete_cmd_postfix": ") ",
     "delete_cmd_prefix": "rm(",
     "library": "var_list.r",
     "varRefreshCmd": "cat(var_dic_list()) "
    }
   },
   "types_to_exclude": [
    "module",
    "function",
    "builtin_function_or_method",
    "instance",
    "_Feature"
   ],
   "window_display": false
  }
 },
 "nbformat": 4,
 "nbformat_minor": 4
}
