{
 "cells": [
  {
   "cell_type": "markdown",
   "metadata": {},
   "source": [
    "# Notebook 4: Pandas and TF binding site analysis"
   ]
  },
  {
   "cell_type": "markdown",
   "metadata": {},
   "source": [
    "Here we will start using Pandas. Pandas is the standard way of working with columnar data. However, there is a substantial learning curve. If you want to learn more about Pandas, here is a useful site: http://pandas.pydata.org/"
   ]
  },
  {
   "cell_type": "markdown",
   "metadata": {},
   "source": [
    "Here we will use Pandas to analyze transcription factor (TF) binding sites from *Escherichia coli*. We will first focus on CRP, a major regulator in *E. coli* with over 350 functional binding sites.  "
   ]
  },
  {
   "cell_type": "markdown",
   "metadata": {},
   "source": [
    "## Installation and downloads"
   ]
  },
  {
   "cell_type": "code",
   "execution_count": 1,
   "metadata": {},
   "outputs": [
    {
     "name": "stdout",
     "output_type": "stream",
     "text": [
      "\u001b[33mWARNING: You are using pip version 21.1.3; however, version 22.1.2 is available.\n",
      "You should consider upgrading via the '/Library/Frameworks/Python.framework/Versions/3.9/bin/python3.9 -m pip install --upgrade pip' command.\u001b[0m\n",
      "\u001b[33mWARNING: You are using pip version 21.1.3; however, version 22.1.2 is available.\n",
      "You should consider upgrading via the '/Library/Frameworks/Python.framework/Versions/3.9/bin/python3.9 -m pip install --upgrade pip' command.\u001b[0m\n"
     ]
    }
   ],
   "source": [
    "!pip -q install palmerpenguins\n",
    "!pip -q install logomaker"
   ]
  },
  {
   "cell_type": "markdown",
   "metadata": {},
   "source": [
    "## Introduction"
   ]
  },
  {
   "cell_type": "markdown",
   "metadata": {},
   "source": [
    "Pandas is a library for working with tabular data. It was orignally based on the R data.frame library, but with a slightly different grammer and some different functionality. \n",
    "\n",
    "There are two main types of objects in Pandas.\n",
    "\n",
    "1)`Dataframe`"
   ]
  },
  {
   "cell_type": "code",
   "execution_count": 2,
   "metadata": {},
   "outputs": [
    {
     "name": "stdout",
     "output_type": "stream",
     "text": [
      "<class 'pandas.core.frame.DataFrame'>\n"
     ]
    },
    {
     "data": {
      "text/html": [
       "<div>\n",
       "<style scoped>\n",
       "    .dataframe tbody tr th:only-of-type {\n",
       "        vertical-align: middle;\n",
       "    }\n",
       "\n",
       "    .dataframe tbody tr th {\n",
       "        vertical-align: top;\n",
       "    }\n",
       "\n",
       "    .dataframe thead th {\n",
       "        text-align: right;\n",
       "    }\n",
       "</style>\n",
       "<table border=\"1\" class=\"dataframe\">\n",
       "  <thead>\n",
       "    <tr style=\"text-align: right;\">\n",
       "      <th></th>\n",
       "      <th>species</th>\n",
       "      <th>island</th>\n",
       "      <th>bill_length_mm</th>\n",
       "      <th>bill_depth_mm</th>\n",
       "      <th>flipper_length_mm</th>\n",
       "      <th>body_mass_g</th>\n",
       "      <th>sex</th>\n",
       "      <th>year</th>\n",
       "    </tr>\n",
       "  </thead>\n",
       "  <tbody>\n",
       "    <tr>\n",
       "      <th>0</th>\n",
       "      <td>Adelie</td>\n",
       "      <td>Torgersen</td>\n",
       "      <td>39.1</td>\n",
       "      <td>18.7</td>\n",
       "      <td>181.0</td>\n",
       "      <td>3750.0</td>\n",
       "      <td>male</td>\n",
       "      <td>2007</td>\n",
       "    </tr>\n",
       "    <tr>\n",
       "      <th>1</th>\n",
       "      <td>Adelie</td>\n",
       "      <td>Torgersen</td>\n",
       "      <td>39.5</td>\n",
       "      <td>17.4</td>\n",
       "      <td>186.0</td>\n",
       "      <td>3800.0</td>\n",
       "      <td>female</td>\n",
       "      <td>2007</td>\n",
       "    </tr>\n",
       "    <tr>\n",
       "      <th>2</th>\n",
       "      <td>Adelie</td>\n",
       "      <td>Torgersen</td>\n",
       "      <td>40.3</td>\n",
       "      <td>18.0</td>\n",
       "      <td>195.0</td>\n",
       "      <td>3250.0</td>\n",
       "      <td>female</td>\n",
       "      <td>2007</td>\n",
       "    </tr>\n",
       "    <tr>\n",
       "      <th>3</th>\n",
       "      <td>Adelie</td>\n",
       "      <td>Torgersen</td>\n",
       "      <td>NaN</td>\n",
       "      <td>NaN</td>\n",
       "      <td>NaN</td>\n",
       "      <td>NaN</td>\n",
       "      <td>NaN</td>\n",
       "      <td>2007</td>\n",
       "    </tr>\n",
       "    <tr>\n",
       "      <th>4</th>\n",
       "      <td>Adelie</td>\n",
       "      <td>Torgersen</td>\n",
       "      <td>36.7</td>\n",
       "      <td>19.3</td>\n",
       "      <td>193.0</td>\n",
       "      <td>3450.0</td>\n",
       "      <td>female</td>\n",
       "      <td>2007</td>\n",
       "    </tr>\n",
       "    <tr>\n",
       "      <th>...</th>\n",
       "      <td>...</td>\n",
       "      <td>...</td>\n",
       "      <td>...</td>\n",
       "      <td>...</td>\n",
       "      <td>...</td>\n",
       "      <td>...</td>\n",
       "      <td>...</td>\n",
       "      <td>...</td>\n",
       "    </tr>\n",
       "    <tr>\n",
       "      <th>339</th>\n",
       "      <td>Chinstrap</td>\n",
       "      <td>Dream</td>\n",
       "      <td>55.8</td>\n",
       "      <td>19.8</td>\n",
       "      <td>207.0</td>\n",
       "      <td>4000.0</td>\n",
       "      <td>male</td>\n",
       "      <td>2009</td>\n",
       "    </tr>\n",
       "    <tr>\n",
       "      <th>340</th>\n",
       "      <td>Chinstrap</td>\n",
       "      <td>Dream</td>\n",
       "      <td>43.5</td>\n",
       "      <td>18.1</td>\n",
       "      <td>202.0</td>\n",
       "      <td>3400.0</td>\n",
       "      <td>female</td>\n",
       "      <td>2009</td>\n",
       "    </tr>\n",
       "    <tr>\n",
       "      <th>341</th>\n",
       "      <td>Chinstrap</td>\n",
       "      <td>Dream</td>\n",
       "      <td>49.6</td>\n",
       "      <td>18.2</td>\n",
       "      <td>193.0</td>\n",
       "      <td>3775.0</td>\n",
       "      <td>male</td>\n",
       "      <td>2009</td>\n",
       "    </tr>\n",
       "    <tr>\n",
       "      <th>342</th>\n",
       "      <td>Chinstrap</td>\n",
       "      <td>Dream</td>\n",
       "      <td>50.8</td>\n",
       "      <td>19.0</td>\n",
       "      <td>210.0</td>\n",
       "      <td>4100.0</td>\n",
       "      <td>male</td>\n",
       "      <td>2009</td>\n",
       "    </tr>\n",
       "    <tr>\n",
       "      <th>343</th>\n",
       "      <td>Chinstrap</td>\n",
       "      <td>Dream</td>\n",
       "      <td>50.2</td>\n",
       "      <td>18.7</td>\n",
       "      <td>198.0</td>\n",
       "      <td>3775.0</td>\n",
       "      <td>female</td>\n",
       "      <td>2009</td>\n",
       "    </tr>\n",
       "  </tbody>\n",
       "</table>\n",
       "<p>344 rows × 8 columns</p>\n",
       "</div>"
      ],
      "text/plain": [
       "       species     island  bill_length_mm  bill_depth_mm  flipper_length_mm  \\\n",
       "0       Adelie  Torgersen            39.1           18.7              181.0   \n",
       "1       Adelie  Torgersen            39.5           17.4              186.0   \n",
       "2       Adelie  Torgersen            40.3           18.0              195.0   \n",
       "3       Adelie  Torgersen             NaN            NaN                NaN   \n",
       "4       Adelie  Torgersen            36.7           19.3              193.0   \n",
       "..         ...        ...             ...            ...                ...   \n",
       "339  Chinstrap      Dream            55.8           19.8              207.0   \n",
       "340  Chinstrap      Dream            43.5           18.1              202.0   \n",
       "341  Chinstrap      Dream            49.6           18.2              193.0   \n",
       "342  Chinstrap      Dream            50.8           19.0              210.0   \n",
       "343  Chinstrap      Dream            50.2           18.7              198.0   \n",
       "\n",
       "     body_mass_g     sex  year  \n",
       "0         3750.0    male  2007  \n",
       "1         3800.0  female  2007  \n",
       "2         3250.0  female  2007  \n",
       "3            NaN     NaN  2007  \n",
       "4         3450.0  female  2007  \n",
       "..           ...     ...   ...  \n",
       "339       4000.0    male  2009  \n",
       "340       3400.0  female  2009  \n",
       "341       3775.0    male  2009  \n",
       "342       4100.0    male  2009  \n",
       "343       3775.0  female  2009  \n",
       "\n",
       "[344 rows x 8 columns]"
      ]
     },
     "execution_count": 2,
     "metadata": {},
     "output_type": "execute_result"
    }
   ],
   "source": [
    "from palmerpenguins import load_penguins\n",
    "df = load_penguins()\n",
    "print(type(df))\n",
    "df"
   ]
  },
  {
   "cell_type": "markdown",
   "metadata": {},
   "source": [
    "* A 2-D object\n",
    "* Has row (index) and column names\n",
    "* The orientation of rows vs columns matters a lot\n",
    "* Generally, you want features as columns and observations as rows\n",
    "* Features are variables, they are the things you measure, whether that be quantitatively or qualitatively. While observations are each data point, in this case it is each penguin\n",
    "\n",
    "2) `pd.Series`\n"
   ]
  },
  {
   "cell_type": "code",
   "execution_count": 3,
   "metadata": {},
   "outputs": [
    {
     "name": "stdout",
     "output_type": "stream",
     "text": [
      "<class 'pandas.core.series.Series'>\n"
     ]
    },
    {
     "data": {
      "text/plain": [
       "0         Adelie\n",
       "1         Adelie\n",
       "2         Adelie\n",
       "3         Adelie\n",
       "4         Adelie\n",
       "         ...    \n",
       "339    Chinstrap\n",
       "340    Chinstrap\n",
       "341    Chinstrap\n",
       "342    Chinstrap\n",
       "343    Chinstrap\n",
       "Name: species, Length: 344, dtype: object"
      ]
     },
     "execution_count": 3,
     "metadata": {},
     "output_type": "execute_result"
    }
   ],
   "source": [
    "series = df['species']\n",
    "print(type(series))\n",
    "series"
   ]
  },
  {
   "cell_type": "markdown",
   "metadata": {},
   "source": [
    "* A single column of data\n",
    "* Contains rownames but no column name, the rownames are always reffered to as `pd.Series.index`\n",
    "* Can have an attribute `pd.Series.name` that can serve as the column name\n",
    "* Works a lot like a python dictionary"
   ]
  },
  {
   "cell_type": "markdown",
   "metadata": {},
   "source": [
    "\n",
    "### Things we need to learn \n",
    "1) How to create a pandas object/ read data in\n",
    "\n",
    "2) How to subset your data\n",
    "\n",
    "3) How to manipulate/mutate your data to create more data\n",
    "\n",
    "4) How to Summarize or aggregate your data\n",
    "\n",
    "\n",
    "\n",
    "## Preparing Code 1"
   ]
  },
  {
   "cell_type": "code",
   "execution_count": 2,
   "metadata": {},
   "outputs": [],
   "source": [
    "# Put this first\n",
    "import numpy as np\n",
    "import pandas as pd\n",
    "import matplotlib.pyplot as plt\n",
    "%matplotlib inline\n",
    "\n",
    "# Import logomaker; we will use this later for visualizing TF motifs.\n",
    "import logomaker "
   ]
  },
  {
   "cell_type": "code",
   "execution_count": 5,
   "metadata": {},
   "outputs": [
    {
     "name": "stdout",
     "output_type": "stream",
     "text": [
      "mkdir: data: File exists\n",
      "--2022-06-23 02:36:27--  http://regulondb.ccg.unam.mx/menu/download/datasets/files/BindingSiteSet.txt\n",
      "Resolving regulondb.ccg.unam.mx (regulondb.ccg.unam.mx)... 132.248.34.160\n",
      "Connecting to regulondb.ccg.unam.mx (regulondb.ccg.unam.mx)|132.248.34.160|:80... connected.\n",
      "HTTP request sent, awaiting response... 200 OK\n",
      "Length: 982656 (960K) [text/plain]\n",
      "Saving to: ‘./data/binding_site_db.txt’\n",
      "\n",
      "./data/binding_site 100%[===================>] 959.62K   295KB/s    in 3.3s    \n",
      "\n",
      "2022-06-23 02:36:31 (295 KB/s) - ‘./data/binding_site_db.txt’ saved [982656/982656]\n",
      "\n"
     ]
    }
   ],
   "source": [
    "# We will be analyzing a standing database of TF binding sites, which is available on RegulonDB. \n",
    "# Here is a command for downloading this file (this didn't work in lecture 1)\n",
    "!mkdir data \n",
    "!wget -O ./data/binding_site_db.txt http://regulondb.ccg.unam.mx/menu/download/datasets/files/BindingSiteSet.txt "
   ]
  },
  {
   "cell_type": "code",
   "execution_count": 6,
   "metadata": {},
   "outputs": [
    {
     "name": "stdout",
     "output_type": "stream",
     "text": [
      "# Copies and Copyright-Notice\r\n",
      "#\r\n",
      "#      RegulonDB is free for academic/noncommercial use\r\n",
      "#\r\n",
      "#      User is not entitled to change or erase data sets of the RegulonDB\r\n",
      "#      database or to eliminate copyright notices from RegulonDB. Furthermore,\r\n",
      "#      User is not entitled to expand RegulonDB or to integrate RegulonDB partly\r\n",
      "#      or as a whole into other databank systems, without prior written consent\r\n",
      "#      from CCG-UNAM.\r\n",
      "#\r\n",
      "#      Please check the license at http://regulondb.ccg.unam.mx/menu/download/full_version/terms_and_conditions.jsp\r\n",
      "#\r\n",
      "# Citation\r\n",
      "#\r\n",
      "#      Santos-Zavaleta A et al. (2019). RegulonDB v 10.5: tackling challenges to unify classic and high throughput knowledge of gene regulation in E. coli K-12.,\r\n",
      "#      Nucleic Acids Res. 2019 Jan 8;47(D1):D212-D220. doi: 10.1093/nar/gky1077.\r\n",
      "#\r\n",
      "#\r\n",
      "# Contact\r\n",
      "#\r\n",
      "#      Person: RegulonDB Team\r\n",
      "#      Web Page: http://regulondb.ccg.unam.mx/menu/about_regulondb/contact_us/index.jsp\r\n",
      "#          (regulondb@ccg.unam.mx)\r\n",
      "#\r\n",
      "#\r\n",
      "# Release: 10.10 Date: 02/28/2022\r\n",
      "# Genome version: U00096.3, Refseq version: NC_000913.3; GI:556503834\r\n",
      "# ___________________________________________________________________________\r\n",
      "# Columns:\r\n",
      "# (1) Transcription Factor (TF) identifier assigned by RegulonDB\r\n",
      "# (2) TF name\r\n",
      "# (3) Confornation name\r\n",
      "# (4) TF binding site (TF-bs) identifier assigned by RegulonDB \r\n",
      "# (5) TF-bs left end position in the genome \r\n",
      "# (6) TF-bs right end position in the genome\r\n",
      "# (7) DNA strand where the  TF-bs is located\r\n",
      "# (8) TF-Gene interaction identifier assigned by RegulonDB (related to the \"TF gene interactions\" file) \r\n",
      "# (9) Transcription unit id regulated by the TF\r\n",
      "# (10) Transcription unit name regulated by the TF\r\n",
      "# (11) Gene expression effect caused by the TF bound to the  TF-bs (+ activation, - repression, +- dual, ? unknown)\r\n",
      "# (12) Promoter name\r\n",
      "# (13) Center position of TF-bs, relative to Transcription Start Site\r\n",
      "# (14) TF-bs sequence (upper case)\r\n",
      "# (15) Distance to first gene\r\n",
      "# (16) Evidence that supports the existence of the TF-bs\r\n",
      "# (17) Evidence confidence level (Confirmed, Strong, Weak)\r\n",
      "# (18) Evidence tech code related to TF-bs function\r\n",
      "# (19) Evidence tech code related to TF-bs\r\n",
      "ECK125286586\tAccB\tAccB\tECK125258258\t\t\tforward\tECK125257898\tECK120009421\taccBC\t-\taccBp1\t\t\t\t[GEA|W|Gene expression analysis],[IMP|W|Inferred from mutant phenotype]\tWeak\texpression | \tbinding in vitro\r\n",
      "ECK120015994\tAcrR\tAcrR\tECK125202663\t1619048\t1619058\tforward\tECK125202664\tECK120009381\tmarRAB\t-\tmarRp\t-40.5\tcatcggtcaaTTCATTCATTTgacttatact\t-67.5\t[GEA|W|Gene expression analysis]\tWeak\texpression\tbinding in vitro | computational prediction\r\n"
     ]
    }
   ],
   "source": [
    "# Let's see what this database looks like\n",
    "!head -n 50 data/binding_site_db.txt"
   ]
  },
  {
   "cell_type": "markdown",
   "metadata": {},
   "source": [
    "## Reading data\n",
    "\n",
    "When you store your data as a file you can use one of the `pd.read_*` functions to read in data from a variety of different file types\n",
    "\n",
    "Then to save your progress you can write using `pd.DataFrame.write_*`\n",
    "\n",
    "\n",
    "There are quite a lot of file types, and they all have their pros/cons. The simpliest and most commonly used one is `.csv`. "
   ]
  },
  {
   "cell_type": "code",
   "execution_count": 3,
   "metadata": {},
   "outputs": [
    {
     "data": {
      "text/plain": [
       "pandas.core.frame.DataFrame"
      ]
     },
     "execution_count": 3,
     "metadata": {},
     "output_type": "execute_result"
    }
   ],
   "source": [
    "# To parse this file, use Pandas's method read_csv. \n",
    "df = pd.read_csv(\"data/binding_site_db.txt\", sep='\\t', comment='#', header=None)\n",
    "type(df)"
   ]
  },
  {
   "cell_type": "code",
   "execution_count": 4,
   "metadata": {},
   "outputs": [
    {
     "data": {
      "text/html": [
       "<div>\n",
       "<style scoped>\n",
       "    .dataframe tbody tr th:only-of-type {\n",
       "        vertical-align: middle;\n",
       "    }\n",
       "\n",
       "    .dataframe tbody tr th {\n",
       "        vertical-align: top;\n",
       "    }\n",
       "\n",
       "    .dataframe thead th {\n",
       "        text-align: right;\n",
       "    }\n",
       "</style>\n",
       "<table border=\"1\" class=\"dataframe\">\n",
       "  <thead>\n",
       "    <tr style=\"text-align: right;\">\n",
       "      <th></th>\n",
       "      <th>0</th>\n",
       "      <th>1</th>\n",
       "      <th>2</th>\n",
       "      <th>3</th>\n",
       "      <th>4</th>\n",
       "      <th>5</th>\n",
       "      <th>6</th>\n",
       "      <th>7</th>\n",
       "      <th>8</th>\n",
       "      <th>9</th>\n",
       "      <th>10</th>\n",
       "      <th>11</th>\n",
       "      <th>12</th>\n",
       "      <th>13</th>\n",
       "      <th>14</th>\n",
       "      <th>15</th>\n",
       "      <th>16</th>\n",
       "      <th>17</th>\n",
       "      <th>18</th>\n",
       "    </tr>\n",
       "  </thead>\n",
       "  <tbody>\n",
       "    <tr>\n",
       "      <th>0</th>\n",
       "      <td>ECK125286586</td>\n",
       "      <td>AccB</td>\n",
       "      <td>AccB</td>\n",
       "      <td>ECK125258258</td>\n",
       "      <td>NaN</td>\n",
       "      <td>NaN</td>\n",
       "      <td>forward</td>\n",
       "      <td>ECK125257898</td>\n",
       "      <td>ECK120009421</td>\n",
       "      <td>accBC</td>\n",
       "      <td>-</td>\n",
       "      <td>accBp1</td>\n",
       "      <td>NaN</td>\n",
       "      <td>NaN</td>\n",
       "      <td>NaN</td>\n",
       "      <td>[GEA|W|Gene expression analysis],[IMP|W|Inferr...</td>\n",
       "      <td>Weak</td>\n",
       "      <td>expression |</td>\n",
       "      <td>binding in vitro</td>\n",
       "    </tr>\n",
       "    <tr>\n",
       "      <th>1</th>\n",
       "      <td>ECK120015994</td>\n",
       "      <td>AcrR</td>\n",
       "      <td>AcrR</td>\n",
       "      <td>ECK125202663</td>\n",
       "      <td>1619048.0</td>\n",
       "      <td>1619058.0</td>\n",
       "      <td>forward</td>\n",
       "      <td>ECK125202664</td>\n",
       "      <td>ECK120009381</td>\n",
       "      <td>marRAB</td>\n",
       "      <td>-</td>\n",
       "      <td>marRp</td>\n",
       "      <td>-40.5</td>\n",
       "      <td>catcggtcaaTTCATTCATTTgacttatact</td>\n",
       "      <td>-67.5</td>\n",
       "      <td>[GEA|W|Gene expression analysis]</td>\n",
       "      <td>Weak</td>\n",
       "      <td>expression</td>\n",
       "      <td>binding in vitro | computational prediction</td>\n",
       "    </tr>\n",
       "    <tr>\n",
       "      <th>2</th>\n",
       "      <td>ECK120015994</td>\n",
       "      <td>AcrR</td>\n",
       "      <td>AcrR</td>\n",
       "      <td>ECK125242724</td>\n",
       "      <td>1978422.0</td>\n",
       "      <td>1978432.0</td>\n",
       "      <td>reverse</td>\n",
       "      <td>ECK125242725</td>\n",
       "      <td>ECK120009328</td>\n",
       "      <td>flhDC</td>\n",
       "      <td>-</td>\n",
       "      <td>flhDp</td>\n",
       "      <td>-31.5</td>\n",
       "      <td>agcccccctcCGTTGTATGTGcgtgtagtga</td>\n",
       "      <td>-229.5</td>\n",
       "      <td>[GEA|W|Gene expression analysis]</td>\n",
       "      <td>Weak</td>\n",
       "      <td>expression</td>\n",
       "      <td>computational prediction</td>\n",
       "    </tr>\n",
       "    <tr>\n",
       "      <th>3</th>\n",
       "      <td>ECK120015994</td>\n",
       "      <td>AcrR</td>\n",
       "      <td>AcrR</td>\n",
       "      <td>ECK120035040</td>\n",
       "      <td>2313112.0</td>\n",
       "      <td>2313135.0</td>\n",
       "      <td>forward</td>\n",
       "      <td>ECK120035041</td>\n",
       "      <td>ECK120008981</td>\n",
       "      <td>micF</td>\n",
       "      <td>-</td>\n",
       "      <td>micFp1</td>\n",
       "      <td>41.0</td>\n",
       "      <td>atttattaccGTCATTCATTTCTGAATGTCTGTTtacccctatt</td>\n",
       "      <td>41.0</td>\n",
       "      <td>NaN</td>\n",
       "      <td>NaN</td>\n",
       "      <td>NaN</td>\n",
       "      <td>computational prediction</td>\n",
       "    </tr>\n",
       "    <tr>\n",
       "      <th>4</th>\n",
       "      <td>ECK120015994</td>\n",
       "      <td>AcrR</td>\n",
       "      <td>AcrR</td>\n",
       "      <td>ECK120035040</td>\n",
       "      <td>2313112.0</td>\n",
       "      <td>2313135.0</td>\n",
       "      <td>forward</td>\n",
       "      <td>ECK125301110</td>\n",
       "      <td>ECK125300413</td>\n",
       "      <td>micF</td>\n",
       "      <td>-</td>\n",
       "      <td>micFp2</td>\n",
       "      <td>41.0</td>\n",
       "      <td>atttattaccGTCATTCATTTCTGAATGTCTGTTtacccctatt</td>\n",
       "      <td>41.0</td>\n",
       "      <td>NaN</td>\n",
       "      <td>NaN</td>\n",
       "      <td>NaN</td>\n",
       "      <td>computational prediction</td>\n",
       "    </tr>\n",
       "  </tbody>\n",
       "</table>\n",
       "</div>"
      ],
      "text/plain": [
       "             0     1     2             3          4          5        6   \\\n",
       "0  ECK125286586  AccB  AccB  ECK125258258        NaN        NaN  forward   \n",
       "1  ECK120015994  AcrR  AcrR  ECK125202663  1619048.0  1619058.0  forward   \n",
       "2  ECK120015994  AcrR  AcrR  ECK125242724  1978422.0  1978432.0  reverse   \n",
       "3  ECK120015994  AcrR  AcrR  ECK120035040  2313112.0  2313135.0  forward   \n",
       "4  ECK120015994  AcrR  AcrR  ECK120035040  2313112.0  2313135.0  forward   \n",
       "\n",
       "             7             8       9  10      11    12  \\\n",
       "0  ECK125257898  ECK120009421   accBC  -  accBp1   NaN   \n",
       "1  ECK125202664  ECK120009381  marRAB  -   marRp -40.5   \n",
       "2  ECK125242725  ECK120009328   flhDC  -   flhDp -31.5   \n",
       "3  ECK120035041  ECK120008981    micF  -  micFp1  41.0   \n",
       "4  ECK125301110  ECK125300413    micF  -  micFp2  41.0   \n",
       "\n",
       "                                             13     14  \\\n",
       "0                                           NaN    NaN   \n",
       "1               catcggtcaaTTCATTCATTTgacttatact  -67.5   \n",
       "2               agcccccctcCGTTGTATGTGcgtgtagtga -229.5   \n",
       "3  atttattaccGTCATTCATTTCTGAATGTCTGTTtacccctatt   41.0   \n",
       "4  atttattaccGTCATTCATTTCTGAATGTCTGTTtacccctatt   41.0   \n",
       "\n",
       "                                                  15    16             17  \\\n",
       "0  [GEA|W|Gene expression analysis],[IMP|W|Inferr...  Weak  expression |    \n",
       "1                   [GEA|W|Gene expression analysis]  Weak     expression   \n",
       "2                   [GEA|W|Gene expression analysis]  Weak     expression   \n",
       "3                                                NaN   NaN            NaN   \n",
       "4                                                NaN   NaN            NaN   \n",
       "\n",
       "                                            18  \n",
       "0                             binding in vitro  \n",
       "1  binding in vitro | computational prediction  \n",
       "2                     computational prediction  \n",
       "3                     computational prediction  \n",
       "4                     computational prediction  "
      ]
     },
     "execution_count": 4,
     "metadata": {},
     "output_type": "execute_result"
    }
   ],
   "source": [
    "# To check that the data has been properly loaded, call the method df.head()\n",
    "df.head()"
   ]
  },
  {
   "cell_type": "code",
   "execution_count": 5,
   "metadata": {},
   "outputs": [
    {
     "data": {
      "text/plain": [
       "(4201, 19)"
      ]
     },
     "execution_count": 5,
     "metadata": {},
     "output_type": "execute_result"
    }
   ],
   "source": [
    "# You get the number of rows and columns from the attribute df.shape\n",
    "df.shape"
   ]
  },
  {
   "cell_type": "code",
   "execution_count": 6,
   "metadata": {},
   "outputs": [
    {
     "data": {
      "text/html": [
       "<div>\n",
       "<style scoped>\n",
       "    .dataframe tbody tr th:only-of-type {\n",
       "        vertical-align: middle;\n",
       "    }\n",
       "\n",
       "    .dataframe tbody tr th {\n",
       "        vertical-align: top;\n",
       "    }\n",
       "\n",
       "    .dataframe thead th {\n",
       "        text-align: right;\n",
       "    }\n",
       "</style>\n",
       "<table border=\"1\" class=\"dataframe\">\n",
       "  <thead>\n",
       "    <tr style=\"text-align: right;\">\n",
       "      <th></th>\n",
       "      <th>1</th>\n",
       "      <th>13</th>\n",
       "    </tr>\n",
       "  </thead>\n",
       "  <tbody>\n",
       "    <tr>\n",
       "      <th>0</th>\n",
       "      <td>AccB</td>\n",
       "      <td>NaN</td>\n",
       "    </tr>\n",
       "    <tr>\n",
       "      <th>1</th>\n",
       "      <td>AcrR</td>\n",
       "      <td>catcggtcaaTTCATTCATTTgacttatact</td>\n",
       "    </tr>\n",
       "    <tr>\n",
       "      <th>2</th>\n",
       "      <td>AcrR</td>\n",
       "      <td>agcccccctcCGTTGTATGTGcgtgtagtga</td>\n",
       "    </tr>\n",
       "    <tr>\n",
       "      <th>3</th>\n",
       "      <td>AcrR</td>\n",
       "      <td>atttattaccGTCATTCATTTCTGAATGTCTGTTtacccctatt</td>\n",
       "    </tr>\n",
       "    <tr>\n",
       "      <th>4</th>\n",
       "      <td>AcrR</td>\n",
       "      <td>atttattaccGTCATTCATTTCTGAATGTCTGTTtacccctatt</td>\n",
       "    </tr>\n",
       "  </tbody>\n",
       "</table>\n",
       "</div>"
      ],
      "text/plain": [
       "     1                                             13\n",
       "0  AccB                                           NaN\n",
       "1  AcrR               catcggtcaaTTCATTCATTTgacttatact\n",
       "2  AcrR               agcccccctcCGTTGTATGTGcgtgtagtga\n",
       "3  AcrR  atttattaccGTCATTCATTTCTGAATGTCTGTTtacccctatt\n",
       "4  AcrR  atttattaccGTCATTCATTTCTGAATGTCTGTTtacccctatt"
      ]
     },
     "execution_count": 6,
     "metadata": {},
     "output_type": "execute_result"
    }
   ],
   "source": [
    "# We only want the TF name (column 1) and the TF binding site sequence (column 11)\n",
    "# To keep only these columns, index the df using a list of column names you want (in the order you want)\n",
    "col_names = [1,13]\n",
    "df = df[col_names]\n",
    "df.head()"
   ]
  },
  {
   "cell_type": "code",
   "execution_count": 7,
   "metadata": {},
   "outputs": [
    {
     "data": {
      "text/html": [
       "<div>\n",
       "<style scoped>\n",
       "    .dataframe tbody tr th:only-of-type {\n",
       "        vertical-align: middle;\n",
       "    }\n",
       "\n",
       "    .dataframe tbody tr th {\n",
       "        vertical-align: top;\n",
       "    }\n",
       "\n",
       "    .dataframe thead th {\n",
       "        text-align: right;\n",
       "    }\n",
       "</style>\n",
       "<table border=\"1\" class=\"dataframe\">\n",
       "  <thead>\n",
       "    <tr style=\"text-align: right;\">\n",
       "      <th></th>\n",
       "      <th>tf</th>\n",
       "      <th>site</th>\n",
       "    </tr>\n",
       "  </thead>\n",
       "  <tbody>\n",
       "    <tr>\n",
       "      <th>0</th>\n",
       "      <td>AccB</td>\n",
       "      <td>NaN</td>\n",
       "    </tr>\n",
       "    <tr>\n",
       "      <th>1</th>\n",
       "      <td>AcrR</td>\n",
       "      <td>catcggtcaaTTCATTCATTTgacttatact</td>\n",
       "    </tr>\n",
       "    <tr>\n",
       "      <th>2</th>\n",
       "      <td>AcrR</td>\n",
       "      <td>agcccccctcCGTTGTATGTGcgtgtagtga</td>\n",
       "    </tr>\n",
       "    <tr>\n",
       "      <th>3</th>\n",
       "      <td>AcrR</td>\n",
       "      <td>atttattaccGTCATTCATTTCTGAATGTCTGTTtacccctatt</td>\n",
       "    </tr>\n",
       "    <tr>\n",
       "      <th>4</th>\n",
       "      <td>AcrR</td>\n",
       "      <td>atttattaccGTCATTCATTTCTGAATGTCTGTTtacccctatt</td>\n",
       "    </tr>\n",
       "  </tbody>\n",
       "</table>\n",
       "</div>"
      ],
      "text/plain": [
       "     tf                                          site\n",
       "0  AccB                                           NaN\n",
       "1  AcrR               catcggtcaaTTCATTCATTTgacttatact\n",
       "2  AcrR               agcccccctcCGTTGTATGTGcgtgtagtga\n",
       "3  AcrR  atttattaccGTCATTCATTTCTGAATGTCTGTTtacccctatt\n",
       "4  AcrR  atttattaccGTCATTCATTTCTGAATGTCTGTTtacccctatt"
      ]
     },
     "execution_count": 7,
     "metadata": {},
     "output_type": "execute_result"
    }
   ],
   "source": [
    "# Data frames allow users to give columns meaningful names.\n",
    "# To rename the columns, set df.columns to a list of the desired names.\n",
    "df.columns = ['tf','site']\n",
    "df.head()"
   ]
  },
  {
   "cell_type": "code",
   "execution_count": 8,
   "metadata": {},
   "outputs": [
    {
     "data": {
      "text/html": [
       "<div>\n",
       "<style scoped>\n",
       "    .dataframe tbody tr th:only-of-type {\n",
       "        vertical-align: middle;\n",
       "    }\n",
       "\n",
       "    .dataframe tbody tr th {\n",
       "        vertical-align: top;\n",
       "    }\n",
       "\n",
       "    .dataframe thead th {\n",
       "        text-align: right;\n",
       "    }\n",
       "</style>\n",
       "<table border=\"1\" class=\"dataframe\">\n",
       "  <thead>\n",
       "    <tr style=\"text-align: right;\">\n",
       "      <th></th>\n",
       "      <th>tf</th>\n",
       "      <th>site</th>\n",
       "    </tr>\n",
       "  </thead>\n",
       "  <tbody>\n",
       "    <tr>\n",
       "      <th>1</th>\n",
       "      <td>AcrR</td>\n",
       "      <td>catcggtcaaTTCATTCATTTgacttatact</td>\n",
       "    </tr>\n",
       "    <tr>\n",
       "      <th>2</th>\n",
       "      <td>AcrR</td>\n",
       "      <td>agcccccctcCGTTGTATGTGcgtgtagtga</td>\n",
       "    </tr>\n",
       "    <tr>\n",
       "      <th>3</th>\n",
       "      <td>AcrR</td>\n",
       "      <td>atttattaccGTCATTCATTTCTGAATGTCTGTTtacccctatt</td>\n",
       "    </tr>\n",
       "    <tr>\n",
       "      <th>4</th>\n",
       "      <td>AcrR</td>\n",
       "      <td>atttattaccGTCATTCATTTCTGAATGTCTGTTtacccctatt</td>\n",
       "    </tr>\n",
       "    <tr>\n",
       "      <th>5</th>\n",
       "      <td>AcrR</td>\n",
       "      <td>ataattcctcAAGTTAACTTGaggtaaagcg</td>\n",
       "    </tr>\n",
       "  </tbody>\n",
       "</table>\n",
       "</div>"
      ],
      "text/plain": [
       "     tf                                          site\n",
       "1  AcrR               catcggtcaaTTCATTCATTTgacttatact\n",
       "2  AcrR               agcccccctcCGTTGTATGTGcgtgtagtga\n",
       "3  AcrR  atttattaccGTCATTCATTTCTGAATGTCTGTTtacccctatt\n",
       "4  AcrR  atttattaccGTCATTCATTTCTGAATGTCTGTTtacccctatt\n",
       "5  AcrR               ataattcctcAAGTTAACTTGaggtaaagcg"
      ]
     },
     "execution_count": 8,
     "metadata": {},
     "output_type": "execute_result"
    }
   ],
   "source": [
    "# We see that some TF sites are listed as NaN. \n",
    "# Let's use the dropna() method to get rid of these rows.\n",
    "df = df.dropna()\n",
    "df.head()"
   ]
  },
  {
   "cell_type": "code",
   "execution_count": 9,
   "metadata": {},
   "outputs": [
    {
     "data": {
      "text/html": [
       "<div>\n",
       "<style scoped>\n",
       "    .dataframe tbody tr th:only-of-type {\n",
       "        vertical-align: middle;\n",
       "    }\n",
       "\n",
       "    .dataframe tbody tr th {\n",
       "        vertical-align: top;\n",
       "    }\n",
       "\n",
       "    .dataframe thead th {\n",
       "        text-align: right;\n",
       "    }\n",
       "</style>\n",
       "<table border=\"1\" class=\"dataframe\">\n",
       "  <thead>\n",
       "    <tr style=\"text-align: right;\">\n",
       "      <th></th>\n",
       "      <th>tf</th>\n",
       "      <th>site</th>\n",
       "    </tr>\n",
       "  </thead>\n",
       "  <tbody>\n",
       "    <tr>\n",
       "      <th>1</th>\n",
       "      <td>AcrR</td>\n",
       "      <td>catcggtcaaTTCATTCATTTgacttatact</td>\n",
       "    </tr>\n",
       "    <tr>\n",
       "      <th>2</th>\n",
       "      <td>AcrR</td>\n",
       "      <td>agcccccctcCGTTGTATGTGcgtgtagtga</td>\n",
       "    </tr>\n",
       "    <tr>\n",
       "      <th>3</th>\n",
       "      <td>AcrR</td>\n",
       "      <td>atttattaccGTCATTCATTTCTGAATGTCTGTTtacccctatt</td>\n",
       "    </tr>\n",
       "    <tr>\n",
       "      <th>4</th>\n",
       "      <td>AcrR</td>\n",
       "      <td>atttattaccGTCATTCATTTCTGAATGTCTGTTtacccctatt</td>\n",
       "    </tr>\n",
       "    <tr>\n",
       "      <th>5</th>\n",
       "      <td>AcrR</td>\n",
       "      <td>ataattcctcAAGTTAACTTGaggtaaagcg</td>\n",
       "    </tr>\n",
       "  </tbody>\n",
       "</table>\n",
       "</div>"
      ],
      "text/plain": [
       "     tf                                          site\n",
       "1  AcrR               catcggtcaaTTCATTCATTTgacttatact\n",
       "2  AcrR               agcccccctcCGTTGTATGTGcgtgtagtga\n",
       "3  AcrR  atttattaccGTCATTCATTTCTGAATGTCTGTTtacccctatt\n",
       "4  AcrR  atttattaccGTCATTCATTTCTGAATGTCTGTTtacccctatt\n",
       "5  AcrR               ataattcctcAAGTTAACTTGaggtaaagcg"
      ]
     },
     "execution_count": 9,
     "metadata": {},
     "output_type": "execute_result"
    }
   ],
   "source": [
    "# Note that the last three modifications of df can be accomplished in one line \n",
    "df = pd.read_csv(\"data/binding_site_db.txt\", sep='\\t', comment='#',\n",
    "                 header=None, usecols=[1,13], names=['tf','site']).dropna()\n",
    "df.head()"
   ]
  },
  {
   "cell_type": "code",
   "execution_count": 10,
   "metadata": {},
   "outputs": [],
   "source": [
    "# Check out the pd.read_csv() documentation for a full list\n",
    "pd.read_csv?"
   ]
  },
  {
   "cell_type": "code",
   "execution_count": 11,
   "metadata": {},
   "outputs": [
    {
     "data": {
      "text/plain": [
       "1    AcrR\n",
       "2    AcrR\n",
       "3    AcrR\n",
       "4    AcrR\n",
       "5    AcrR\n",
       "Name: tf, dtype: object"
      ]
     },
     "execution_count": 11,
     "metadata": {},
     "output_type": "execute_result"
    }
   ],
   "source": [
    "# Dataframe columns are called 'Series' objects. \n",
    "# Essentially, they're numpy arrays with some extra structure.\n",
    "col = df['tf']\n",
    "col.head()"
   ]
  },
  {
   "cell_type": "code",
   "execution_count": 13,
   "metadata": {},
   "outputs": [
    {
     "data": {
      "text/plain": [
       "'atttattaccGTCATTCATTTCTGAATGTCTGTTtacccctatt'"
      ]
     },
     "execution_count": 13,
     "metadata": {},
     "output_type": "execute_result"
    }
   ],
   "source": [
    "# You can extract an element from a dataframe by using .loc[]\n",
    "df.loc[3,'site']"
   ]
  },
  {
   "cell_type": "markdown",
   "metadata": {},
   "source": [
    "Our goal is to generate sequence logos that represents the binding preferences of TFs in this database.  As a concrete example we'll use CRP, which has a well-characterized binding motif shown here:\n",
    "\n",
    "<img src=\"https://github.com/bharris12/URP_2021_Programming_Course/blob/main/lecture_3/data/crp_information_logo.png?raw=1\" alt=\"Drawing\" style=\"width: 700px;\"/>\n",
    "\n",
    "## Subsetting dataframe\n"
   ]
  },
  {
   "cell_type": "code",
   "execution_count": 17,
   "metadata": {},
   "outputs": [
    {
     "data": {
      "text/plain": [
       "1       False\n",
       "2       False\n",
       "3       False\n",
       "4       False\n",
       "5       False\n",
       "        ...  \n",
       "4196    False\n",
       "4197    False\n",
       "4198    False\n",
       "4199    False\n",
       "4200    False\n",
       "Name: tf, Length: 3647, dtype: bool"
      ]
     },
     "execution_count": 17,
     "metadata": {},
     "output_type": "execute_result"
    }
   ],
   "source": [
    "# Choose a TF\n",
    "tf = 'CRP'\n",
    "\n",
    "# Flag which rows in the dataframe have the correct TF name\n",
    "flags = (df['tf']==tf)\n",
    "flags"
   ]
  },
  {
   "cell_type": "code",
   "execution_count": 18,
   "metadata": {},
   "outputs": [
    {
     "data": {
      "text/html": [
       "<div>\n",
       "<style scoped>\n",
       "    .dataframe tbody tr th:only-of-type {\n",
       "        vertical-align: middle;\n",
       "    }\n",
       "\n",
       "    .dataframe tbody tr th {\n",
       "        vertical-align: top;\n",
       "    }\n",
       "\n",
       "    .dataframe thead th {\n",
       "        text-align: right;\n",
       "    }\n",
       "</style>\n",
       "<table border=\"1\" class=\"dataframe\">\n",
       "  <thead>\n",
       "    <tr style=\"text-align: right;\">\n",
       "      <th></th>\n",
       "      <th>tf</th>\n",
       "      <th>site</th>\n",
       "    </tr>\n",
       "  </thead>\n",
       "  <tbody>\n",
       "    <tr>\n",
       "      <th>356</th>\n",
       "      <td>CRP</td>\n",
       "      <td>tgcggaaaaaTTTGTTCCTCTTCACATtttttgtaca</td>\n",
       "    </tr>\n",
       "    <tr>\n",
       "      <th>357</th>\n",
       "      <td>CRP</td>\n",
       "      <td>tttttttcatATGCCTGACGGAGTTCACACTTgtaagttttc</td>\n",
       "    </tr>\n",
       "    <tr>\n",
       "      <th>358</th>\n",
       "      <td>CRP</td>\n",
       "      <td>tgctaaaaacCATTGTTATTAGTCTCACACTTTtttattggta</td>\n",
       "    </tr>\n",
       "    <tr>\n",
       "      <th>359</th>\n",
       "      <td>CRP</td>\n",
       "      <td>aggtgcaaccGCAAAAAATGTGAGAGAGTGCAacctgatgaa</td>\n",
       "    </tr>\n",
       "    <tr>\n",
       "      <th>360</th>\n",
       "      <td>CRP</td>\n",
       "      <td>caacctgatgAAAAATAGTGTCGCTGAGCACTaaaatttaat</td>\n",
       "    </tr>\n",
       "  </tbody>\n",
       "</table>\n",
       "</div>"
      ],
      "text/plain": [
       "      tf                                         site\n",
       "356  CRP        tgcggaaaaaTTTGTTCCTCTTCACATtttttgtaca\n",
       "357  CRP   tttttttcatATGCCTGACGGAGTTCACACTTgtaagttttc\n",
       "358  CRP  tgctaaaaacCATTGTTATTAGTCTCACACTTTtttattggta\n",
       "359  CRP   aggtgcaaccGCAAAAAATGTGAGAGAGTGCAacctgatgaa\n",
       "360  CRP   caacctgatgAAAAATAGTGTCGCTGAGCACTaaaatttaat"
      ]
     },
     "execution_count": 18,
     "metadata": {},
     "output_type": "execute_result"
    }
   ],
   "source": [
    "# Grab those rows. To be safe use copy() to make sure that, if we\n",
    "# alter tf_df, df itself doesn't change\n",
    "tf_df = df[flags].copy()\n",
    "tf_df.head()"
   ]
  },
  {
   "cell_type": "markdown",
   "metadata": {},
   "source": [
    "Selecting rows by a boolean vector, like `flags` is basically the only way I ever subset my rows. When you store rows as observations this is generally the case because you usually are **filtering** the rows based on a specific feature.\n",
    "\n",
    "### All the ways to subset DataFrames\n",
    "\n",
    "#### Rows\n",
    "By boolean : `df[BOOLEAN_VECTOR]` \n",
    "\n",
    "By name : `df.loc[LIST_OF_ROW_NAMES, :]`\n",
    "\n",
    "By Location : `df.iloc[LIST_OF_INTEGERS, :]`\n",
    "\n",
    "\n",
    "\n",
    "With a function `df.query('COLUMMN==value')` (This one is quite advanced, see [this tutorial for more](https://www.sharpsightlabs.com/blog/pandas-query/))\n",
    "#### Columns\n",
    "By boolean : `df.loc[:,BOOLEAN_VECTOR]`\n",
    "\n",
    "By name** : `df[LIST_OF_COLUMN_NAMES]`\n",
    "\n",
    "By Location : `df.iloc[:,LIST_OF_INTEGERS]`\n",
    "\n",
    "With a function : `df.filter(LOTS_OF_OPTIONS)` (This one is quite advanced, see [this tutorial for more](https://www.sharpsightlabs.com/blog/pandas-filter/))"
   ]
  },
  {
   "cell_type": "code",
   "execution_count": 19,
   "metadata": {},
   "outputs": [
    {
     "data": {
      "text/html": [
       "<div>\n",
       "<style scoped>\n",
       "    .dataframe tbody tr th:only-of-type {\n",
       "        vertical-align: middle;\n",
       "    }\n",
       "\n",
       "    .dataframe tbody tr th {\n",
       "        vertical-align: top;\n",
       "    }\n",
       "\n",
       "    .dataframe thead th {\n",
       "        text-align: right;\n",
       "    }\n",
       "</style>\n",
       "<table border=\"1\" class=\"dataframe\">\n",
       "  <thead>\n",
       "    <tr style=\"text-align: right;\">\n",
       "      <th></th>\n",
       "      <th>tf</th>\n",
       "      <th>site</th>\n",
       "    </tr>\n",
       "  </thead>\n",
       "  <tbody>\n",
       "    <tr>\n",
       "      <th>356</th>\n",
       "      <td>CRP</td>\n",
       "      <td>TGCGGAAAAATTTGTTCCTCTTCACATTTTTTGTACA</td>\n",
       "    </tr>\n",
       "    <tr>\n",
       "      <th>357</th>\n",
       "      <td>CRP</td>\n",
       "      <td>TTTTTTTCATATGCCTGACGGAGTTCACACTTGTAAGTTTTC</td>\n",
       "    </tr>\n",
       "    <tr>\n",
       "      <th>358</th>\n",
       "      <td>CRP</td>\n",
       "      <td>TGCTAAAAACCATTGTTATTAGTCTCACACTTTTTTATTGGTA</td>\n",
       "    </tr>\n",
       "    <tr>\n",
       "      <th>359</th>\n",
       "      <td>CRP</td>\n",
       "      <td>AGGTGCAACCGCAAAAAATGTGAGAGAGTGCAACCTGATGAA</td>\n",
       "    </tr>\n",
       "    <tr>\n",
       "      <th>360</th>\n",
       "      <td>CRP</td>\n",
       "      <td>CAACCTGATGAAAAATAGTGTCGCTGAGCACTAAAATTTAAT</td>\n",
       "    </tr>\n",
       "  </tbody>\n",
       "</table>\n",
       "</div>"
      ],
      "text/plain": [
       "      tf                                         site\n",
       "356  CRP        TGCGGAAAAATTTGTTCCTCTTCACATTTTTTGTACA\n",
       "357  CRP   TTTTTTTCATATGCCTGACGGAGTTCACACTTGTAAGTTTTC\n",
       "358  CRP  TGCTAAAAACCATTGTTATTAGTCTCACACTTTTTTATTGGTA\n",
       "359  CRP   AGGTGCAACCGCAAAAAATGTGAGAGAGTGCAACCTGATGAA\n",
       "360  CRP   CAACCTGATGAAAAATAGTGTCGCTGAGCACTAAAATTTAAT"
      ]
     },
     "execution_count": 19,
     "metadata": {},
     "output_type": "execute_result"
    }
   ],
   "source": [
    "# Each DNA binding site should be capitalized.\n",
    "# To do this, we reset 'site' column of tf_df\n",
    "\n",
    "# Get list of capitalized sites and replace the 'site' column with this\n",
    "capitalized_sites = [site.upper() for site in tf_df['site']]\n",
    "tf_df['site'] = capitalized_sites\n",
    "tf_df.head()"
   ]
  },
  {
   "cell_type": "code",
   "execution_count": 20,
   "metadata": {},
   "outputs": [
    {
     "data": {
      "text/html": [
       "<div>\n",
       "<style scoped>\n",
       "    .dataframe tbody tr th:only-of-type {\n",
       "        vertical-align: middle;\n",
       "    }\n",
       "\n",
       "    .dataframe tbody tr th {\n",
       "        vertical-align: top;\n",
       "    }\n",
       "\n",
       "    .dataframe thead th {\n",
       "        text-align: right;\n",
       "    }\n",
       "</style>\n",
       "<table border=\"1\" class=\"dataframe\">\n",
       "  <thead>\n",
       "    <tr style=\"text-align: right;\">\n",
       "      <th></th>\n",
       "      <th>tf</th>\n",
       "      <th>site</th>\n",
       "      <th>length</th>\n",
       "    </tr>\n",
       "  </thead>\n",
       "  <tbody>\n",
       "    <tr>\n",
       "      <th>356</th>\n",
       "      <td>CRP</td>\n",
       "      <td>TGCGGAAAAATTTGTTCCTCTTCACATTTTTTGTACA</td>\n",
       "      <td>37</td>\n",
       "    </tr>\n",
       "    <tr>\n",
       "      <th>357</th>\n",
       "      <td>CRP</td>\n",
       "      <td>TTTTTTTCATATGCCTGACGGAGTTCACACTTGTAAGTTTTC</td>\n",
       "      <td>42</td>\n",
       "    </tr>\n",
       "    <tr>\n",
       "      <th>358</th>\n",
       "      <td>CRP</td>\n",
       "      <td>TGCTAAAAACCATTGTTATTAGTCTCACACTTTTTTATTGGTA</td>\n",
       "      <td>43</td>\n",
       "    </tr>\n",
       "    <tr>\n",
       "      <th>359</th>\n",
       "      <td>CRP</td>\n",
       "      <td>AGGTGCAACCGCAAAAAATGTGAGAGAGTGCAACCTGATGAA</td>\n",
       "      <td>42</td>\n",
       "    </tr>\n",
       "    <tr>\n",
       "      <th>360</th>\n",
       "      <td>CRP</td>\n",
       "      <td>CAACCTGATGAAAAATAGTGTCGCTGAGCACTAAAATTTAAT</td>\n",
       "      <td>42</td>\n",
       "    </tr>\n",
       "  </tbody>\n",
       "</table>\n",
       "</div>"
      ],
      "text/plain": [
       "      tf                                         site  length\n",
       "356  CRP        TGCGGAAAAATTTGTTCCTCTTCACATTTTTTGTACA      37\n",
       "357  CRP   TTTTTTTCATATGCCTGACGGAGTTCACACTTGTAAGTTTTC      42\n",
       "358  CRP  TGCTAAAAACCATTGTTATTAGTCTCACACTTTTTTATTGGTA      43\n",
       "359  CRP   AGGTGCAACCGCAAAAAATGTGAGAGAGTGCAACCTGATGAA      42\n",
       "360  CRP   CAACCTGATGAAAAATAGTGTCGCTGAGCACTAAAATTTAAT      42"
      ]
     },
     "execution_count": 20,
     "metadata": {},
     "output_type": "execute_result"
    }
   ],
   "source": [
    "# In order to derive a motif, all sites we analyze need to be the same length.\n",
    "# It's good to check that this is actually the case.\n",
    "# We therefore add a column to tf_df listing the length of each site\n",
    "\n",
    "# Compute the length of each site and record this in a 'length' column\n",
    "site_lengths = [len(site) for site in tf_df['site']]\n",
    "tf_df['length'] = site_lengths\n",
    "tf_df.head()"
   ]
  },
  {
   "cell_type": "markdown",
   "metadata": {},
   "source": [
    "## Exercises, part 1"
   ]
  },
  {
   "cell_type": "markdown",
   "metadata": {},
   "source": [
    "**E4.1.** Use the `unique()` method to find how many different length exists for the TF binding sites."
   ]
  },
  {
   "cell_type": "code",
   "execution_count": 21,
   "metadata": {},
   "outputs": [],
   "source": [
    "# Answer here"
   ]
  },
  {
   "cell_type": "markdown",
   "metadata": {},
   "source": [
    "**E4.2.** Apparently these sites have a bunch of different lengths. For a better understanding of this, write a `for` loop to determine how many sites there are of each length."
   ]
  },
  {
   "cell_type": "code",
   "execution_count": 22,
   "metadata": {},
   "outputs": [],
   "source": [
    "# Answer here"
   ]
  },
  {
   "cell_type": "markdown",
   "metadata": {},
   "source": [
    "## Part 2"
   ]
  },
  {
   "cell_type": "code",
   "execution_count": 23,
   "metadata": {},
   "outputs": [
    {
     "data": {
      "text/plain": [
       "42    351\n",
       "43     71\n",
       "37     11\n",
       "44      5\n",
       "38      2\n",
       "32      1\n",
       "34      1\n",
       "36      1\n",
       "39      1\n",
       "40      1\n",
       "41      1\n",
       "Name: length, dtype: int64"
      ]
     },
     "execution_count": 23,
     "metadata": {},
     "output_type": "execute_result"
    }
   ],
   "source": [
    "# Use value_counts() to see how many sites of each length there are. \n",
    "tf_df['length'].value_counts()"
   ]
  },
  {
   "cell_type": "code",
   "execution_count": 24,
   "metadata": {},
   "outputs": [
    {
     "data": {
      "text/plain": [
       "42"
      ]
     },
     "execution_count": 24,
     "metadata": {},
     "output_type": "execute_result"
    }
   ],
   "source": [
    "# Use the mode() method to compute the most common binding site length\n",
    "# Note that mode() returns a tuple, of which we need to manually extract the first element\n",
    "length_mode = tf_df['length'].mode()[0]\n",
    "length_mode"
   ]
  },
  {
   "cell_type": "code",
   "execution_count": 25,
   "metadata": {},
   "outputs": [
    {
     "data": {
      "text/html": [
       "<div>\n",
       "<style scoped>\n",
       "    .dataframe tbody tr th:only-of-type {\n",
       "        vertical-align: middle;\n",
       "    }\n",
       "\n",
       "    .dataframe tbody tr th {\n",
       "        vertical-align: top;\n",
       "    }\n",
       "\n",
       "    .dataframe thead th {\n",
       "        text-align: right;\n",
       "    }\n",
       "</style>\n",
       "<table border=\"1\" class=\"dataframe\">\n",
       "  <thead>\n",
       "    <tr style=\"text-align: right;\">\n",
       "      <th></th>\n",
       "      <th>tf</th>\n",
       "      <th>site</th>\n",
       "      <th>length</th>\n",
       "    </tr>\n",
       "  </thead>\n",
       "  <tbody>\n",
       "    <tr>\n",
       "      <th>357</th>\n",
       "      <td>CRP</td>\n",
       "      <td>TTTTTTTCATATGCCTGACGGAGTTCACACTTGTAAGTTTTC</td>\n",
       "      <td>42</td>\n",
       "    </tr>\n",
       "    <tr>\n",
       "      <th>359</th>\n",
       "      <td>CRP</td>\n",
       "      <td>AGGTGCAACCGCAAAAAATGTGAGAGAGTGCAACCTGATGAA</td>\n",
       "      <td>42</td>\n",
       "    </tr>\n",
       "    <tr>\n",
       "      <th>360</th>\n",
       "      <td>CRP</td>\n",
       "      <td>CAACCTGATGAAAAATAGTGTCGCTGAGCACTAAAATTTAAT</td>\n",
       "      <td>42</td>\n",
       "    </tr>\n",
       "    <tr>\n",
       "      <th>361</th>\n",
       "      <td>CRP</td>\n",
       "      <td>AAAATTTAATGTAAATGGTGTGTTAAATCGATTGTGAATAAC</td>\n",
       "      <td>42</td>\n",
       "    </tr>\n",
       "    <tr>\n",
       "      <th>366</th>\n",
       "      <td>CRP</td>\n",
       "      <td>ACGAGTTACATTTAGTTACATGTTTAACACTTGATTTAAGAT</td>\n",
       "      <td>42</td>\n",
       "    </tr>\n",
       "  </tbody>\n",
       "</table>\n",
       "</div>"
      ],
      "text/plain": [
       "      tf                                        site  length\n",
       "357  CRP  TTTTTTTCATATGCCTGACGGAGTTCACACTTGTAAGTTTTC      42\n",
       "359  CRP  AGGTGCAACCGCAAAAAATGTGAGAGAGTGCAACCTGATGAA      42\n",
       "360  CRP  CAACCTGATGAAAAATAGTGTCGCTGAGCACTAAAATTTAAT      42\n",
       "361  CRP  AAAATTTAATGTAAATGGTGTGTTAAATCGATTGTGAATAAC      42\n",
       "366  CRP  ACGAGTTACATTTAGTTACATGTTTAACACTTGATTTAAGAT      42"
      ]
     },
     "execution_count": 25,
     "metadata": {},
     "output_type": "execute_result"
    }
   ],
   "source": [
    "# Flag rows having sites of the chosen length\n",
    "flags = (tf_df['length']==length_mode)\n",
    "\n",
    "# Only keep these rows\n",
    "tf_df = tf_df[flags]\n",
    "tf_df.head()"
   ]
  },
  {
   "cell_type": "code",
   "execution_count": 26,
   "metadata": {},
   "outputs": [
    {
     "data": {
      "text/plain": [
       "357    TTTTTTTCATATGCCTGACGGAGTTCACACTTGTAAGTTTTC\n",
       "359    AGGTGCAACCGCAAAAAATGTGAGAGAGTGCAACCTGATGAA\n",
       "360    CAACCTGATGAAAAATAGTGTCGCTGAGCACTAAAATTTAAT\n",
       "361    AAAATTTAATGTAAATGGTGTGTTAAATCGATTGTGAATAAC\n",
       "366    ACGAGTTACATTTAGTTACATGTTTAACACTTGATTTAAGAT\n",
       "Name: site, dtype: object"
      ]
     },
     "execution_count": 26,
     "metadata": {},
     "output_type": "execute_result"
    }
   ],
   "source": [
    "# Now extract the 'site' column from tf_df\n",
    "sites = tf_df['site']\n",
    "sites.head()"
   ]
  },
  {
   "cell_type": "code",
   "execution_count": 27,
   "metadata": {},
   "outputs": [
    {
     "data": {
      "text/html": [
       "<div>\n",
       "<style scoped>\n",
       "    .dataframe tbody tr th:only-of-type {\n",
       "        vertical-align: middle;\n",
       "    }\n",
       "\n",
       "    .dataframe tbody tr th {\n",
       "        vertical-align: top;\n",
       "    }\n",
       "\n",
       "    .dataframe thead th {\n",
       "        text-align: right;\n",
       "    }\n",
       "</style>\n",
       "<table border=\"1\" class=\"dataframe\">\n",
       "  <thead>\n",
       "    <tr style=\"text-align: right;\">\n",
       "      <th></th>\n",
       "      <th>A</th>\n",
       "      <th>C</th>\n",
       "      <th>G</th>\n",
       "      <th>T</th>\n",
       "    </tr>\n",
       "    <tr>\n",
       "      <th>pos</th>\n",
       "      <th></th>\n",
       "      <th></th>\n",
       "      <th></th>\n",
       "      <th></th>\n",
       "    </tr>\n",
       "  </thead>\n",
       "  <tbody>\n",
       "    <tr>\n",
       "      <th>0</th>\n",
       "      <td>110.0</td>\n",
       "      <td>61.0</td>\n",
       "      <td>55.0</td>\n",
       "      <td>125.0</td>\n",
       "    </tr>\n",
       "    <tr>\n",
       "      <th>1</th>\n",
       "      <td>90.0</td>\n",
       "      <td>80.0</td>\n",
       "      <td>63.0</td>\n",
       "      <td>118.0</td>\n",
       "    </tr>\n",
       "    <tr>\n",
       "      <th>2</th>\n",
       "      <td>108.0</td>\n",
       "      <td>66.0</td>\n",
       "      <td>81.0</td>\n",
       "      <td>96.0</td>\n",
       "    </tr>\n",
       "    <tr>\n",
       "      <th>3</th>\n",
       "      <td>98.0</td>\n",
       "      <td>68.0</td>\n",
       "      <td>84.0</td>\n",
       "      <td>101.0</td>\n",
       "    </tr>\n",
       "    <tr>\n",
       "      <th>4</th>\n",
       "      <td>96.0</td>\n",
       "      <td>73.0</td>\n",
       "      <td>85.0</td>\n",
       "      <td>97.0</td>\n",
       "    </tr>\n",
       "  </tbody>\n",
       "</table>\n",
       "</div>"
      ],
      "text/plain": [
       "         A     C     G      T\n",
       "pos                          \n",
       "0    110.0  61.0  55.0  125.0\n",
       "1     90.0  80.0  63.0  118.0\n",
       "2    108.0  66.0  81.0   96.0\n",
       "3     98.0  68.0  84.0  101.0\n",
       "4     96.0  73.0  85.0   97.0"
      ]
     },
     "execution_count": 27,
     "metadata": {},
     "output_type": "execute_result"
    }
   ],
   "source": [
    "# Using logomaker.alignment_to_matrix function, compute the number of times each base occurs at each position\n",
    "# Note that this returns a dataframe\n",
    "counts_mat = logomaker.alignment_to_matrix(sites)\n",
    "counts_mat.head()"
   ]
  },
  {
   "cell_type": "code",
   "execution_count": 28,
   "metadata": {},
   "outputs": [
    {
     "data": {
      "text/plain": [
       "<logomaker.src.Logo.Logo at 0x7fb338e45370>"
      ]
     },
     "execution_count": 28,
     "metadata": {},
     "output_type": "execute_result"
    },
    {
     "data": {
      "image/png": "[encoded data removed]",
      "text/plain": [
       "<Figure size 720x180 with 1 Axes>"
      ]
     },
     "metadata": {
      "needs_background": "light"
     },
     "output_type": "display_data"
    }
   ],
   "source": [
    "# This counts matrix can be visualized as a sequence logo\n",
    "logomaker.Logo(counts_mat,center_values=True)"
   ]
  },
  {
   "cell_type": "code",
   "execution_count": 29,
   "metadata": {},
   "outputs": [
    {
     "data": {
      "text/plain": [
       "<logomaker.src.Logo.Logo at 0x7fb339d75fd0>"
      ]
     },
     "execution_count": 29,
     "metadata": {},
     "output_type": "execute_result"
    },
    {
     "data": {
      "image/png": "[encoded data removed]",
      "text/plain": [
       "<Figure size 720x180 with 1 Axes>"
      ]
     },
     "metadata": {
      "needs_background": "light"
     },
     "output_type": "display_data"
    }
   ],
   "source": [
    "#what we most commonly see in publications are actually \"information\" logos\n",
    "info_df = logomaker.transform_matrix(counts_mat,from_type='counts',to_type='information')\n",
    "logomaker.Logo(info_df)"
   ]
  },
  {
   "cell_type": "markdown",
   "metadata": {},
   "source": [
    "## Exercises, part 2"
   ]
  },
  {
   "cell_type": "markdown",
   "metadata": {},
   "source": [
    "**E4.3.** Fill out the function below so that the user can pass the name of any TF and get list of aligned sites back. Test that it works, e.g. on `tf='FNR'`, by getting a list of sites and making an information logo. Also test that it fails when it is supposed to."
   ]
  },
  {
   "cell_type": "code",
   "execution_count": 30,
   "metadata": {},
   "outputs": [],
   "source": [
    "# Now let's turn this into a function \n",
    "def get_tf_sites(tf):\n",
    "   \n",
    "    # Load database\n",
    "    df = pd.read_csv(\"data/binding_site_db.txt\", sep='\\t', comment='#',\n",
    "                 header=None, usecols=[1,13], names=['tf','site']).dropna()\n",
    "    \n",
    "    # \n",
    "    # Fill in stuff here\n",
    "    # \n",
    "    \n",
    "    # Get sequence alignment and return it\n",
    "    return tf_df['site']\n"
   ]
  },
  {
   "cell_type": "code",
   "execution_count": 31,
   "metadata": {},
   "outputs": [],
   "source": [
    "aligned_sites = get_tf_sites('FNR')\n",
    "#create information logo from retrived aligned sites of FNR"
   ]
  },
  {
   "cell_type": "markdown",
   "metadata": {},
   "source": [
    "## Part 3"
   ]
  },
  {
   "cell_type": "markdown",
   "metadata": {},
   "source": [
    "Now that we've went through the basics of dataframe and dataframe subsetting, lets go through a few pandas function that is commonly used for dataframe manipulation. For easiness, we'll do the following parts in the palmer penguine toy dataset"
   ]
  },
  {
   "cell_type": "code",
   "execution_count": 43,
   "metadata": {},
   "outputs": [
    {
     "data": {
      "text/html": [
       "<div>\n",
       "<style scoped>\n",
       "    .dataframe tbody tr th:only-of-type {\n",
       "        vertical-align: middle;\n",
       "    }\n",
       "\n",
       "    .dataframe tbody tr th {\n",
       "        vertical-align: top;\n",
       "    }\n",
       "\n",
       "    .dataframe thead th {\n",
       "        text-align: right;\n",
       "    }\n",
       "</style>\n",
       "<table border=\"1\" class=\"dataframe\">\n",
       "  <thead>\n",
       "    <tr style=\"text-align: right;\">\n",
       "      <th></th>\n",
       "      <th>species</th>\n",
       "      <th>island</th>\n",
       "      <th>bill_length_mm</th>\n",
       "      <th>bill_depth_mm</th>\n",
       "      <th>flipper_length_mm</th>\n",
       "      <th>body_mass_g</th>\n",
       "      <th>sex</th>\n",
       "      <th>year</th>\n",
       "    </tr>\n",
       "  </thead>\n",
       "  <tbody>\n",
       "    <tr>\n",
       "      <th>0</th>\n",
       "      <td>Adelie</td>\n",
       "      <td>Torgersen</td>\n",
       "      <td>39.1</td>\n",
       "      <td>18.7</td>\n",
       "      <td>181.0</td>\n",
       "      <td>3750.0</td>\n",
       "      <td>male</td>\n",
       "      <td>2007</td>\n",
       "    </tr>\n",
       "    <tr>\n",
       "      <th>1</th>\n",
       "      <td>Adelie</td>\n",
       "      <td>Torgersen</td>\n",
       "      <td>39.5</td>\n",
       "      <td>17.4</td>\n",
       "      <td>186.0</td>\n",
       "      <td>3800.0</td>\n",
       "      <td>female</td>\n",
       "      <td>2007</td>\n",
       "    </tr>\n",
       "    <tr>\n",
       "      <th>2</th>\n",
       "      <td>Adelie</td>\n",
       "      <td>Torgersen</td>\n",
       "      <td>40.3</td>\n",
       "      <td>18.0</td>\n",
       "      <td>195.0</td>\n",
       "      <td>3250.0</td>\n",
       "      <td>female</td>\n",
       "      <td>2007</td>\n",
       "    </tr>\n",
       "    <tr>\n",
       "      <th>4</th>\n",
       "      <td>Adelie</td>\n",
       "      <td>Torgersen</td>\n",
       "      <td>36.7</td>\n",
       "      <td>19.3</td>\n",
       "      <td>193.0</td>\n",
       "      <td>3450.0</td>\n",
       "      <td>female</td>\n",
       "      <td>2007</td>\n",
       "    </tr>\n",
       "    <tr>\n",
       "      <th>5</th>\n",
       "      <td>Adelie</td>\n",
       "      <td>Torgersen</td>\n",
       "      <td>39.3</td>\n",
       "      <td>20.6</td>\n",
       "      <td>190.0</td>\n",
       "      <td>3650.0</td>\n",
       "      <td>male</td>\n",
       "      <td>2007</td>\n",
       "    </tr>\n",
       "    <tr>\n",
       "      <th>...</th>\n",
       "      <td>...</td>\n",
       "      <td>...</td>\n",
       "      <td>...</td>\n",
       "      <td>...</td>\n",
       "      <td>...</td>\n",
       "      <td>...</td>\n",
       "      <td>...</td>\n",
       "      <td>...</td>\n",
       "    </tr>\n",
       "    <tr>\n",
       "      <th>339</th>\n",
       "      <td>Chinstrap</td>\n",
       "      <td>Dream</td>\n",
       "      <td>55.8</td>\n",
       "      <td>19.8</td>\n",
       "      <td>207.0</td>\n",
       "      <td>4000.0</td>\n",
       "      <td>male</td>\n",
       "      <td>2009</td>\n",
       "    </tr>\n",
       "    <tr>\n",
       "      <th>340</th>\n",
       "      <td>Chinstrap</td>\n",
       "      <td>Dream</td>\n",
       "      <td>43.5</td>\n",
       "      <td>18.1</td>\n",
       "      <td>202.0</td>\n",
       "      <td>3400.0</td>\n",
       "      <td>female</td>\n",
       "      <td>2009</td>\n",
       "    </tr>\n",
       "    <tr>\n",
       "      <th>341</th>\n",
       "      <td>Chinstrap</td>\n",
       "      <td>Dream</td>\n",
       "      <td>49.6</td>\n",
       "      <td>18.2</td>\n",
       "      <td>193.0</td>\n",
       "      <td>3775.0</td>\n",
       "      <td>male</td>\n",
       "      <td>2009</td>\n",
       "    </tr>\n",
       "    <tr>\n",
       "      <th>342</th>\n",
       "      <td>Chinstrap</td>\n",
       "      <td>Dream</td>\n",
       "      <td>50.8</td>\n",
       "      <td>19.0</td>\n",
       "      <td>210.0</td>\n",
       "      <td>4100.0</td>\n",
       "      <td>male</td>\n",
       "      <td>2009</td>\n",
       "    </tr>\n",
       "    <tr>\n",
       "      <th>343</th>\n",
       "      <td>Chinstrap</td>\n",
       "      <td>Dream</td>\n",
       "      <td>50.2</td>\n",
       "      <td>18.7</td>\n",
       "      <td>198.0</td>\n",
       "      <td>3775.0</td>\n",
       "      <td>female</td>\n",
       "      <td>2009</td>\n",
       "    </tr>\n",
       "  </tbody>\n",
       "</table>\n",
       "<p>333 rows × 8 columns</p>\n",
       "</div>"
      ],
      "text/plain": [
       "       species     island  bill_length_mm  bill_depth_mm  flipper_length_mm  \\\n",
       "0       Adelie  Torgersen            39.1           18.7              181.0   \n",
       "1       Adelie  Torgersen            39.5           17.4              186.0   \n",
       "2       Adelie  Torgersen            40.3           18.0              195.0   \n",
       "4       Adelie  Torgersen            36.7           19.3              193.0   \n",
       "5       Adelie  Torgersen            39.3           20.6              190.0   \n",
       "..         ...        ...             ...            ...                ...   \n",
       "339  Chinstrap      Dream            55.8           19.8              207.0   \n",
       "340  Chinstrap      Dream            43.5           18.1              202.0   \n",
       "341  Chinstrap      Dream            49.6           18.2              193.0   \n",
       "342  Chinstrap      Dream            50.8           19.0              210.0   \n",
       "343  Chinstrap      Dream            50.2           18.7              198.0   \n",
       "\n",
       "     body_mass_g     sex  year  \n",
       "0         3750.0    male  2007  \n",
       "1         3800.0  female  2007  \n",
       "2         3250.0  female  2007  \n",
       "4         3450.0  female  2007  \n",
       "5         3650.0    male  2007  \n",
       "..           ...     ...   ...  \n",
       "339       4000.0    male  2009  \n",
       "340       3400.0  female  2009  \n",
       "341       3775.0    male  2009  \n",
       "342       4100.0    male  2009  \n",
       "343       3775.0  female  2009  \n",
       "\n",
       "[333 rows x 8 columns]"
      ]
     },
     "execution_count": 43,
     "metadata": {},
     "output_type": "execute_result"
    }
   ],
   "source": [
    "import seaborn as sns\n",
    "df = load_penguins()\n",
    "df = df.dropna()\n",
    "df"
   ]
  },
  {
   "cell_type": "markdown",
   "metadata": {},
   "source": [
    "#### pd.melt()"
   ]
  },
  {
   "cell_type": "code",
   "execution_count": 44,
   "metadata": {},
   "outputs": [
    {
     "data": {
      "text/plain": [
       "<AxesSubplot:xlabel='species', ylabel='bill_length_mm'>"
      ]
     },
     "execution_count": 44,
     "metadata": {},
     "output_type": "execute_result"
    },
    {
     "data": {
      "image/png": "[encoded data removed]",
      "text/plain": [
       "<Figure size 432x288 with 1 Axes>"
      ]
     },
     "metadata": {
      "needs_background": "light"
     },
     "output_type": "display_data"
    }
   ],
   "source": [
    "#how we plot the most common bar plot\n",
    "#You x axis is species, a categorical variable. \n",
    "#This means that we can use it to group/seperate the data by species \n",
    "sns.barplot(data=df, x='species', y='bill_length_mm')"
   ]
  },
  {
   "cell_type": "markdown",
   "metadata": {},
   "source": [
    "What if I wanted to compare the distributions of different numerical variables. Say see how bill_length and bill_width compare (not within an observation)? \n",
    "\n",
    "To do this you need to make the data \"tall\" using the function pd.melt()"
   ]
  },
  {
   "cell_type": "code",
   "execution_count": 45,
   "metadata": {},
   "outputs": [
    {
     "data": {
      "text/html": [
       "<div>\n",
       "<style scoped>\n",
       "    .dataframe tbody tr th:only-of-type {\n",
       "        vertical-align: middle;\n",
       "    }\n",
       "\n",
       "    .dataframe tbody tr th {\n",
       "        vertical-align: top;\n",
       "    }\n",
       "\n",
       "    .dataframe thead th {\n",
       "        text-align: right;\n",
       "    }\n",
       "</style>\n",
       "<table border=\"1\" class=\"dataframe\">\n",
       "  <thead>\n",
       "    <tr style=\"text-align: right;\">\n",
       "      <th></th>\n",
       "      <th>variable</th>\n",
       "      <th>value</th>\n",
       "    </tr>\n",
       "  </thead>\n",
       "  <tbody>\n",
       "    <tr>\n",
       "      <th>0</th>\n",
       "      <td>bill_length_mm</td>\n",
       "      <td>39.1</td>\n",
       "    </tr>\n",
       "    <tr>\n",
       "      <th>1</th>\n",
       "      <td>bill_length_mm</td>\n",
       "      <td>39.5</td>\n",
       "    </tr>\n",
       "    <tr>\n",
       "      <th>2</th>\n",
       "      <td>bill_length_mm</td>\n",
       "      <td>40.3</td>\n",
       "    </tr>\n",
       "    <tr>\n",
       "      <th>3</th>\n",
       "      <td>bill_length_mm</td>\n",
       "      <td>36.7</td>\n",
       "    </tr>\n",
       "    <tr>\n",
       "      <th>4</th>\n",
       "      <td>bill_length_mm</td>\n",
       "      <td>39.3</td>\n",
       "    </tr>\n",
       "  </tbody>\n",
       "</table>\n",
       "</div>"
      ],
      "text/plain": [
       "         variable  value\n",
       "0  bill_length_mm   39.1\n",
       "1  bill_length_mm   39.5\n",
       "2  bill_length_mm   40.3\n",
       "3  bill_length_mm   36.7\n",
       "4  bill_length_mm   39.3"
      ]
     },
     "execution_count": 45,
     "metadata": {},
     "output_type": "execute_result"
    }
   ],
   "source": [
    "bills_tall = pd.melt(df[['bill_length_mm', 'bill_depth_mm']])\n",
    "bills_tall.head()"
   ]
  },
  {
   "cell_type": "code",
   "execution_count": 46,
   "metadata": {},
   "outputs": [
    {
     "data": {
      "text/plain": [
       "array(['bill_length_mm', 'bill_depth_mm'], dtype=object)"
      ]
     },
     "execution_count": 46,
     "metadata": {},
     "output_type": "execute_result"
    }
   ],
   "source": [
    "bills_tall['variable'].unique()"
   ]
  },
  {
   "cell_type": "code",
   "execution_count": 47,
   "metadata": {},
   "outputs": [
    {
     "data": {
      "text/plain": [
       "<AxesSubplot:xlabel='variable', ylabel='value'>"
      ]
     },
     "execution_count": 47,
     "metadata": {},
     "output_type": "execute_result"
    },
    {
     "data": {
      "image/png": "[encoded data removed]",
      "text/plain": [
       "<Figure size 432x288 with 1 Axes>"
      ]
     },
     "metadata": {
      "needs_background": "light"
     },
     "output_type": "display_data"
    }
   ],
   "source": [
    "sns.barplot(data=bills_tall,x='variable',y='value')"
   ]
  },
  {
   "cell_type": "markdown",
   "metadata": {},
   "source": [
    "Now, this is great, but you may notice that we have lost the information about which species each observation came from, when making the data tall, you can add another argument to melt that will bring with each value the species"
   ]
  },
  {
   "cell_type": "code",
   "execution_count": 48,
   "metadata": {},
   "outputs": [
    {
     "data": {
      "text/html": [
       "<div>\n",
       "<style scoped>\n",
       "    .dataframe tbody tr th:only-of-type {\n",
       "        vertical-align: middle;\n",
       "    }\n",
       "\n",
       "    .dataframe tbody tr th {\n",
       "        vertical-align: top;\n",
       "    }\n",
       "\n",
       "    .dataframe thead th {\n",
       "        text-align: right;\n",
       "    }\n",
       "</style>\n",
       "<table border=\"1\" class=\"dataframe\">\n",
       "  <thead>\n",
       "    <tr style=\"text-align: right;\">\n",
       "      <th></th>\n",
       "      <th>species</th>\n",
       "      <th>measurment</th>\n",
       "      <th>mm</th>\n",
       "    </tr>\n",
       "  </thead>\n",
       "  <tbody>\n",
       "    <tr>\n",
       "      <th>0</th>\n",
       "      <td>Adelie</td>\n",
       "      <td>bill_length_mm</td>\n",
       "      <td>39.1</td>\n",
       "    </tr>\n",
       "    <tr>\n",
       "      <th>1</th>\n",
       "      <td>Adelie</td>\n",
       "      <td>bill_length_mm</td>\n",
       "      <td>39.5</td>\n",
       "    </tr>\n",
       "    <tr>\n",
       "      <th>2</th>\n",
       "      <td>Adelie</td>\n",
       "      <td>bill_length_mm</td>\n",
       "      <td>40.3</td>\n",
       "    </tr>\n",
       "    <tr>\n",
       "      <th>3</th>\n",
       "      <td>Adelie</td>\n",
       "      <td>bill_length_mm</td>\n",
       "      <td>36.7</td>\n",
       "    </tr>\n",
       "    <tr>\n",
       "      <th>4</th>\n",
       "      <td>Adelie</td>\n",
       "      <td>bill_length_mm</td>\n",
       "      <td>39.3</td>\n",
       "    </tr>\n",
       "  </tbody>\n",
       "</table>\n",
       "</div>"
      ],
      "text/plain": [
       "  species      measurment    mm\n",
       "0  Adelie  bill_length_mm  39.1\n",
       "1  Adelie  bill_length_mm  39.5\n",
       "2  Adelie  bill_length_mm  40.3\n",
       "3  Adelie  bill_length_mm  36.7\n",
       "4  Adelie  bill_length_mm  39.3"
      ]
     },
     "execution_count": 48,
     "metadata": {},
     "output_type": "execute_result"
    }
   ],
   "source": [
    "bills_tall_species = pd.melt(\n",
    "    df[['bill_length_mm', 'bill_depth_mm', 'species']], id_vars='species', var_name='measurment',value_name='mm')\n",
    "bills_tall_species.head()"
   ]
  },
  {
   "cell_type": "code",
   "execution_count": 49,
   "metadata": {},
   "outputs": [
    {
     "data": {
      "image/png": "[encoded data removed]",
      "text/plain": [
       "<Figure size 432x288 with 1 Axes>"
      ]
     },
     "metadata": {
      "needs_background": "light"
     },
     "output_type": "display_data"
    }
   ],
   "source": [
    "#Next lecture will be on data visulization! \n",
    "sns.barplot(data=bills_tall_species, x='measurment', y='mm', hue='species');"
   ]
  },
  {
   "cell_type": "markdown",
   "metadata": {},
   "source": [
    "#### pd.concat()\n",
    "It is extremely common for data to come in separate files. But we need to join the files together. To use pd.concat()"
   ]
  },
  {
   "cell_type": "code",
   "execution_count": 63,
   "metadata": {},
   "outputs": [
    {
     "data": {
      "text/html": [
       "<div>\n",
       "<style scoped>\n",
       "    .dataframe tbody tr th:only-of-type {\n",
       "        vertical-align: middle;\n",
       "    }\n",
       "\n",
       "    .dataframe tbody tr th {\n",
       "        vertical-align: top;\n",
       "    }\n",
       "\n",
       "    .dataframe thead th {\n",
       "        text-align: right;\n",
       "    }\n",
       "</style>\n",
       "<table border=\"1\" class=\"dataframe\">\n",
       "  <thead>\n",
       "    <tr style=\"text-align: right;\">\n",
       "      <th></th>\n",
       "      <th>species</th>\n",
       "      <th>island</th>\n",
       "      <th>bill_length_mm</th>\n",
       "      <th>bill_depth_mm</th>\n",
       "    </tr>\n",
       "  </thead>\n",
       "  <tbody>\n",
       "    <tr>\n",
       "      <th>0</th>\n",
       "      <td>Adelie</td>\n",
       "      <td>Torgersen</td>\n",
       "      <td>39.1</td>\n",
       "      <td>18.7</td>\n",
       "    </tr>\n",
       "    <tr>\n",
       "      <th>1</th>\n",
       "      <td>Adelie</td>\n",
       "      <td>Torgersen</td>\n",
       "      <td>39.5</td>\n",
       "      <td>17.4</td>\n",
       "    </tr>\n",
       "    <tr>\n",
       "      <th>2</th>\n",
       "      <td>Adelie</td>\n",
       "      <td>Torgersen</td>\n",
       "      <td>40.3</td>\n",
       "      <td>18.0</td>\n",
       "    </tr>\n",
       "    <tr>\n",
       "      <th>4</th>\n",
       "      <td>Adelie</td>\n",
       "      <td>Torgersen</td>\n",
       "      <td>36.7</td>\n",
       "      <td>19.3</td>\n",
       "    </tr>\n",
       "    <tr>\n",
       "      <th>5</th>\n",
       "      <td>Adelie</td>\n",
       "      <td>Torgersen</td>\n",
       "      <td>39.3</td>\n",
       "      <td>20.6</td>\n",
       "    </tr>\n",
       "  </tbody>\n",
       "</table>\n",
       "</div>"
      ],
      "text/plain": [
       "  species     island  bill_length_mm  bill_depth_mm\n",
       "0  Adelie  Torgersen            39.1           18.7\n",
       "1  Adelie  Torgersen            39.5           17.4\n",
       "2  Adelie  Torgersen            40.3           18.0\n",
       "4  Adelie  Torgersen            36.7           19.3\n",
       "5  Adelie  Torgersen            39.3           20.6"
      ]
     },
     "execution_count": 63,
     "metadata": {},
     "output_type": "execute_result"
    }
   ],
   "source": [
    "sub_df_1 = df.iloc[:,0:4]\n",
    "sub_df_1.head()"
   ]
  },
  {
   "cell_type": "code",
   "execution_count": 64,
   "metadata": {},
   "outputs": [
    {
     "data": {
      "text/html": [
       "<div>\n",
       "<style scoped>\n",
       "    .dataframe tbody tr th:only-of-type {\n",
       "        vertical-align: middle;\n",
       "    }\n",
       "\n",
       "    .dataframe tbody tr th {\n",
       "        vertical-align: top;\n",
       "    }\n",
       "\n",
       "    .dataframe thead th {\n",
       "        text-align: right;\n",
       "    }\n",
       "</style>\n",
       "<table border=\"1\" class=\"dataframe\">\n",
       "  <thead>\n",
       "    <tr style=\"text-align: right;\">\n",
       "      <th></th>\n",
       "      <th>flipper_length_mm</th>\n",
       "      <th>body_mass_g</th>\n",
       "      <th>sex</th>\n",
       "      <th>year</th>\n",
       "    </tr>\n",
       "  </thead>\n",
       "  <tbody>\n",
       "    <tr>\n",
       "      <th>0</th>\n",
       "      <td>181.0</td>\n",
       "      <td>3750.0</td>\n",
       "      <td>male</td>\n",
       "      <td>2007</td>\n",
       "    </tr>\n",
       "    <tr>\n",
       "      <th>1</th>\n",
       "      <td>186.0</td>\n",
       "      <td>3800.0</td>\n",
       "      <td>female</td>\n",
       "      <td>2007</td>\n",
       "    </tr>\n",
       "    <tr>\n",
       "      <th>2</th>\n",
       "      <td>195.0</td>\n",
       "      <td>3250.0</td>\n",
       "      <td>female</td>\n",
       "      <td>2007</td>\n",
       "    </tr>\n",
       "    <tr>\n",
       "      <th>4</th>\n",
       "      <td>193.0</td>\n",
       "      <td>3450.0</td>\n",
       "      <td>female</td>\n",
       "      <td>2007</td>\n",
       "    </tr>\n",
       "    <tr>\n",
       "      <th>5</th>\n",
       "      <td>190.0</td>\n",
       "      <td>3650.0</td>\n",
       "      <td>male</td>\n",
       "      <td>2007</td>\n",
       "    </tr>\n",
       "  </tbody>\n",
       "</table>\n",
       "</div>"
      ],
      "text/plain": [
       "   flipper_length_mm  body_mass_g     sex  year\n",
       "0              181.0       3750.0    male  2007\n",
       "1              186.0       3800.0  female  2007\n",
       "2              195.0       3250.0  female  2007\n",
       "4              193.0       3450.0  female  2007\n",
       "5              190.0       3650.0    male  2007"
      ]
     },
     "execution_count": 64,
     "metadata": {},
     "output_type": "execute_result"
    }
   ],
   "source": [
    "sub_df_2 = df.iloc[:,4:]\n",
    "sub_df_2.head()"
   ]
  },
  {
   "cell_type": "code",
   "execution_count": 68,
   "metadata": {},
   "outputs": [
    {
     "data": {
      "text/html": [
       "<div>\n",
       "<style scoped>\n",
       "    .dataframe tbody tr th:only-of-type {\n",
       "        vertical-align: middle;\n",
       "    }\n",
       "\n",
       "    .dataframe tbody tr th {\n",
       "        vertical-align: top;\n",
       "    }\n",
       "\n",
       "    .dataframe thead th {\n",
       "        text-align: right;\n",
       "    }\n",
       "</style>\n",
       "<table border=\"1\" class=\"dataframe\">\n",
       "  <thead>\n",
       "    <tr style=\"text-align: right;\">\n",
       "      <th></th>\n",
       "      <th>species</th>\n",
       "      <th>island</th>\n",
       "      <th>bill_length_mm</th>\n",
       "      <th>bill_depth_mm</th>\n",
       "      <th>flipper_length_mm</th>\n",
       "      <th>body_mass_g</th>\n",
       "      <th>sex</th>\n",
       "      <th>year</th>\n",
       "    </tr>\n",
       "  </thead>\n",
       "  <tbody>\n",
       "    <tr>\n",
       "      <th>0</th>\n",
       "      <td>Adelie</td>\n",
       "      <td>Torgersen</td>\n",
       "      <td>39.1</td>\n",
       "      <td>18.7</td>\n",
       "      <td>181.0</td>\n",
       "      <td>3750.0</td>\n",
       "      <td>male</td>\n",
       "      <td>2007</td>\n",
       "    </tr>\n",
       "    <tr>\n",
       "      <th>1</th>\n",
       "      <td>Adelie</td>\n",
       "      <td>Torgersen</td>\n",
       "      <td>39.5</td>\n",
       "      <td>17.4</td>\n",
       "      <td>186.0</td>\n",
       "      <td>3800.0</td>\n",
       "      <td>female</td>\n",
       "      <td>2007</td>\n",
       "    </tr>\n",
       "    <tr>\n",
       "      <th>2</th>\n",
       "      <td>Adelie</td>\n",
       "      <td>Torgersen</td>\n",
       "      <td>40.3</td>\n",
       "      <td>18.0</td>\n",
       "      <td>195.0</td>\n",
       "      <td>3250.0</td>\n",
       "      <td>female</td>\n",
       "      <td>2007</td>\n",
       "    </tr>\n",
       "    <tr>\n",
       "      <th>4</th>\n",
       "      <td>Adelie</td>\n",
       "      <td>Torgersen</td>\n",
       "      <td>36.7</td>\n",
       "      <td>19.3</td>\n",
       "      <td>193.0</td>\n",
       "      <td>3450.0</td>\n",
       "      <td>female</td>\n",
       "      <td>2007</td>\n",
       "    </tr>\n",
       "    <tr>\n",
       "      <th>5</th>\n",
       "      <td>Adelie</td>\n",
       "      <td>Torgersen</td>\n",
       "      <td>39.3</td>\n",
       "      <td>20.6</td>\n",
       "      <td>190.0</td>\n",
       "      <td>3650.0</td>\n",
       "      <td>male</td>\n",
       "      <td>2007</td>\n",
       "    </tr>\n",
       "  </tbody>\n",
       "</table>\n",
       "</div>"
      ],
      "text/plain": [
       "  species     island  bill_length_mm  bill_depth_mm  flipper_length_mm  \\\n",
       "0  Adelie  Torgersen            39.1           18.7              181.0   \n",
       "1  Adelie  Torgersen            39.5           17.4              186.0   \n",
       "2  Adelie  Torgersen            40.3           18.0              195.0   \n",
       "4  Adelie  Torgersen            36.7           19.3              193.0   \n",
       "5  Adelie  Torgersen            39.3           20.6              190.0   \n",
       "\n",
       "   body_mass_g     sex  year  \n",
       "0       3750.0    male  2007  \n",
       "1       3800.0  female  2007  \n",
       "2       3250.0  female  2007  \n",
       "4       3450.0  female  2007  \n",
       "5       3650.0    male  2007  "
      ]
     },
     "execution_count": 68,
     "metadata": {},
     "output_type": "execute_result"
    }
   ],
   "source": [
    "cat_df = pd.concat([sub_df_1, sub_df_2],axis=1)\n",
    "cat_df.head()\n",
    "#The axis=1 tells the function to stick the columns next to eachother, would hstack if we remove it"
   ]
  },
  {
   "cell_type": "markdown",
   "metadata": {},
   "source": [
    "## Part 4"
   ]
  },
  {
   "cell_type": "markdown",
   "metadata": {},
   "source": [
    "Finally, just a few commonly used statistic tests. Here we'll heavily use the package `scipy`. Its a Python library that have implemented a lot of existing statistic tests.\n",
    "\n",
    "### Calculating Mann Whitney U test statistic:\n",
    " The Mann-Whitney U test is a nonparametric test of the null hypothesis that the distribution underlying sample x is the same as the distribution underlying sample y."
   ]
  },
  {
   "cell_type": "code",
   "execution_count": 50,
   "metadata": {},
   "outputs": [
    {
     "data": {
      "text/plain": [
       "MannwhitneyuResult(statistic=216.0, pvalue=2.021873766800527e-42)"
      ]
     },
     "execution_count": 50,
     "metadata": {},
     "output_type": "execute_result"
    }
   ],
   "source": [
    "import scipy\n",
    "\n",
    "adelie_flag = df['species'] == 'Adelie'\n",
    "gentoo_flag = df['species'] == 'Gentoo'\n",
    "\n",
    "adelie_bill_l = df[adelie_flag]['bill_length_mm']\n",
    "gentoo_bill_l = df[gentoo_flag]['bill_length_mm']\n",
    "\n",
    "scipy.stats.mannwhitneyu(adelie_bill_l, gentoo_bill_l, nan_policy ='omit')"
   ]
  },
  {
   "cell_type": "markdown",
   "metadata": {},
   "source": [
    "### Calculating correlation coefficients\n",
    "The Pearson correlation coefficient measures the linear relationship between two datasets."
   ]
  },
  {
   "cell_type": "code",
   "execution_count": 52,
   "metadata": {},
   "outputs": [
    {
     "data": {
      "text/plain": [
       "(0.5894511101769491, 1.5386135144860734e-32)"
      ]
     },
     "execution_count": 52,
     "metadata": {},
     "output_type": "execute_result"
    }
   ],
   "source": [
    "bill_l = df['bill_length_mm']\n",
    "body_m = df['body_mass_g']\n",
    "scipy.stats.pearsonr(bill_l,body_m)"
   ]
  },
  {
   "cell_type": "markdown",
   "metadata": {},
   "source": [
    "### Calculating P values\n",
    "\n",
    "We are not going into the complications around p-value. Here I'm just gonna simply show how to do the most simple t-test using python"
   ]
  },
  {
   "cell_type": "code",
   "execution_count": 55,
   "metadata": {},
   "outputs": [
    {
     "data": {
      "text/plain": [
       "Ttest_indResult(statistic=-24.286066500471392, pvalue=7.821528746388473e-66)"
      ]
     },
     "execution_count": 55,
     "metadata": {},
     "output_type": "execute_result"
    }
   ],
   "source": [
    "scipy.stats.ttest_ind(adelie_bill_l, gentoo_bill_l, equal_var=False)"
   ]
  }
 ],
 "metadata": {
  "kernelspec": {
   "display_name": "Python 3",
   "language": "python",
   "name": "python3"
  },
  "language_info": {
   "codemirror_mode": {
    "name": "ipython",
    "version": 3
   },
   "file_extension": ".py",
   "mimetype": "text/x-python",
   "name": "python",
   "nbconvert_exporter": "python",
   "pygments_lexer": "ipython3",
   "version": "3.9.0"
  }
 },
 "nbformat": 4,
 "nbformat_minor": 4
}
