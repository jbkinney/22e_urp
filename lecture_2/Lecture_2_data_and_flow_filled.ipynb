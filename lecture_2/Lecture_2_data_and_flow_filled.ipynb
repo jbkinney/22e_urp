{
 "cells": [
  {
   "cell_type": "markdown",
   "metadata": {},
   "source": [
    "# Lecture 2: Data Types and Flow Control\n",
    "\n",
    "\n",
    "> ### __At the core of any language:__\n",
    "\n",
    "- Control the flow of the program\n",
    "\n",
    "- Construct and access data elements\n",
    "\n",
    "- operate on data elements\n",
    "\n",
    "- Construct functions\n",
    "\n",
    "- Construct classes\n",
    "\n",
    "- Libraries and built-in classes\n",
    "\n",
    "> \"The Practice of Computing Using Python\"Python, , 3 rd Edition\", Punch & Enbody, 2017\n",
    "\n",
    "\n",
    "#### Today we will present a very brief overview of the basics of __data types__, __flow control__ and __functions__."
   ]
  },
  {
   "cell_type": "markdown",
   "metadata": {},
   "source": [
    "------\n",
    "## Part 1: Data Types\n",
    "\n",
    "### What is a Type?\n",
    "\n",
    "A type in Python essentially defines two things:\n",
    "\n",
    " </br>\n",
    "\n",
    "- the __internal structure__ of the type (what it contains)\n",
    "\n",
    "    - For example, Python allocates a fixed number of bytes of space in memory for each variable of a normal integer type. Tpically, an integer occupies four bytes, or 32 bits. (~ billions)\n",
    "\n",
    " </br>\n",
    " \n",
    "- the kinds of __operations__ you can perform:\n",
    "\n",
    "    - `'abc'.capitalize()` is a method you can call on strings, but not integers.\n",
    "\n",
    "    -  Each data type has its own `operators` to compute the operations: Operators are special symbols in Python that carry out arithmetic or logical computation. An operator takes one or more operands, computes a result, and makes that result available to Python for further use. \n",
    "\n",
    "        - e.g.,`+`, `<`, `-`, `*`, `**`, `//`, `!=`, `==`\n",
    "\n",
    " </br>\n",
    " \n",
    "Some types have multiple elements (__collections__); we'll see those later\n",
    "\n",
    " </br>\n",
    " "
   ]
  },
  {
   "cell_type": "markdown",
   "metadata": {},
   "source": [
    "------\n",
    "\n",
    "### Fundamental Types"
   ]
  },
  {
   "cell_type": "markdown",
   "metadata": {},
   "source": [
    "#### __Numbers__"
   ]
  },
  {
   "cell_type": "markdown",
   "metadata": {},
   "source": [
    "__Before we start: help your future self! Always give variables meaningful names.__ "
   ]
  },
  {
   "cell_type": "code",
   "execution_count": 1,
   "metadata": {},
   "outputs": [],
   "source": [
    "# intergers\n",
    "\n",
    "total_seq = 100"
   ]
  },
  {
   "cell_type": "code",
   "execution_count": 2,
   "metadata": {
    "collapsed": true,
    "jupyter": {
     "outputs_hidden": true
    }
   },
   "outputs": [],
   "source": [
    "# Floating point numbers\n",
    "\n",
    "ph = 8.0 \n",
    "avocado_number = 6.02e23"
   ]
  },
  {
   "cell_type": "code",
   "execution_count": 72,
   "metadata": {
    "collapsed": true,
    "jupyter": {
     "outputs_hidden": true
    }
   },
   "outputs": [
    {
     "name": "stdout",
     "output_type": "stream",
     "text": [
      "The requred volume of stock solution is 20.00.\n"
     ]
    }
   ],
   "source": [
    "# You can also do math on numbers\n",
    "\n",
    "stock_conc = 50\n",
    "final_vol = 100\n",
    "final_conc = 10\n",
    "\n",
    "required_vol = 100*10/50 \n",
    "\n",
    "# break down it to {}, :, 2f\n",
    "print(f'The requred volume of stock solution is {required_vol:.2f}.')\n",
    "\n",
    "# required_vol = final_conc*final_vol/stock_conc"
   ]
  },
  {
   "cell_type": "markdown",
   "metadata": {},
   "source": [
    "#### __Bonus coverage: The function type__\n",
    "\n",
    "A function is itself a data type in Python. You can think of the name of the function as a variable that contains the address of the function’s lines of code. The several lines are packaged together to be reused later."
   ]
  },
  {
   "cell_type": "markdown",
   "metadata": {},
   "source": [
    "> __Python format of defining a function:__\n",
    "\n",
    "``` python\n",
    "#---------------------------------\n",
    "\n",
    "def my_function(argument1, arguement2): \n",
    "\n",
    "    '''what this function does''' #docstring\n",
    "    \n",
    "    function body\n",
    "\n",
    "    return values # return statement\n",
    "\n",
    "#---------------------------------\n",
    "```\n"
   ]
  },
  {
   "cell_type": "code",
   "execution_count": 4,
   "metadata": {},
   "outputs": [],
   "source": [
    "# create a dilution calculator function:\n",
    "\n",
    "def desired_volume(stock_conc, final_vol, final_conc): \n",
    "    required_vol = final_conc*final_vol/stock_conc\n",
    "    \n",
    "    # print(f'The volume of stock solution we need to use is {required_vol:.2f}.')\n",
    "\n",
    "    return required_vol"
   ]
  },
  {
   "cell_type": "markdown",
   "metadata": {},
   "source": [
    "There are functions that are very useful and wildly applicable that has been written into scripts by others, and can be inported to be used. Usually, the collection of related functions are called a `library`."
   ]
  },
  {
   "cell_type": "code",
   "execution_count": 5,
   "metadata": {},
   "outputs": [
    {
     "name": "stdout",
     "output_type": "stream",
     "text": [
      "180 / pi Degrees is equal to Radians : 1.0\n"
     ]
    }
   ],
   "source": [
    "import math # e.g. the math library\n",
    "\n",
    "print(\"180 / pi Degrees is equal to Radians : \", end =\"\")\n",
    "print (math.radians(180 / math.pi)) "
   ]
  },
  {
   "cell_type": "markdown",
   "metadata": {},
   "source": [
    "In the coming classes the several libraries we will almost always import are `numpy`, `pandas`, and `matplotlib.pyplot`."
   ]
  },
  {
   "cell_type": "markdown",
   "metadata": {},
   "source": [
    "#### __Booleans__"
   ]
  },
  {
   "cell_type": "code",
   "execution_count": 73,
   "metadata": {
    "collapsed": true,
    "jupyter": {
     "outputs_hidden": true
    }
   },
   "outputs": [
    {
     "name": "stdout",
     "output_type": "stream",
     "text": [
      "'read_gene_1 == threshold' is False\n",
      "'read_gene_2 > threshold' is True\n",
      "'read_gene_2 <= threshold' is False\n"
     ]
    }
   ],
   "source": [
    "# Boolean variables represent quantities that are True or False\n",
    "\n",
    "read_gene_1 = 56\n",
    "threshold = 5\n",
    "\n",
    "\n",
    "bool_1 = (read_gene_1 == threshold)\n",
    "# bool = (read_gene_1 == threshold) Don't do it!\n",
    "print(\"'read_gene_1 == threshold' is\", bool_1)\n",
    "bool_2 = (read_gene_1 > threshold)\n",
    "print(\"'read_gene_2 > threshold' is\", bool_2)\n",
    "bool_3 = (read_gene_1 <= threshold)\n",
    "print(\"'read_gene_2 <= threshold' is\", bool_3)"
   ]
  },
  {
   "cell_type": "markdown",
   "metadata": {},
   "source": [
    "#### __Strings__"
   ]
  },
  {
   "cell_type": "code",
   "execution_count": 7,
   "metadata": {
    "collapsed": true,
    "jupyter": {
     "outputs_hidden": true
    }
   },
   "outputs": [
    {
     "name": "stdout",
     "output_type": "stream",
     "text": [
      "Barbara McClintock\n"
     ]
    }
   ],
   "source": [
    "# Strings can be defined using either single or double quotes\n",
    "first_name = 'Barbara'\n",
    "last_name = \"McClintock\"\n",
    "print(first_name, last_name) # show them unicode; facilitating code in other languages; give an example"
   ]
  },
  {
   "cell_type": "code",
   "execution_count": 8,
   "metadata": {},
   "outputs": [
    {
     "name": "stdout",
     "output_type": "stream",
     "text": [
      "\n",
      "Cold Spring Harbor Laboratory\n",
      "1 Bungtown Rd.\n",
      "Cold Spring Harbor, NY 11724\n",
      "\n"
     ]
    }
   ],
   "source": [
    "# Multiline strings can be defined using triple quotes (single or double)\n",
    "\n",
    "address = \"\"\"\n",
    "Cold Spring Harbor Laboratory\n",
    "1 Bungtown Rd.\n",
    "Cold Spring Harbor, NY 11724\n",
    "\"\"\"\n",
    "print(address)"
   ]
  },
  {
   "cell_type": "markdown",
   "metadata": {},
   "source": [
    "> __small detour for Unicode__:\n",
    "\n",
    "Today’s programs need to be able to handle a wide variety of characters. Applications are often internationalized to display messages and output in a variety of user-selectable languages; the same program might need to output an error message in English, French, Japanese, Hebrew, or Russian. Web content can be written in any of these languages and can also include a variety of emoji symbols. Python’s string type uses the Unicode Standard for representing characters, which lets Python programs work with all these different possible characters.\n",
    "\n",
    "[Unicode](https://www.unicode.org/) is a specification that aims to list every character used by human languages and give each character its own unique code. The Unicode specifications are continually revised and updated to add new languages and symbols.\n",
    "\n",
    "How to write strings using Unicode?\n",
    "- use Unicode escapes! (`\\u...`)"
   ]
  },
  {
   "cell_type": "code",
   "execution_count": null,
   "metadata": {},
   "outputs": [
    {
     "name": "stdout",
     "output_type": "stream",
     "text": [
      "你好\n"
     ]
    }
   ],
   "source": [
    "print('\\u4f60\\u597d')"
   ]
  },
  {
   "cell_type": "code",
   "execution_count": 9,
   "metadata": {
    "collapsed": true,
    "jupyter": {
     "outputs_hidden": true
    }
   },
   "outputs": [
    {
     "name": "stdout",
     "output_type": "stream",
     "text": [
      "G AATTC\n",
      "CTTAA G\n"
     ]
    }
   ],
   "source": [
    "# The '+' sign concatenates strings\n",
    "\n",
    "# EcoRI recognition site:\n",
    "\n",
    "top_strand_5 = 'G'\n",
    "top_strand_3 = 'AATTC' \n",
    "bottom_strand_3 = 'CTTAA'  \n",
    "bottom_stran_5 = 'G'\n",
    "\n",
    "print(top_strand_5 + ' ' + coding_3 + '/n' + noncoding_3 + ' ' + noncoding_5) # multiline also works within ()"
   ]
  },
  {
   "cell_type": "markdown",
   "metadata": {},
   "source": [
    "Here is the DNA sequence of the multiple cloning site (MCS) on the plasmid [pcDNA5](https://www.addgene.org/vector-database/2132/), a popular vector for mammalian gene expression."
   ]
  },
  {
   "cell_type": "code",
   "execution_count": 10,
   "metadata": {
    "collapsed": true,
    "jupyter": {
     "outputs_hidden": true
    }
   },
   "outputs": [
    {
     "name": "stdout",
     "output_type": "stream",
     "text": [
      "True\n",
      "False\n"
     ]
    }
   ],
   "source": [
    "# It is simple to test if one string is contained within another\n",
    "\n",
    "seq = 'GAGACCCAAGCTGGCTAGCGTTTAAACTTAAGCTTGGTACCGAGCTCGGATCCACTA' \\\n",
    "      'GTCCAGTGTGGTGGAATTCTGCAGATATCCAGCACAGTGGCGGCCGCTCGAGTCTAG' \\\n",
    "      'AGGGCCCGTTTAAACCCGCTGATCAGCCT'\n",
    "\n",
    "# Does this MCS contain a restriction site for NheI (GCTAGC)? \n",
    "print('GCTAGC' in seq)\n",
    "\n",
    "# How about for MscI (TGGCCA)?\n",
    "print('TGGCCA' in seq)"
   ]
  },
  {
   "cell_type": "code",
   "execution_count": 11,
   "metadata": {
    "collapsed": true,
    "jupyter": {
     "outputs_hidden": true
    }
   },
   "outputs": [
    {
     "data": {
      "text/plain": [
       "143"
      ]
     },
     "execution_count": 11,
     "metadata": {},
     "output_type": "execute_result"
    }
   ],
   "source": [
    "# The len() function tells you the length of a string\n",
    "\n",
    "len(seq)"
   ]
  },
  {
   "cell_type": "code",
   "execution_count": 12,
   "metadata": {
    "collapsed": true,
    "jupyter": {
     "outputs_hidden": true
    }
   },
   "outputs": [
    {
     "name": "stdout",
     "output_type": "stream",
     "text": [
      "First character: M\n",
      "Last character: a\n",
      "Characters 5-7: nt\n",
      "Every other character: MCitc,Braa\n",
      "Reverse the string: arabraB ,kcotnilCcM\n"
     ]
    }
   ],
   "source": [
    "full_name = last_name + ', ' + first_name\n",
    "\n",
    "# The contents in a string can be indexed using brackets\n",
    "\n",
    "print('First character:', full_name[0])         # strings are index starting at 0\n",
    "print('Last character:', full_name[-1])         # str[-n] returns the n'th character from the end.\n",
    "print('Characters 5-7:', full_name[5:7])        # str[start:stop]. This is called a 'slice'.\n",
    "print('Every other character:', full_name[::2]) # str[start:stop:stride]\n",
    "print('Reverse the string:', full_name[::-1])    # strings can be reversed using a stride of -1"
   ]
  },
  {
   "cell_type": "markdown",
   "metadata": {},
   "source": [
    "There are many functions and methods for strings. You'll encounter the use of some of them for sequencing data in __Exercise_2.1__."
   ]
  },
  {
   "cell_type": "markdown",
   "metadata": {},
   "source": [
    "### Converting Types\n",
    "\n",
    "a character `'1'` is not an integer `1`!"
   ]
  },
  {
   "cell_type": "code",
   "execution_count": 13,
   "metadata": {},
   "outputs": [
    {
     "name": "stdout",
     "output_type": "stream",
     "text": [
      "my_int = 5 ; type is <class 'int'>\n"
     ]
    }
   ],
   "source": [
    "# int(some_var)returns an integer, can fail if the original variable cannot be an interger!\n",
    "\n",
    "my_int = int(5.0) \n",
    "print('my_int =', my_int, '; type is', type(my_int))\n",
    "\n",
    "# my_int = int(5.2)\n",
    "# my_int = int('five')"
   ]
  },
  {
   "cell_type": "code",
   "execution_count": 14,
   "metadata": {},
   "outputs": [
    {
     "name": "stdout",
     "output_type": "stream",
     "text": [
      "my_num = 3.1415926 ; type is <class 'float'>\n"
     ]
    }
   ],
   "source": [
    "# float(some_var)returns a float\n",
    "\n",
    "my_float = float('3.1415926')\n",
    "print('my_num =', my_float, '; type is', type(my_float))"
   ]
  },
  {
   "cell_type": "code",
   "execution_count": 15,
   "metadata": {},
   "outputs": [
    {
     "name": "stdout",
     "output_type": "stream",
     "text": [
      "my_str = 5 ; type is <class 'str'>\n"
     ]
    }
   ],
   "source": [
    "# str(some_var) returns a string\n",
    "\n",
    "my_str = str(5)\n",
    "print('my_str =', my_str, '; type is', type(my_str))"
   ]
  },
  {
   "cell_type": "code",
   "execution_count": 16,
   "metadata": {},
   "outputs": [
    {
     "ename": "TypeError",
     "evalue": "'<' not supported between instances of 'int' and 'str'",
     "output_type": "error",
     "traceback": [
      "\u001b[0;31m---------------------------------------------------------------------------\u001b[0m",
      "\u001b[0;31mTypeError\u001b[0m                                 Traceback (most recent call last)",
      "\u001b[0;32m<ipython-input-16-b5a1c0b1e272>\u001b[0m in \u001b[0;36m<module>\u001b[0;34m\u001b[0m\n\u001b[1;32m      1\u001b[0m \u001b[0;31m# input() fuction always returns a string\u001b[0m\u001b[0;34m\u001b[0m\u001b[0;34m\u001b[0m\u001b[0;34m\u001b[0m\u001b[0m\n\u001b[1;32m      2\u001b[0m \u001b[0mmin_copy\u001b[0m \u001b[0;34m=\u001b[0m \u001b[0minput\u001b[0m\u001b[0;34m(\u001b[0m\u001b[0;34m'threshold transcript copy number:'\u001b[0m\u001b[0;34m)\u001b[0m\u001b[0;34m\u001b[0m\u001b[0;34m\u001b[0m\u001b[0m\n\u001b[0;32m----> 3\u001b[0;31m \u001b[0;36m3\u001b[0m \u001b[0;34m<\u001b[0m \u001b[0mmin_copy\u001b[0m\u001b[0;34m\u001b[0m\u001b[0;34m\u001b[0m\u001b[0m\n\u001b[0m",
      "\u001b[0;31mTypeError\u001b[0m: '<' not supported between instances of 'int' and 'str'"
     ]
    }
   ],
   "source": [
    "# input() fuction always returns a string\n",
    "min_copy = input('threshold transcript copy number:')\n",
    "3 < min_copy "
   ]
  },
  {
   "cell_type": "markdown",
   "metadata": {},
   "source": [
    "-----\n",
    "\n",
    "### Collections types\n",
    "\n",
    "#### __lists and tuples__\n",
    "\n",
    "\n"
   ]
  },
  {
   "cell_type": "code",
   "execution_count": 17,
   "metadata": {
    "collapsed": true,
    "jupyter": {
     "outputs_hidden": true
    }
   },
   "outputs": [],
   "source": [
    "# Define a list using brackets and commas.\n",
    "\n",
    "lb_ingredients = ['Tryptone', 'NaCl', 'Yeast extract', 'Distilled water']\n",
    "\n",
    "# can contain variables of different types: \n",
    "\n",
    "mixed_dtype_list = [1, 'two', 3.0, 'four', 5]\n"
   ]
  },
  {
   "cell_type": "code",
   "execution_count": 18,
   "metadata": {
    "collapsed": true,
    "jupyter": {
     "outputs_hidden": true
    }
   },
   "outputs": [
    {
     "name": "stdout",
     "output_type": "stream",
     "text": [
      "First element: Tryptone\n",
      "Last element: Distilled water\n",
      "The list reversed: ['Distilled water', 'Yeast extract', 'NaCl', 'Tryptone']\n"
     ]
    }
   ],
   "source": [
    "# Lists can be indexed using brackets just like strings can.\n",
    "\n",
    "print('First element:', lb_ingredients[0])\n",
    "print('Last element:', lb_ingredients[-1])\n",
    "print('The list reversed:', lb_ingredients[::-1])"
   ]
  },
  {
   "cell_type": "code",
   "execution_count": 19,
   "metadata": {
    "collapsed": true,
    "jupyter": {
     "outputs_hidden": true
    }
   },
   "outputs": [
    {
     "data": {
      "text/plain": [
       "False"
      ]
     },
     "execution_count": 19,
     "metadata": {},
     "output_type": "execute_result"
    }
   ],
   "source": [
    "# Use 'in' to test whether an element is contained in a list.\n",
    "\n",
    "'Ethanol' in lb_ingredients"
   ]
  },
  {
   "cell_type": "code",
   "execution_count": 20,
   "metadata": {
    "collapsed": true,
    "jupyter": {
     "outputs_hidden": true
    }
   },
   "outputs": [
    {
     "name": "stdout",
     "output_type": "stream",
     "text": [
      "Before:  ['Tryptone', 'NaCl', 'Yeast extract', 'Distilled water']\n",
      "After: ['Tryptone', 'NaCl', 'Yeast extract', 'Micropore water']\n"
     ]
    }
   ],
   "source": [
    "# Change an element in a list.\n",
    "print('Before: ', lb_ingredients)\n",
    "lb_ingredients[-1] = 'Micropore water'\n",
    "print('After:', lb_ingredients)"
   ]
  },
  {
   "cell_type": "code",
   "execution_count": 21,
   "metadata": {
    "collapsed": true,
    "jupyter": {
     "outputs_hidden": true
    }
   },
   "outputs": [
    {
     "name": "stdout",
     "output_type": "stream",
     "text": [
      "Before: ['Tryptone', 'NaCl', 'Yeast extract', 'Micropore water']\n",
      "After: ['Tryptone', 'NaCl', 'Yeast extract', 'Micropore water', 'NaOH']\n"
     ]
    }
   ],
   "source": [
    "# Append an element to the end of a list.\n",
    "print('Before:', lb_ingredients)\n",
    "lb_ingredients.append('NaOH')\n",
    "print('After:', lb_ingredients)"
   ]
  },
  {
   "cell_type": "code",
   "execution_count": 22,
   "metadata": {
    "collapsed": true,
    "jupyter": {
     "outputs_hidden": true
    }
   },
   "outputs": [
    {
     "ename": "IndexError",
     "evalue": "list index out of range",
     "output_type": "error",
     "traceback": [
      "\u001b[0;31m---------------------------------------------------------------------------\u001b[0m",
      "\u001b[0;31mIndexError\u001b[0m                                Traceback (most recent call last)",
      "\u001b[0;32m<ipython-input-22-0ea9971c434c>\u001b[0m in \u001b[0;36m<module>\u001b[0;34m\u001b[0m\n\u001b[1;32m      1\u001b[0m \u001b[0;31m# You get an error if you try to access an index that doesn't exist.\u001b[0m\u001b[0;34m\u001b[0m\u001b[0;34m\u001b[0m\u001b[0;34m\u001b[0m\u001b[0m\n\u001b[0;32m----> 2\u001b[0;31m \u001b[0mlb_ingredients\u001b[0m\u001b[0;34m[\u001b[0m\u001b[0;36m10\u001b[0m\u001b[0;34m]\u001b[0m\u001b[0;34m\u001b[0m\u001b[0;34m\u001b[0m\u001b[0m\n\u001b[0m",
      "\u001b[0;31mIndexError\u001b[0m: list index out of range"
     ]
    }
   ],
   "source": [
    "# You get an error if you try to access an index that doesn't exist.\n",
    "lb_ingredients[10]"
   ]
  },
  {
   "cell_type": "code",
   "execution_count": 23,
   "metadata": {
    "collapsed": true,
    "jupyter": {
     "outputs_hidden": true
    }
   },
   "outputs": [
    {
     "ename": "TypeError",
     "evalue": "list indices must be integers or slices, not float",
     "output_type": "error",
     "traceback": [
      "\u001b[0;31m---------------------------------------------------------------------------\u001b[0m",
      "\u001b[0;31mTypeError\u001b[0m                                 Traceback (most recent call last)",
      "\u001b[0;32m<ipython-input-23-888be089ab67>\u001b[0m in \u001b[0;36m<module>\u001b[0;34m\u001b[0m\n\u001b[1;32m      1\u001b[0m \u001b[0;31m# You also get an error if you pass a non-integer as an index.\u001b[0m\u001b[0;34m\u001b[0m\u001b[0;34m\u001b[0m\u001b[0;34m\u001b[0m\u001b[0m\n\u001b[0;32m----> 2\u001b[0;31m \u001b[0mlb_ingredients\u001b[0m\u001b[0;34m[\u001b[0m\u001b[0;36m4.0\u001b[0m\u001b[0;34m]\u001b[0m\u001b[0;34m\u001b[0m\u001b[0;34m\u001b[0m\u001b[0m\n\u001b[0m",
      "\u001b[0;31mTypeError\u001b[0m: list indices must be integers or slices, not float"
     ]
    }
   ],
   "source": [
    "# You also get an error if you pass a non-integer as an index.\n",
    "lb_ingredients[4.0]"
   ]
  },
  {
   "cell_type": "code",
   "execution_count": 24,
   "metadata": {
    "collapsed": true,
    "jupyter": {
     "outputs_hidden": true
    }
   },
   "outputs": [],
   "source": [
    "# To create a list of numbers from 0 to n, use list(range(n))\n",
    "enum_list = list(range(10))"
   ]
  },
  {
   "cell_type": "code",
   "execution_count": 25,
   "metadata": {
    "collapsed": true,
    "jupyter": {
     "outputs_hidden": true
    }
   },
   "outputs": [
    {
     "name": "stdout",
     "output_type": "stream",
     "text": [
      "Before sorting:  0 2 4 6 8 1 3 5 7 9\n",
      "After sorting:  0 1 2 3 4 5 6 7 8 9\n"
     ]
    }
   ],
   "source": [
    "# Sort a list of numbers\n",
    "vals = [0,2,4,6,8,1,3,5,7,9]\n",
    "print('Before sorting: ', *vals) #printing the list using * operator separated \n",
    "vals.sort()\n",
    "print('After sorting: ', *vals)"
   ]
  },
  {
   "cell_type": "code",
   "execution_count": 26,
   "metadata": {},
   "outputs": [
    {
     "name": "stdout",
     "output_type": "stream",
     "text": [
      "(0, 1, 2, 3, 4)\n"
     ]
    }
   ],
   "source": [
    "# Tuples are like lists, though they are defined using parentheses instead of brackets.\n",
    "# Functions often pass tuples (not lists) back to the user.\n",
    "\n",
    "t = (0, 1, 2, 3, 4)\n",
    "print(t)"
   ]
  },
  {
   "cell_type": "markdown",
   "metadata": {},
   "source": [
    "#### __Dictionaries__\n",
    "Dictionaries are one of Python's most useful datatypes. \n",
    "\n",
    "They can be thought of as a list of key-value pairs that allow values to be rapidly looked up via keys. \n",
    "- Keys can be any (immutable) variable. Values can be anything."
   ]
  },
  {
   "cell_type": "code",
   "execution_count": 27,
   "metadata": {},
   "outputs": [
    {
     "name": "stdout",
     "output_type": "stream",
     "text": [
      "{'Tryptone': 10, 'NaCl': 10, 'Yeast extract': 5, 'Distilled water': 975}\n"
     ]
    }
   ],
   "source": [
    "# Dictionaries are defined using braces, colons, and commas\n",
    "lb_ingredients_1L = {'Tryptone':10, 'NaCl':10, 'Yeast extract':5, 'Distilled water':975}\n",
    "print(lb_ingredients_1L)"
   ]
  },
  {
   "cell_type": "code",
   "execution_count": 28,
   "metadata": {},
   "outputs": [
    {
     "name": "stdout",
     "output_type": "stream",
     "text": [
      "10\n"
     ]
    }
   ],
   "source": [
    "# Access dictionary elements using a \"key\" enclosed in brackets\n",
    "print(lb_ingredients_1L['NaCl'])"
   ]
  },
  {
   "cell_type": "code",
   "execution_count": 29,
   "metadata": {},
   "outputs": [],
   "source": [
    "# You can replace and add elements to a dictionary after it is created.\n",
    "lb_ingredients_1L['Yeast extract'] = 8\n",
    "lb_ingredients_1L['NaOH'] = .1"
   ]
  },
  {
   "cell_type": "code",
   "execution_count": 30,
   "metadata": {
    "collapsed": true,
    "jupyter": {
     "outputs_hidden": true
    }
   },
   "outputs": [
    {
     "name": "stdout",
     "output_type": "stream",
     "text": [
      "keys: ['Tryptone', 'NaCl', 'Yeast extract', 'Distilled water', 'NaOH']\n",
      "values: [10, 10, 8, 975, 0.1]\n"
     ]
    }
   ],
   "source": [
    "# From a dictionary, you can get a list of both the keys and the values.\n",
    "keys = list(lb_ingredients_1L.keys())\n",
    "print('keys:', keys)\n",
    "\n",
    "values = list(lb_ingredients_1L.values())\n",
    "print('values:', values)"
   ]
  },
  {
   "cell_type": "markdown",
   "metadata": {},
   "source": [
    "#### __Exercise 1__\n",
    "\n"
   ]
  },
  {
   "cell_type": "code",
   "execution_count": 31,
   "metadata": {},
   "outputs": [],
   "source": [
    "# The sequence we've defined before; note how to define a long string over multiple lines\n",
    "seq = 'GAGACCCAAGCTGGCTAGCGTTTAAACTTAAGCTTGGTACCGAGCTCGGATCCACTA' \\\n",
    "      'GTCCAGTGTGGTGGAATTCTGCAGATATCCAGCACAGTGGCGGCCGCTCGAGTCTAG' \\\n",
    "      'AGGGCCCGTTTAAACCCGCTGATCAGCCT'"
   ]
  },
  {
   "cell_type": "markdown",
   "metadata": {},
   "source": [
    "__E1.1__: Using the string method `.find()`, find the location(s) of the above restriction sites within the MCS."
   ]
  },
  {
   "cell_type": "code",
   "execution_count": 32,
   "metadata": {},
   "outputs": [],
   "source": [
    "# Answer here"
   ]
  },
  {
   "cell_type": "markdown",
   "metadata": {},
   "source": [
    "__E2.2__: Using the string method `.replace()`, compute the RNA sequence of the DNA sequence above. "
   ]
  },
  {
   "cell_type": "code",
   "execution_count": 33,
   "metadata": {},
   "outputs": [],
   "source": [
    "# Answer here"
   ]
  },
  {
   "cell_type": "markdown",
   "metadata": {},
   "source": [
    "**E2.3**: We have not yet discussed sets. Using Google, figure out what `set` objects are and explain what they represent. In particular, explain why Python evaluates {2,3,3} < {1,2,3} as True."
   ]
  },
  {
   "cell_type": "markdown",
   "metadata": {},
   "source": [
    "--------\n",
    "\n",
    "## Part 2: flow control\n",
    "\n",
    "__Selection__:\n",
    "\n",
    "- Selection is how programs make choices, and it is the process of making choices that provides a lot of the power of computing. In python we use conditional statement to evalulate and select statements to execute.\n",
    "\n",
    "\n",
    "__Repeatition__:\n",
    "\n",
    "- Besides selecting which statements to execute, a fundamental need in a program is repetition: repeat a set of statements under some conditions\n",
    "\n",
    "<br/>\n"
   ]
  },
  {
   "cell_type": "markdown",
   "metadata": {},
   "source": [
    "### Selection\n",
    "\n",
    "#### __Python Selection: `if` statements:__\n",
    "\n",
    "\n",
    "> __Python format:__\n",
    "\n",
    "``` python\n",
    "#---------------------------------\n",
    "\n",
    "if boolean expression:\n",
    "    code body # watch out for indentations! \n",
    "    \n",
    "#---------------------------------\n",
    "```\n",
    "\n",
    "\n",
    "We evaluate the boolean (`True` or `False`); if `True`, execute all statements in the suite\n",
    "\n",
    "- example boolean operators: `<`, `>`, `<=`, `==`, `!=`\n"
   ]
  },
  {
   "cell_type": "code",
   "execution_count": 34,
   "metadata": {},
   "outputs": [
    {
     "data": {
      "text/plain": [
       "True"
      ]
     },
     "execution_count": 34,
     "metadata": {},
     "output_type": "execute_result"
    }
   ],
   "source": [
    "# review on boolean logic:\n",
    "read_gene_1 = 56\n",
    "threshold = 5\n",
    "\n",
    "read_gene_1 > threshold "
   ]
  },
  {
   "cell_type": "code",
   "execution_count": 35,
   "metadata": {},
   "outputs": [
    {
     "name": "stdout",
     "output_type": "stream",
     "text": [
      "Gene_1 will be included in the analysis.\n"
     ]
    }
   ],
   "source": [
    "# use if statement to output a statement if read is above a threshold.\n",
    "\n",
    "read_gene_1 = 56\n",
    "threshold = 5\n",
    "\n",
    "if read_gene_1 > threshold:\n",
    "    print('Gene_1 will be included in the analysis.')"
   ]
  },
  {
   "cell_type": "markdown",
   "metadata": {},
   "source": [
    "#### __Python Selection with multiple rounds: `if/else`__\n",
    "\n",
    "> __Python format:__\n",
    "\n",
    "``` python\n",
    "#---------------------------------\n",
    "\n",
    "if boolean expression: # evaluate the boolean, if True, run suite1\n",
    "    code body 1\n",
    "else:\n",
    "    code body 2 # if False, run suite2\n",
    "\n",
    "#---------------------------------\n",
    "\n",
    "```\n"
   ]
  },
  {
   "cell_type": "code",
   "execution_count": 36,
   "metadata": {},
   "outputs": [
    {
     "name": "stdout",
     "output_type": "stream",
     "text": [
      "We disregard gene_2 in the analysis.\n"
     ]
    }
   ],
   "source": [
    "# use if/else statement to output statement for inclusion of a gene.\n",
    "\n",
    "read_gene_1 = 56\n",
    "read_gene_2 = 3\n",
    "\n",
    "threshold = 5\n",
    "\n",
    "if read_gene_2 > threshold:\n",
    "    print('Gene_2 will be included in the analysis.')\n",
    "else:\n",
    "    print('We disregard gene_2 in the analysis.')"
   ]
  },
  {
   "cell_type": "markdown",
   "metadata": {},
   "source": [
    "#### __Python Selection with multiple rounds: `if/elif/else`__\n",
    "\n",
    "> __Python format:__\n",
    "\n",
    "``` python\n",
    "#---------------------------------\n",
    "\n",
    "if boolean expression A: # evaluate the boolean, if True, run suite1\n",
    "    code body 1\n",
    "elif boolean expression B:\n",
    "    code body 2 # if true, run suite2\n",
    "else:\n",
    "    code body 3 # if both A and B are false, run suite2\n",
    "\n",
    "#---------------------------------\n",
    "\n",
    "```\n"
   ]
  },
  {
   "cell_type": "code",
   "execution_count": 37,
   "metadata": {},
   "outputs": [
    {
     "name": "stdout",
     "output_type": "stream",
     "text": [
      "Gene_3 is considered as highly expressed.\n"
     ]
    }
   ],
   "source": [
    "# use if/elif/else statement:\n",
    "\n",
    "read_gene_1 = 56\n",
    "read_gene_2 = 3\n",
    "read_gene_3 = 300\n",
    "\n",
    "threshold = 5\n",
    "high_exp = 100\n",
    "\n",
    "if read_gene_3 > high_exp:\n",
    "    print('Gene_3 is considered as highly expressed.')\n",
    "\n",
    "elif read_gene_3 > threshold:\n",
    "    print('Gene_3 will be included in the analysis.')\n",
    "    \n",
    "else:\n",
    "    print('We disregard gene_3 in the analysis.')"
   ]
  },
  {
   "cell_type": "markdown",
   "metadata": {},
   "source": [
    "-----\n",
    "\n",
    "### Repetition (loop)\n",
    "\n",
    "#### __`while` and `for` Statements__\n",
    "\n",
    "__while statement__:\n",
    "\n",
    "– repeats a set of statements while some condition is `True`\n",
    "\n",
    "– more general repetition construct\n",
    "\n",
    "__for statement__:\n",
    "\n",
    "– useful for iteration, moving through all the elements of data structure, one at a time\n",
    "\n",
    "<br/>"
   ]
  },
  {
   "cell_type": "markdown",
   "metadata": {},
   "source": [
    "\n",
    "> __Python format:__\n",
    "\n",
    "``` python\n",
    "#---------------------------------\n",
    "\n",
    "flag = True # define a variable tracker\n",
    "\n",
    "while flag:\n",
    "\n",
    "    code body\n",
    "\n",
    "# exit when flag is no longer true\n",
    "\n",
    "#---------------------------------\n",
    "\n",
    "```\n",
    "\n",
    "- while loop will repeat the statements in the suite while the boolean is `True` (or its Python equivalent)\n",
    "\n",
    "- if the Boolean expression never changes during the course of the loop, the loop will continue __forever__\n"
   ]
  },
  {
   "cell_type": "code",
   "execution_count": 38,
   "metadata": {},
   "outputs": [
    {
     "name": "stdout",
     "output_type": "stream",
     "text": [
      "[3, 5, 10]\n"
     ]
    }
   ],
   "source": [
    "# find cells with intensity that passed the threshold:\n",
    "fluorescent_intesnity = [10.1, 15,3, 78.5, 0.3, 46.9, 0.2, 0.7, 2.2, 12.5, 33.2]\n",
    "\n",
    "passed_index = []\n",
    "\n",
    "index = 0 # initialize variable tracker\n",
    "\n",
    "while index <= 10:\n",
    "\n",
    "    if fluorescent_intesnity[index] > 20:\n",
    "        passed_index.append(index)\n",
    "\n",
    "    index += 1 # modify variable evaluated at the condition statement  \n",
    "\n",
    "print(passed_index)"
   ]
  },
  {
   "cell_type": "markdown",
   "metadata": {},
   "source": [
    "__General Approach to a `while` loop__:\n",
    "\n",
    "__i)__ outside the loop, initialize the boolean\n",
    "\n",
    "__ii)__ somewhere inside the loop, perform some operation which changes the state of the program, eventually leading to a False boolean and exiting the loop\n",
    "\n",
    "Must have both!\n",
    "\n",
    "<br/>\n"
   ]
  },
  {
   "cell_type": "markdown",
   "metadata": {},
   "source": [
    "#### __`for` loop and iteration__\n",
    "\n",
    "The `for` statement iterates through each element of a collection (list, etc.)\n",
    "\n",
    "> __Python format:__\n",
    "\n",
    "``` python\n",
    "#---------------------------------\n",
    "\n",
    "for element in collection:\n",
    "\n",
    "    code body\n",
    "\n",
    "#---------------------------------\n",
    "\n",
    "```\n",
    "\n",
    "We actually have encountered collection and their elements: \n",
    "- a string and the characters;\n",
    "- a list and objects in the list;\n",
    "- a dictionary and a key, value pair in the dictionary.\n",
    "\n",
    "Those objects are  __\"iterable\"__: capable of returning its members one at a time, permitting it to be iterated over in a for-loop. "
   ]
  },
  {
   "cell_type": "code",
   "execution_count": null,
   "metadata": {},
   "outputs": [
    {
     "name": "stdout",
     "output_type": "stream",
     "text": [
      "Gene_1 will be included in the analysis.\n",
      "Gene_2 is discarded in the analysis.\n",
      "Gene_3 is considered as highly expressed.\n",
      "Gene_4 is considered as highly expressed.\n"
     ]
    }
   ],
   "source": [
    "# iterate over genes to decide whether to include them based on reads:\n",
    "read_gene_1 = 56\n",
    "read_gene_2 = 3\n",
    "read_gene_3 = 300\n",
    "read_gene_4 = 129\n",
    "\n",
    "read_list = [56, 3, 300, 129]\n",
    "\n",
    "threshold = 5\n",
    "high_exp = 100\n",
    "\n",
    "for i in range(len(read_list)): # iterate over the indexes:\n",
    "\n",
    "    if read_list[i] > high_exp:\n",
    "        print(f'Gene_{i+1} is considered as highly expressed.')\n",
    "\n",
    "    elif read_list[i] > threshold:\n",
    "        print(f'Gene_{i+1} will be included in the analysis.')\n",
    "        \n",
    "    else:\n",
    "        print(f'Gene_{i+1} is discarded in the analysis.')"
   ]
  },
  {
   "cell_type": "markdown",
   "metadata": {},
   "source": [
    "There are other objects that are iterable and can be unpacked into lists:"
   ]
  },
  {
   "cell_type": "code",
   "execution_count": null,
   "metadata": {},
   "outputs": [
    {
     "name": "stdout",
     "output_type": "stream",
     "text": [
      "<class 'range'>\n",
      "iterable: range(0, 10)\n",
      "<class 'list'>\n",
      "list:     [0, 1, 2, 3, 4, 5, 6, 7, 8, 9] \n",
      "\n",
      "<class 'enumerate'>\n",
      "iterable: <enumerate object at 0x7feeec2aa080>\n",
      "<class 'list'>\n",
      "list:     [(0, 'M'), (1, 'c'), (2, 'C'), (3, 'l'), (4, 'i'), (5, 'n'), (6, 't'), (7, 'o'), (8, 'c'), (9, 'k'), (10, ','), (11, ' '), (12, 'B'), (13, 'a'), (14, 'r'), (15, 'b'), (16, 'a'), (17, 'r'), (18, 'a')] \n",
      "\n",
      "<class 'dict_keys'>\n",
      "iterable: dict_keys(['A', 'C', 'G', 'T'])\n",
      "<class 'list'>\n",
      "list:     ['A', 'C', 'G', 'T']\n"
     ]
    }
   ],
   "source": [
    "# example iterable object classes:\n",
    "v_iter = range(10)\n",
    "print(type(v_iter))\n",
    "print('iterable:', range(10))\n",
    "\n",
    "v_list = list(range(10))\n",
    "print(type(v_list))\n",
    "print('list:    ', v_list, '\\n')\n",
    "\n",
    "e_iter = enumerate(full_name)\n",
    "print(type(e_iter))\n",
    "print('iterable:', e_iter)\n",
    "\n",
    "e_list = list(enumerate(full_name))\n",
    "print(type(e_list))\n",
    "print('list:    ', e_list, '\\n')\n",
    "\n",
    "d = {'A':'T', 'C':'G', 'G':'C', 'T':'A'}\n",
    "print(type(d.keys()))\n",
    "print('iterable:', d.keys())\n",
    "print(type(list(d.keys())))\n",
    "print('list:    ', list(d.keys()))"
   ]
  },
  {
   "cell_type": "code",
   "execution_count": null,
   "metadata": {},
   "outputs": [
    {
     "name": "stdout",
     "output_type": "stream",
     "text": [
      "[3, 5, 10]\n"
     ]
    }
   ],
   "source": [
    "# find cells with intensity that passed the threshold, 2nd way:\n",
    "\n",
    "fluorescent_intesnity = [10.1, 15,3, 78.5, 0.3, 46.9, 0.2, 0.7, 2.2, 12.5, 33.2]\n",
    "\n",
    "passed_index = []\n",
    "\n",
    "index = 0 # initialize variable tracker\n",
    "\n",
    "for i, f in enumerate(fluorescent_intesnity):\n",
    "\n",
    "    if f > 20:\n",
    "        passed_index.append(i)\n",
    "\n",
    "print(passed_index)"
   ]
  },
  {
   "cell_type": "markdown",
   "metadata": {},
   "source": [
    "\n",
    "#### __Exercise 2__\n",
    "__Exercise 2.1__ Fill in the code to complete the `while` loop to know the date when the intensity of P32 is below threshold."
   ]
  },
  {
   "cell_type": "code",
   "execution_count": null,
   "metadata": {},
   "outputs": [],
   "source": [
    "# Assume you have a vial of P32\n",
    "half_life = 14.3 # days\n",
    "\n",
    "# Initially, the vial is at 100% activity\n",
    "current_activity = 100\n",
    "\n",
    "# As long as it has ~10% activity, it's still good to use for radioactive gels\n",
    "min_activity = 10\n",
    "\n",
    "# Compute how many days the vial is good for before it needs to be thrown out\n",
    "num_days = 0\n",
    "\n",
    "while #### (1) fill in the code here ####\n",
    "\n",
    "    # exponential decay \n",
    "    current_activity /= 2**(1/half_life) \n",
    "\n",
    "    # keep track of the days:\n",
    "     #### (2) fill in the code here ####\n",
    "    \n",
    "print('P32 activity will be reduced to %.1f%% by day %d.'%(current_activity, num_days))"
   ]
  },
  {
   "cell_type": "markdown",
   "metadata": {},
   "source": [
    "__Exercise 2.2__: use `for` loop and python dictionary to translate the sequence in Exercise 1 (there are many ways to achieve the same thing!)"
   ]
  },
  {
   "cell_type": "code",
   "execution_count": null,
   "metadata": {},
   "outputs": [],
   "source": [
    "# Answer here"
   ]
  },
  {
   "cell_type": "markdown",
   "metadata": {},
   "source": [
    "--------\n",
    "\n",
    "You can do this in one line with [list conprehension](https://docs.python.org/3/tutorial/datastructures.html)! Try it on your own!\n",
    "\n",
    "But can also be an easy task using __vectorized computations__ with `numpy`.\n",
    "\n",
    "__NumPy__ stands for Numerical Python. NumPy is a Python library used for working with arrays. It also has functions for working in domain of linear algebra, fourier transform, and matrices.\n",
    "\n"
   ]
  },
  {
   "cell_type": "code",
   "execution_count": 43,
   "metadata": {},
   "outputs": [],
   "source": [
    "import numpy as np\n",
    "\n",
    "import matplotlib.pyplot as plt # library for plotting \n",
    "\n",
    "%matplotlib inline \n",
    "# the plotting will be stored in jupyter notebooks"
   ]
  },
  {
   "cell_type": "markdown",
   "metadata": {},
   "source": [
    "What we priviously need to do in a loops become a one liner:"
   ]
  },
  {
   "cell_type": "code",
   "execution_count": 44,
   "metadata": {},
   "outputs": [
    {
     "data": {
      "text/plain": [
       "array([[ 3],\n",
       "       [ 5],\n",
       "       [10]])"
      ]
     },
     "execution_count": 44,
     "metadata": {},
     "output_type": "execute_result"
    }
   ],
   "source": [
    "np.argwhere(np.array(fluorescent_intesnity) > 20)"
   ]
  },
  {
   "cell_type": "markdown",
   "metadata": {},
   "source": [
    "if we are dealing with multiple dimensions and very big data set, computation with numpy arrays is way faster than lists."
   ]
  },
  {
   "cell_type": "markdown",
   "metadata": {},
   "source": [
    "Can apply math functions to all entries in a n-dimentional array (see numpy [math functions](https://numpy.org/doc/stable/reference/routines.math.html)):"
   ]
  },
  {
   "cell_type": "code",
   "execution_count": 45,
   "metadata": {},
   "outputs": [],
   "source": [
    "# create a mesh of x values:\n",
    "x = np.arange(0,4*np.pi,0.1)  # start,stop,step\n",
    "# find the sine of each x:\n",
    "y = np.sin(x)"
   ]
  },
  {
   "cell_type": "code",
   "execution_count": 46,
   "metadata": {},
   "outputs": [
    {
     "data": {
      "image/png": "[encoded data removed]",
      "text/plain": [
       "<Figure size 432x288 with 1 Axes>"
      ]
     },
     "metadata": {
      "needs_background": "light"
     },
     "output_type": "display_data"
    }
   ],
   "source": [
    "plt.plot(x, y)\n",
    "plt.show()"
   ]
  },
  {
   "cell_type": "code",
   "execution_count": 60,
   "metadata": {},
   "outputs": [
    {
     "name": "stdout",
     "output_type": "stream",
     "text": [
      "\n",
      "Covariance matrix of the recordings of the two days:\n",
      " [[1.         0.83444087 0.78278036]\n",
      " [0.83444087 1.         0.94216833]\n",
      " [0.78278036 0.94216833 1.        ]]\n"
     ]
    }
   ],
   "source": [
    "# find correlation coefficient matrix:\n",
    "\n",
    "np.corrcoef\n",
    "\n",
    "mouse_day_1 = np.array([2, 1, 1, 4, 3])\n",
    "mouse_day_2 = np.array([2, 2, 1, 5, 2])\n",
    "mouse_day_3 = np.array([1, 2, 1, 4, 2])\n",
    "\n",
    "mouse_3days = np.stack((mouse_day_1, mouse_day_2, mouse_day_3), axis=0)\n",
    "  \n",
    "# Covariance matrix\n",
    "print(\"\\nCovariance matrix of the recordings of the two days:\\n\", \n",
    "      np.corrcoef(mouse_3days))"
   ]
  },
  {
   "cell_type": "code",
   "execution_count": null,
   "metadata": {},
   "outputs": [],
   "source": []
  }
 ],
 "metadata": {
  "interpreter": {
   "hash": "99b6aaccea0ef8f3630693367a20130efcb7b7104c4ce0548ee5f1abf61f8eca"
  },
  "kernelspec": {
   "display_name": "Python 3.8.3 ('base')",
   "language": "python",
   "name": "python3"
  },
  "language_info": {
   "codemirror_mode": {
    "name": "ipython",
    "version": 3
   },
   "file_extension": ".py",
   "mimetype": "text/x-python",
   "name": "python",
   "nbconvert_exporter": "python",
   "pygments_lexer": "ipython3",
   "version": "3.8.3"
  },
  "orig_nbformat": 4
 },
 "nbformat": 4,
 "nbformat_minor": 2
}
