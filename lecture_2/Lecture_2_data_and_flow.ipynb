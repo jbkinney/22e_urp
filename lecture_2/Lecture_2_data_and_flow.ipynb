{
 "cells": [
  {
   "cell_type": "markdown",
   "metadata": {},
   "source": [
    "# Lecture 2: Data Types and Flow Control\n",
    "\n",
    "\n",
    "> ### __At the core of any language:__\n",
    "\n",
    "- Control the flow of the program\n",
    "\n",
    "- Construct and access data elements\n",
    "\n",
    "- operate on data elements\n",
    "\n",
    "- Construct functions\n",
    "\n",
    "- Construct classes\n",
    "\n",
    "- Libraries and built-in classes\n",
    "\n",
    "> \"The Practice of Computing Using Python\"Python, , 3 rd Edition\", Punch & Enbody, 2017\n",
    "\n",
    "\n",
    "#### Today we will present a very brief overview of the basics of __data types__, __flow control__ and __functions__."
   ]
  },
  {
   "cell_type": "markdown",
   "metadata": {},
   "source": [
    "------\n",
    "## Part 1: Data Types\n",
    "\n",
    "### What is a Type?\n",
    "\n",
    "A type in Python essentially defines two things:\n",
    "\n",
    " </br>\n",
    "\n",
    "- the __internal structure__ of the type (what it contains)\n",
    "\n",
    "    - For example, Python allocates a fixed number of bytes of space in memory for each variable of a normal integer type. Tpically, an integer occupies four bytes, or 32 bits. (~ billions)\n",
    "\n",
    " </br>\n",
    " \n",
    "- the kinds of __operations__ you can perform:\n",
    "\n",
    "    - `'abc'.capitalize()` is a method you can call on strings, but not integers.\n",
    "\n",
    "    -  Each data type has its own `operators` to compute the operations: Operators are special symbols in Python that carry out arithmetic or logical computation. An operator takes one or more operands, computes a result, and makes that result available to Python for further use. \n",
    "\n",
    "        - e.g.,`+`, `<`, `-`, `*`, `**`, `//`, `!=`, `==`\n",
    "\n",
    " </br>\n",
    " \n",
    "Some types have multiple elements (__collections__); we'll see those later\n",
    "\n",
    " </br>\n",
    " "
   ]
  },
  {
   "cell_type": "markdown",
   "metadata": {},
   "source": [
    "------\n",
    "\n",
    "### Fundamental Types"
   ]
  },
  {
   "cell_type": "markdown",
   "metadata": {},
   "source": [
    "#### __Numbers__"
   ]
  },
  {
   "cell_type": "markdown",
   "metadata": {},
   "source": [
    "__Before we start: help your future self! Always give variables meaningful names.__ "
   ]
  },
  {
   "cell_type": "code",
   "execution_count": 1,
   "metadata": {},
   "outputs": [],
   "source": [
    "# intergers\n"
   ]
  },
  {
   "cell_type": "code",
   "execution_count": 2,
   "metadata": {
    "collapsed": true,
    "jupyter": {
     "outputs_hidden": true
    }
   },
   "outputs": [],
   "source": [
    "# Floating point numbers\n"
   ]
  },
  {
   "cell_type": "code",
   "execution_count": 1,
   "metadata": {
    "collapsed": true,
    "jupyter": {
     "outputs_hidden": true
    }
   },
   "outputs": [],
   "source": [
    "# You can also do math on numbers\n",
    "\n",
    "stock_conc = 50\n",
    "final_vol = 100\n",
    "final_conc = 10\n",
    "\n",
    "\n",
    "\n"
   ]
  },
  {
   "cell_type": "markdown",
   "metadata": {},
   "source": [
    "#### __Bonus coverage: The function type__\n",
    "\n",
    "A function is itself a data type in Python. You can think of the name of the function as a variable that contains the address of the function’s lines of code. The several lines are packaged together to be reused later."
   ]
  },
  {
   "cell_type": "markdown",
   "metadata": {},
   "source": [
    "> __Python format of defining a function:__\n",
    "\n",
    "``` python\n",
    "#---------------------------------\n",
    "\n",
    "def my_function(argument1, arguement2): \n",
    "\n",
    "    '''what this function does''' #docstring\n",
    "    \n",
    "    function body\n",
    "\n",
    "    return values # return statement\n",
    "\n",
    "#---------------------------------\n",
    "```\n"
   ]
  },
  {
   "cell_type": "code",
   "execution_count": 4,
   "metadata": {},
   "outputs": [],
   "source": [
    "# create a dilution calculator function:\n",
    "\n"
   ]
  },
  {
   "cell_type": "markdown",
   "metadata": {},
   "source": [
    "There are functions that are very useful and wildly applicable that has been written into scripts by others, and can be inported to be used. Usually, the collection of related functions are called a `library`."
   ]
  },
  {
   "cell_type": "code",
   "execution_count": null,
   "metadata": {},
   "outputs": [],
   "source": [
    "import math # e.g. the math library\n",
    "\n",
    "print(\"180 / pi Degrees is equal to Radians : \", end =\"\")\n",
    "print (math.radians(180 / math.pi)) "
   ]
  },
  {
   "cell_type": "markdown",
   "metadata": {},
   "source": [
    "In the coming classes the several libraries we will almost always import are `numpy`, `pandas`, and `matplotlib.pyplot`."
   ]
  },
  {
   "cell_type": "markdown",
   "metadata": {},
   "source": [
    "#### __Booleans__"
   ]
  },
  {
   "cell_type": "code",
   "execution_count": null,
   "metadata": {
    "collapsed": true,
    "jupyter": {
     "outputs_hidden": true
    }
   },
   "outputs": [],
   "source": [
    "# Boolean variables represent quantities that are True or False\n",
    "\n",
    "read_gene_1 = 56\n",
    "threshold = 5\n",
    "\n"
   ]
  },
  {
   "cell_type": "markdown",
   "metadata": {},
   "source": [
    "#### __Strings__"
   ]
  },
  {
   "cell_type": "code",
   "execution_count": null,
   "metadata": {
    "collapsed": true,
    "jupyter": {
     "outputs_hidden": true
    }
   },
   "outputs": [],
   "source": [
    "# Strings can be defined using either single or double quotes\n"
   ]
  },
  {
   "cell_type": "code",
   "execution_count": null,
   "metadata": {},
   "outputs": [],
   "source": [
    "# Multiline strings can be defined using triple quotes (single or double)\n",
    "\n",
    "address = \"\"\"\n",
    "Cold Spring Harbor Laboratory\n",
    "1 Bungtown Rd.\n",
    "Cold Spring Harbor, NY 11724\n",
    "\"\"\"\n",
    "print(address)"
   ]
  },
  {
   "cell_type": "markdown",
   "metadata": {},
   "source": [
    "> __small detour for Unicode__:\n",
    "\n",
    "Today’s programs need to be able to handle a wide variety of characters. Applications are often internationalized to display messages and output in a variety of user-selectable languages; the same program might need to output an error message in English, French, Japanese, Hebrew, or Russian. Web content can be written in any of these languages and can also include a variety of emoji symbols. Python’s string type uses the Unicode Standard for representing characters, which lets Python programs work with all these different possible characters.\n",
    "\n",
    "[Unicode](https://www.unicode.org/) is a specification that aims to list every character used by human languages and give each character its own unique code. The Unicode specifications are continually revised and updated to add new languages and symbols.\n",
    "\n",
    "How to write strings using Unicode?\n",
    "- use Unicode escapes! (`\\u...`)"
   ]
  },
  {
   "cell_type": "code",
   "execution_count": null,
   "metadata": {},
   "outputs": [],
   "source": [
    "# Chinese character example:\n",
    "print('\\u4f60\\u597d')"
   ]
  },
  {
   "cell_type": "code",
   "execution_count": 2,
   "metadata": {
    "collapsed": true,
    "jupyter": {
     "outputs_hidden": true
    }
   },
   "outputs": [],
   "source": [
    "# The '+' sign concatenates strings\n",
    "\n",
    "# EcoRI recognition site:\n",
    "\n",
    "top_strand_5 = 'G'\n",
    "top_strand_3 = 'AATTC' \n",
    "bottom_strand_3 = 'CTTAA'  \n",
    "bottom_stran_5 = 'G'\n",
    "\n"
   ]
  },
  {
   "cell_type": "markdown",
   "metadata": {},
   "source": [
    "Here is the DNA sequence of the multiple cloning site (MCS) on the plasmid [pcDNA5](https://www.addgene.org/vector-database/2132/), a popular vector for mammalian gene expression."
   ]
  },
  {
   "cell_type": "code",
   "execution_count": 4,
   "metadata": {
    "collapsed": true,
    "jupyter": {
     "outputs_hidden": true
    }
   },
   "outputs": [],
   "source": [
    "# It is simple to test if one string is contained within another\n",
    "\n",
    "seq = 'GAGACCCAAGCTGGCTAGCGTTTAAACTTAAGCTTGGTACCGAGCTCGGATCCACTA' \\\n",
    "      'GTCCAGTGTGGTGGAATTCTGCAGATATCCAGCACAGTGGCGGCCGCTCGAGTCTAG' \\\n",
    "      'AGGGCCCGTTTAAACCCGCTGATCAGCCT'\n",
    "\n",
    "# Does this MCS contain a restriction site for NheI (GCTAGC)? \n"
   ]
  },
  {
   "cell_type": "code",
   "execution_count": 5,
   "metadata": {},
   "outputs": [],
   "source": [
    "# How about for MscI (TGGCCA)?\n"
   ]
  },
  {
   "cell_type": "code",
   "execution_count": 7,
   "metadata": {
    "collapsed": true,
    "jupyter": {
     "outputs_hidden": true
    }
   },
   "outputs": [],
   "source": [
    "# The len() function tells you the length of a string\n",
    "\n"
   ]
  },
  {
   "cell_type": "code",
   "execution_count": 6,
   "metadata": {
    "collapsed": true,
    "jupyter": {
     "outputs_hidden": true
    }
   },
   "outputs": [],
   "source": [
    "# The contents in a string can be indexed using brackets\n"
   ]
  },
  {
   "cell_type": "markdown",
   "metadata": {},
   "source": [
    "There are many functions and methods for strings. You'll encounter the use of some of them for sequencing data in __Exercise_2.1__."
   ]
  },
  {
   "cell_type": "markdown",
   "metadata": {},
   "source": [
    "### Converting Types\n",
    "\n",
    "a character `'1'` is not an integer `1`!"
   ]
  },
  {
   "cell_type": "code",
   "execution_count": null,
   "metadata": {},
   "outputs": [],
   "source": [
    "# int(some_var)returns an integer, can fail if the original variable cannot be an interger!\n",
    "\n",
    "\n",
    "# my_int = int(5.2)\n",
    "# my_int = int('five')"
   ]
  },
  {
   "cell_type": "code",
   "execution_count": null,
   "metadata": {},
   "outputs": [],
   "source": [
    "# float(some_var)returns a float\n"
   ]
  },
  {
   "cell_type": "code",
   "execution_count": null,
   "metadata": {},
   "outputs": [],
   "source": [
    "# str(some_var) returns a string\n",
    "\n",
    "my_str = str(5)\n",
    "print('my_str =', my_str, '; type is', type(my_str))"
   ]
  },
  {
   "cell_type": "code",
   "execution_count": null,
   "metadata": {},
   "outputs": [],
   "source": [
    "# input() fuction always returns a string\n",
    "min_copy = input('threshold transcript copy number:')\n",
    "3 < min_copy "
   ]
  },
  {
   "cell_type": "markdown",
   "metadata": {},
   "source": [
    "-----\n",
    "\n",
    "### Collections types\n",
    "\n",
    "#### __lists and tuples__\n",
    "\n",
    "\n"
   ]
  },
  {
   "cell_type": "code",
   "execution_count": 17,
   "metadata": {
    "collapsed": true,
    "jupyter": {
     "outputs_hidden": true
    }
   },
   "outputs": [],
   "source": [
    "# Define a list using brackets and commas.\n",
    "\n",
    "lb_ingredients = ['Tryptone', 'NaCl', 'Yeast extract', 'Distilled water']\n",
    "\n",
    "# can contain variables of different types: \n",
    "\n",
    "mixed_dtype_list = [1, 'two', 3.0, 'four', 5]\n"
   ]
  },
  {
   "cell_type": "code",
   "execution_count": 18,
   "metadata": {
    "collapsed": true,
    "jupyter": {
     "outputs_hidden": true
    }
   },
   "outputs": [
    {
     "name": "stdout",
     "output_type": "stream",
     "text": [
      "First element: Tryptone\n",
      "Last element: Distilled water\n",
      "The list reversed: ['Distilled water', 'Yeast extract', 'NaCl', 'Tryptone']\n"
     ]
    }
   ],
   "source": [
    "# Lists can be indexed using brackets just like strings can.\n",
    "\n"
   ]
  },
  {
   "cell_type": "code",
   "execution_count": 19,
   "metadata": {
    "collapsed": true,
    "jupyter": {
     "outputs_hidden": true
    }
   },
   "outputs": [
    {
     "data": {
      "text/plain": [
       "False"
      ]
     },
     "execution_count": 19,
     "metadata": {},
     "output_type": "execute_result"
    }
   ],
   "source": [
    "# Use 'in' to test whether an element is contained in a list.\n"
   ]
  },
  {
   "cell_type": "code",
   "execution_count": null,
   "metadata": {
    "collapsed": true,
    "jupyter": {
     "outputs_hidden": true
    }
   },
   "outputs": [],
   "source": [
    "# Change an element in a list.\n",
    "print('Before: ', lb_ingredients)\n",
    "lb_ingredients[-1] = 'Micropore water'\n",
    "print('After:', lb_ingredients) "
   ]
  },
  {
   "cell_type": "code",
   "execution_count": null,
   "metadata": {
    "collapsed": true,
    "jupyter": {
     "outputs_hidden": true
    }
   },
   "outputs": [],
   "source": [
    "# Append an element to the end of a list.\n",
    "print('Before:', lb_ingredients)\n",
    "lb_ingredients.append('NaOH')\n",
    "print('After:', lb_ingredients)"
   ]
  },
  {
   "cell_type": "code",
   "execution_count": null,
   "metadata": {},
   "outputs": [],
   "source": [
    "# You get an error if you try to access an index that doesn't exist.\n",
    "lb_ingredients[10]"
   ]
  },
  {
   "cell_type": "code",
   "execution_count": null,
   "metadata": {},
   "outputs": [],
   "source": [
    "# You also get an error if you pass a non-integer as an index.\n",
    "lb_ingredients[4.0]"
   ]
  },
  {
   "cell_type": "code",
   "execution_count": 24,
   "metadata": {
    "collapsed": true,
    "jupyter": {
     "outputs_hidden": true
    }
   },
   "outputs": [],
   "source": [
    "# To create a list of numbers from 0 to n, use list(range(n))\n"
   ]
  },
  {
   "cell_type": "code",
   "execution_count": null,
   "metadata": {
    "collapsed": true,
    "jupyter": {
     "outputs_hidden": true
    }
   },
   "outputs": [],
   "source": [
    "# Sort a list of numbers\n",
    "vals = [0,2,4,6,8,1,3,5,7,9]\n"
   ]
  },
  {
   "cell_type": "code",
   "execution_count": null,
   "metadata": {},
   "outputs": [],
   "source": [
    "# Tuples are like lists, though they are defined using parentheses instead of brackets.\n",
    "# Functions often pass tuples (not lists) back to the user.\n",
    "\n",
    "t = (0, 1, 2, 3, 4)\n",
    "print(t)"
   ]
  },
  {
   "cell_type": "markdown",
   "metadata": {},
   "source": [
    "#### __Dictionaries__\n",
    "Dictionaries are one of Python's most useful datatypes. \n",
    "\n",
    "They can be thought of as a list of key-value pairs that allow values to be rapidly looked up via keys. \n",
    "- Keys can be any (immutable) variable. Values can be anything."
   ]
  },
  {
   "cell_type": "code",
   "execution_count": 8,
   "metadata": {},
   "outputs": [],
   "source": [
    "# Dictionaries are defined using braces, colons, and commas\n"
   ]
  },
  {
   "cell_type": "code",
   "execution_count": 9,
   "metadata": {},
   "outputs": [],
   "source": [
    "# Access dictionary elements using a \"key\" enclosed in brackets\n"
   ]
  },
  {
   "cell_type": "code",
   "execution_count": 10,
   "metadata": {},
   "outputs": [],
   "source": [
    "# You can replace and add elements to a dictionary after it is created.\n"
   ]
  },
  {
   "cell_type": "code",
   "execution_count": 11,
   "metadata": {
    "collapsed": true,
    "jupyter": {
     "outputs_hidden": true
    }
   },
   "outputs": [],
   "source": [
    "# From a dictionary, you can get a list of both the keys and the values.\n"
   ]
  },
  {
   "cell_type": "markdown",
   "metadata": {},
   "source": [
    "#### __Exercise 1__\n",
    "\n"
   ]
  },
  {
   "cell_type": "code",
   "execution_count": 31,
   "metadata": {},
   "outputs": [],
   "source": [
    "# The sequence we've defined before; note how to define a long string over multiple lines\n",
    "seq = 'GAGACCCAAGCTGGCTAGCGTTTAAACTTAAGCTTGGTACCGAGCTCGGATCCACTA' \\\n",
    "      'GTCCAGTGTGGTGGAATTCTGCAGATATCCAGCACAGTGGCGGCCGCTCGAGTCTAG' \\\n",
    "      'AGGGCCCGTTTAAACCCGCTGATCAGCCT'"
   ]
  },
  {
   "cell_type": "markdown",
   "metadata": {},
   "source": [
    "__E1.1__: Using the string method `.find()`, find the location(s) of the above restriction sites within the MCS."
   ]
  },
  {
   "cell_type": "code",
   "execution_count": 32,
   "metadata": {},
   "outputs": [],
   "source": [
    "# Answer here"
   ]
  },
  {
   "cell_type": "markdown",
   "metadata": {},
   "source": [
    "__E2.2__: Using the string method `.replace()`, compute the RNA sequence of the DNA sequence above. "
   ]
  },
  {
   "cell_type": "code",
   "execution_count": 33,
   "metadata": {},
   "outputs": [],
   "source": [
    "# Answer here"
   ]
  },
  {
   "cell_type": "markdown",
   "metadata": {},
   "source": [
    "**E2.3**: We have not yet discussed sets. Using Google, figure out what `set` objects are and explain what they represent. In particular, explain why Python evaluates {2,3,3} < {1,2,3} as True."
   ]
  },
  {
   "cell_type": "markdown",
   "metadata": {},
   "source": [
    "--------\n",
    "\n",
    "## Part 2: flow control\n",
    "\n",
    "__Selection__:\n",
    "\n",
    "- Selection is how programs make choices, and it is the process of making choices that provides a lot of the power of computing. In python we use conditional statement to evalulate and select statements to execute.\n",
    "\n",
    "\n",
    "__Repeatition__:\n",
    "\n",
    "- Besides selecting which statements to execute, a fundamental need in a program is repetition: repeat a set of statements under some conditions\n",
    "\n",
    "<br/>\n"
   ]
  },
  {
   "cell_type": "markdown",
   "metadata": {},
   "source": [
    "### Selection\n",
    "\n",
    "#### __Python Selection: `if` statements:__\n",
    "\n",
    "\n",
    "> __Python format:__\n",
    "\n",
    "``` python\n",
    "#---------------------------------\n",
    "\n",
    "if boolean expression:\n",
    "    code body # watch out for indentations! \n",
    "    \n",
    "#---------------------------------\n",
    "```\n",
    "\n",
    "\n",
    "We evaluate the boolean (`True` or `False`); if `True`, execute all statements in the suite\n",
    "\n",
    "- example boolean operators: `<`, `>`, `<=`, `==`, `!=`\n"
   ]
  },
  {
   "cell_type": "code",
   "execution_count": 34,
   "metadata": {},
   "outputs": [
    {
     "data": {
      "text/plain": [
       "True"
      ]
     },
     "execution_count": 34,
     "metadata": {},
     "output_type": "execute_result"
    }
   ],
   "source": [
    "# review on boolean logic:\n",
    "read_gene_1 = 56\n",
    "threshold = 5\n",
    "\n",
    "read_gene_1 > threshold "
   ]
  },
  {
   "cell_type": "code",
   "execution_count": 35,
   "metadata": {},
   "outputs": [
    {
     "name": "stdout",
     "output_type": "stream",
     "text": [
      "Gene_1 will be included in the analysis.\n"
     ]
    }
   ],
   "source": [
    "# use if statement to output a statement if read is above a threshold.\n",
    "\n",
    "read_gene_1 = 56\n",
    "threshold = 5\n",
    "\n"
   ]
  },
  {
   "cell_type": "markdown",
   "metadata": {},
   "source": [
    "#### __Python Selection with multiple rounds: `if/else`__\n",
    "\n",
    "> __Python format:__\n",
    "\n",
    "``` python\n",
    "#---------------------------------\n",
    "\n",
    "if boolean expression: # evaluate the boolean, if True, run suite1\n",
    "    code body 1\n",
    "else:\n",
    "    code body 2 # if False, run suite2\n",
    "\n",
    "#---------------------------------\n",
    "\n",
    "```\n"
   ]
  },
  {
   "cell_type": "code",
   "execution_count": null,
   "metadata": {},
   "outputs": [],
   "source": [
    "# use if/else statement to output statement for inclusion of a gene.\n",
    "\n",
    "read_gene_1 = 56\n",
    "read_gene_2 = 3\n",
    "\n",
    "threshold = 5\n",
    "\n",
    "if read_gene_2 > threshold:\n",
    "    print('Gene_2 will be included in the analysis.')\n",
    "else:\n",
    "    print('We disregard gene_2 in the analysis.')"
   ]
  },
  {
   "cell_type": "markdown",
   "metadata": {},
   "source": [
    "#### __Python Selection with multiple rounds: `if/elif/else`__\n",
    "\n",
    "> __Python format:__\n",
    "\n",
    "``` python\n",
    "#---------------------------------\n",
    "\n",
    "if boolean expression A: # evaluate the boolean, if True, run suite1\n",
    "    code body 1\n",
    "elif boolean expression B:\n",
    "    code body 2 # if true, run suite2\n",
    "else:\n",
    "    code body 3 # if both A and B are false, run suite2\n",
    "\n",
    "#---------------------------------\n",
    "\n",
    "```\n"
   ]
  },
  {
   "cell_type": "code",
   "execution_count": null,
   "metadata": {},
   "outputs": [],
   "source": [
    "# use if/elif/else statement:\n",
    "\n",
    "read_gene_1 = 56\n",
    "read_gene_2 = 3\n",
    "read_gene_3 = 300\n",
    "\n",
    "threshold = 5\n",
    "high_exp = 100\n",
    "\n",
    "if read_gene_3 > high_exp:\n",
    "    print('Gene_3 is considered as highly expressed.')\n",
    "\n",
    "elif read_gene_3 > threshold:\n",
    "    print('Gene_3 will be included in the analysis.')\n",
    "    \n",
    "else:\n",
    "    print('We disregard gene_3 in the analysis.')"
   ]
  },
  {
   "cell_type": "markdown",
   "metadata": {},
   "source": [
    "-----\n",
    "\n",
    "### Repetition (loop)\n",
    "\n",
    "#### __`while` and `for` Statements__\n",
    "\n",
    "__while statement__:\n",
    "\n",
    "– repeats a set of statements while some condition is `True`\n",
    "\n",
    "– more general repetition construct\n",
    "\n",
    "__for statement__:\n",
    "\n",
    "– useful for iteration, moving through all the elements of data structure, one at a time\n",
    "\n",
    "<br/>"
   ]
  },
  {
   "cell_type": "markdown",
   "metadata": {},
   "source": [
    "\n",
    "> __Python format:__\n",
    "\n",
    "``` python\n",
    "#---------------------------------\n",
    "\n",
    "flag = True # define a variable tracker\n",
    "\n",
    "while flag:\n",
    "\n",
    "    code body\n",
    "\n",
    "# exit when flag is no longer true\n",
    "\n",
    "#---------------------------------\n",
    "\n",
    "```\n",
    "\n",
    "- while loop will repeat the statements in the suite while the boolean is `True` (or its Python equivalent)\n",
    "\n",
    "- if the Boolean expression never changes during the course of the loop, the loop will continue __forever__\n"
   ]
  },
  {
   "cell_type": "code",
   "execution_count": null,
   "metadata": {},
   "outputs": [],
   "source": [
    "# find cells with intensity that passed the threshold:\n",
    "fluorescent_intesnity = [10.1, 15,3, 78.5, 0.3, 46.9, 0.2, 0.7, 2.2, 12.5, 33.2]\n",
    "\n",
    "passed_index = []\n"
   ]
  },
  {
   "cell_type": "markdown",
   "metadata": {},
   "source": [
    "__General Approach to a `while` loop__:\n",
    "\n",
    "__i)__ outside the loop, initialize the boolean\n",
    "\n",
    "__ii)__ somewhere inside the loop, perform some operation which changes the state of the program, eventually leading to a False boolean and exiting the loop\n",
    "\n",
    "Must have both!\n",
    "\n",
    "<br/>\n"
   ]
  },
  {
   "cell_type": "markdown",
   "metadata": {},
   "source": [
    "#### __`for` loop and iteration__\n",
    "\n",
    "The `for` statement iterates through each element of a collection (list, etc.)\n",
    "\n",
    "> __Python format:__\n",
    "\n",
    "``` python\n",
    "#---------------------------------\n",
    "\n",
    "for element in collection:\n",
    "\n",
    "    code body\n",
    "\n",
    "#---------------------------------\n",
    "\n",
    "```\n",
    "\n",
    "We actually have encountered collection and their elements: \n",
    "- a string and the characters;\n",
    "- a list and objects in the list;\n",
    "- a dictionary and a key, value pair in the dictionary.\n",
    "\n",
    "Those objects are  __\"iterable\"__: capable of returning its members one at a time, permitting it to be iterated over in a for-loop. "
   ]
  },
  {
   "cell_type": "code",
   "execution_count": 12,
   "metadata": {},
   "outputs": [],
   "source": [
    "# iterate over genes to decide whether to include them based on reads:\n",
    "\n",
    "read_gene_1 = 56\n",
    "read_gene_2 = 3\n",
    "read_gene_3 = 300\n",
    "read_gene_4 = 129\n",
    "\n",
    "read_list = [56, 3, 300, 129]\n",
    "\n",
    "threshold = 5\n",
    "high_exp = 100\n",
    "\n"
   ]
  },
  {
   "cell_type": "markdown",
   "metadata": {},
   "source": [
    "There are other objects that are iterable and can be unpacked into lists:"
   ]
  },
  {
   "cell_type": "code",
   "execution_count": null,
   "metadata": {},
   "outputs": [],
   "source": [
    "full_name = 'Barbara McClintock'\n",
    "\n",
    "# example iterable object classes:\n",
    "\n",
    "# range()\n",
    "v_iter = range(10) \n",
    "print(type(v_iter)) \n",
    "print('iterable:', range(10)) \n",
    "\n",
    "# make the range() a list:\n",
    "v_list = list(range(10))\n",
    "print(type(v_list))\n",
    "print('list:    ', v_list, '\\n')\n",
    "\n",
    "# enumerate():\n",
    "e_iter = enumerate(full_name)\n",
    "print(type(e_iter))\n",
    "print('iterable:', e_iter)\n",
    "\n",
    "# make the enumerate() a list:\n",
    "e_list = list(enumerate(full_name))\n",
    "print(type(e_list))\n",
    "print('list:    ', e_list, '\\n')\n",
    "\n",
    "# dictionary:\n",
    "d = {'A':'T', 'C':'G', 'G':'C', 'T':'A'}\n",
    "print(type(d.keys()))\n",
    "print('iterable:', d.keys())\n",
    "print(type(list(d.keys())))\n",
    "print('list:    ', list(d.keys()))"
   ]
  },
  {
   "cell_type": "code",
   "execution_count": null,
   "metadata": {},
   "outputs": [
    {
     "name": "stdout",
     "output_type": "stream",
     "text": [
      "[3, 5, 10]\n"
     ]
    }
   ],
   "source": [
    "# find cells with intensity that passed the threshold, 2nd way:\n",
    "\n",
    "fluorescent_intesnity = [10.1, 15,3, 78.5, 0.3, 46.9, 0.2, 0.7, 2.2, 12.5, 33.2]\n",
    "\n",
    "passed_index = []\n",
    "\n"
   ]
  },
  {
   "cell_type": "markdown",
   "metadata": {},
   "source": [
    "\n",
    "#### __Exercise 2__\n",
    "__Exercise 2.1__ Fill in the code to complete the `while` loop to know the date when the intensity of P32 is below threshold."
   ]
  },
  {
   "cell_type": "code",
   "execution_count": null,
   "metadata": {},
   "outputs": [],
   "source": [
    "# Assume you have a vial of P32\n",
    "half_life = 14.3 # days\n",
    "\n",
    "# Initially, the vial is at 100% activity\n",
    "current_activity = 100\n",
    "\n",
    "# As long as it has ~10% activity, it's still good to use for radioactive gels\n",
    "min_activity = 10\n",
    "\n",
    "# Compute how many days the vial is good for before it needs to be thrown out\n",
    "num_days = 0\n",
    "\n",
    "while #### (1) fill in the code here ####\n",
    "\n",
    "    # exponential decay \n",
    "    current_activity /= 2**(1/half_life) \n",
    "\n",
    "    # keep track of the days:\n",
    "     #### (2) fill in the code here ####\n",
    "    \n",
    "print('P32 activity will be reduced to %.1f%% by day %d.'%(current_activity, num_days))"
   ]
  },
  {
   "cell_type": "markdown",
   "metadata": {},
   "source": [
    "__Exercise 2.2__: use `for` loop and python dictionary to translate the sequence in Exercise 1 (there are many ways to achieve the same thing!)"
   ]
  },
  {
   "cell_type": "code",
   "execution_count": null,
   "metadata": {},
   "outputs": [],
   "source": [
    "# Answer here"
   ]
  },
  {
   "cell_type": "markdown",
   "metadata": {},
   "source": [
    "<br/>\n",
    "\n",
    "--------\n",
    "\n",
    "You can do this in one line with [list conprehension](https://docs.python.org/3/tutorial/datastructures.html)! Try it on your own!\n",
    "\n",
    "But can also be an easy task using __vectorized computations__ with `numpy`.\n",
    "\n",
    "__NumPy__ stands for Numerical Python. NumPy is a Python library used for working with arrays. It also has functions for working in domain of linear algebra, fourier transform, and matrices.\n",
    "\n"
   ]
  },
  {
   "cell_type": "code",
   "execution_count": 43,
   "metadata": {},
   "outputs": [],
   "source": [
    "import numpy as np\n",
    "\n",
    "import matplotlib.pyplot as plt # library for plotting \n",
    "\n",
    "%matplotlib inline \n",
    "# the plotting will be stored in jupyter notebooks"
   ]
  },
  {
   "cell_type": "markdown",
   "metadata": {},
   "source": [
    "What we priviously need to do in a loops become a one liner:"
   ]
  },
  {
   "cell_type": "code",
   "execution_count": null,
   "metadata": {},
   "outputs": [],
   "source": [
    "np.argwhere(np.array(fluorescent_intesnity) > 20)"
   ]
  },
  {
   "cell_type": "markdown",
   "metadata": {},
   "source": [
    "if we are dealing with multiple dimensions and very big data set, computation with numpy arrays is way faster than lists."
   ]
  },
  {
   "cell_type": "markdown",
   "metadata": {},
   "source": [
    "Can apply math functions to all entries in a n-dimentional array (see numpy [math functions](https://numpy.org/doc/stable/reference/routines.math.html)):"
   ]
  },
  {
   "cell_type": "code",
   "execution_count": 45,
   "metadata": {},
   "outputs": [],
   "source": [
    "# create a mesh of x values:\n",
    "\n",
    "# find the sine of each x:\n"
   ]
  },
  {
   "cell_type": "code",
   "execution_count": null,
   "metadata": {},
   "outputs": [],
   "source": [
    "# plot x, y:"
   ]
  },
  {
   "cell_type": "code",
   "execution_count": null,
   "metadata": {},
   "outputs": [],
   "source": [
    "# find correlation coefficient matrix:\n",
    "\n",
    "\n",
    "mouse_day_1 = np.array([2, 1, 1, 4, 3])\n",
    "mouse_day_2 = np.array([2, 2, 1, 5, 2])\n",
    "mouse_day_3 = np.array([1, 2, 1, 4, 2])\n",
    "\n",
    "mouse_3days = np.stack((mouse_day_1, mouse_day_2, mouse_day_3), axis=0)\n",
    "  \n",
    "# Covariance matrix\n",
    "print(\"\\nCovariance matrix of the recordings of the two days:\\n\", \n",
    "      np.corrcoef(mouse_3days))"
   ]
  },
  {
   "cell_type": "code",
   "execution_count": null,
   "metadata": {},
   "outputs": [],
   "source": []
  }
 ],
 "metadata": {
  "interpreter": {
   "hash": "99b6aaccea0ef8f3630693367a20130efcb7b7104c4ce0548ee5f1abf61f8eca"
  },
  "kernelspec": {
   "display_name": "Python 3.8.3 ('base')",
   "language": "python",
   "name": "python3"
  },
  "language_info": {
   "codemirror_mode": {
    "name": "ipython",
    "version": 3
   },
   "file_extension": ".py",
   "mimetype": "text/x-python",
   "name": "python",
   "nbconvert_exporter": "python",
   "pygments_lexer": "ipython3",
   "version": "3.8.3"
  },
  "orig_nbformat": 4
 },
 "nbformat": 4,
 "nbformat_minor": 2
}
