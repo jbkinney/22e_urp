{
 "cells": [
  {
   "cell_type": "markdown",
   "metadata": {},
   "source": [
    "# Lecture 2: Data Types and Flow Control\n",
    "\n",
    "\n",
    "> ### __At the core of any language:__\n",
    "\n",
    "- Control the flow of the program\n",
    "\n",
    "- Construct and access data elements\n",
    "\n",
    "- operate on data elements\n",
    "\n",
    "- Construct functions\n",
    "\n",
    "- Construct classes\n",
    "\n",
    "- Libraries and built-in classes\n",
    "\n",
    "> \"The Practice of Computing Using Python\"Python, , 3 rd Edition\", Punch & Enbody, 2017\n",
    "\n",
    "\n",
    "#### Today we will present a very brief overview of the basics of __data types__, __flow control__ and __functions__."
   ]
  },
  {
   "cell_type": "code",
   "execution_count": 1,
   "metadata": {},
   "outputs": [],
   "source": [
    "import numpy as np\n",
    "import pandas as pd\n",
    "import matplotlib.pyplot as plt\n",
    "%matplotlib inline"
   ]
  },
  {
   "cell_type": "markdown",
   "metadata": {},
   "source": [
    "------\n",
    "## Part 1: Data Types\n",
    "\n",
    "### What is a Type?\n",
    "\n",
    "A type in Python essentially defines two things:\n",
    "\n",
    " </br>\n",
    "\n",
    "- the __internal structure__ of the type (what it contains)\n",
    "\n",
    "    - For example, Python allocates a fixed number of bytes of space in memory for each variable of a normal integer type. Tpically, an integer occupies four bytes, or 32 bits.\n",
    "\n",
    " </br>\n",
    " \n",
    "- the kinds of __operations__ you can perform:\n",
    "\n",
    "    - `'abc'.capitalize()` is a method you can call on strings, but not integers\n",
    "\n",
    "    -  Each data type has its own `operators` to compute the operations: An operator takes one or more operands, computes a result, and makes that result available to Python for further use.\n",
    "\n",
    "\n",
    " </br>\n",
    " \n",
    "Some types have multiple elements (__collections__); we'll see those later\n",
    "\n",
    " </br>\n",
    " "
   ]
  },
  {
   "cell_type": "markdown",
   "metadata": {},
   "source": [
    "------\n",
    "\n",
    "### Fundamental Types"
   ]
  },
  {
   "cell_type": "markdown",
   "metadata": {},
   "source": [
    "#### __Numbers__"
   ]
  },
  {
   "cell_type": "code",
   "execution_count": null,
   "metadata": {},
   "outputs": [],
   "source": [
    "# intergers\n",
    "\n",
    "total_seq = 100"
   ]
  },
  {
   "cell_type": "code",
   "execution_count": null,
   "metadata": {
    "collapsed": true,
    "jupyter": {
     "outputs_hidden": true
    }
   },
   "outputs": [],
   "source": [
    "# Floating point numbers\n",
    "\n",
    "ph = 8.0 \n",
    "avocado_number = 6.02e23"
   ]
  },
  {
   "cell_type": "code",
   "execution_count": null,
   "metadata": {
    "collapsed": true,
    "jupyter": {
     "outputs_hidden": true
    }
   },
   "outputs": [],
   "source": [
    "# You can also do math on numbers\n",
    "\n",
    "stock_conc = 50\n",
    "final_vol = 100\n",
    "final_conc = 10\n",
    "\n",
    "required_vol = 100*10/50 \n",
    "\n",
    "required_vol = final_conc*final_vol/stock_conc"
   ]
  },
  {
   "cell_type": "markdown",
   "metadata": {},
   "source": [
    "#### __Bonus coverage: The function type__\n",
    "\n",
    "A function is itself a data type in Python. You can think of the name of the function as a variable that contains the address of the function’s lines of code. The several lines are packaged together to be reused later."
   ]
  },
  {
   "cell_type": "code",
   "execution_count": 4,
   "metadata": {},
   "outputs": [],
   "source": [
    "# create a dilution calculator function:\n",
    "\n",
    "def desired_volume(stock_conc, final_vol, final_conc):\n",
    "    required_vol = final_conc*final_vol/stock_conc\n",
    "    \n",
    "    # print(f'The volume of stock solution we need to use is {required_vol:2f}.')\n",
    "\n",
    "    return required_vol\n"
   ]
  },
  {
   "cell_type": "markdown",
   "metadata": {},
   "source": [
    "#### __Booleans__"
   ]
  },
  {
   "cell_type": "code",
   "execution_count": 4,
   "metadata": {
    "collapsed": true,
    "jupyter": {
     "outputs_hidden": true
    }
   },
   "outputs": [
    {
     "name": "stdout",
     "output_type": "stream",
     "text": [
      "'read_gene_1 == threshold' is False\n",
      "'read_gene_2 > threshold' is True\n",
      "'read_gene_2 <= threshold' is False\n"
     ]
    }
   ],
   "source": [
    "# Boolean variables represent quantities that are True or False\n",
    "\n",
    "read_gene_1 = 56\n",
    "threshold = 5\n",
    "\n",
    "\n",
    "bool_1 = (read_gene_1 == threshold)\n",
    "# bool = (read_gene_1 == threshold) Don't do it!\n",
    "print(\"'read_gene_1 == threshold' is\", bool_1)\n",
    "bool_2 = (read_gene_1 > threshold)\n",
    "print(\"'read_gene_2 > threshold' is\", bool_2)\n",
    "bool_3 = (read_gene_1 <= threshold)\n",
    "print(\"'read_gene_2 <= threshold' is\", bool_3)"
   ]
  },
  {
   "cell_type": "markdown",
   "metadata": {},
   "source": [
    "#### __Strings__"
   ]
  },
  {
   "cell_type": "code",
   "execution_count": null,
   "metadata": {
    "collapsed": true,
    "jupyter": {
     "outputs_hidden": true
    }
   },
   "outputs": [],
   "source": [
    "# Strings can be defined using either single or double quotes\n",
    "first_name = 'Barbara'\n",
    "last_name = \"McClintock\"\n",
    "print(first_name, last_name)"
   ]
  },
  {
   "cell_type": "code",
   "execution_count": null,
   "metadata": {},
   "outputs": [
    {
     "name": "stdout",
     "output_type": "stream",
     "text": [
      "\n",
      "Cold Spring Harbor Laboratory\n",
      "1 Bungtown Rd.\n",
      "Cold Spring Harbor, NY 11724\n",
      "\n"
     ]
    }
   ],
   "source": [
    "# Multiline strings can be defined using triple quotes (single or double)\n",
    "address = \"\"\"\n",
    "Cold Spring Harbor Laboratory\n",
    "1 Bungtown Rd.\n",
    "Cold Spring Harbor, NY 11724\n",
    "\"\"\"\n",
    "print(address)"
   ]
  },
  {
   "cell_type": "code",
   "execution_count": 6,
   "metadata": {
    "collapsed": true,
    "jupyter": {
     "outputs_hidden": true
    }
   },
   "outputs": [
    {
     "name": "stdout",
     "output_type": "stream",
     "text": [
      "G AATTC\n",
      "CTTAA G\n"
     ]
    }
   ],
   "source": [
    "# The '+' sign concatenates strings\n",
    "\n",
    "# EcoRI recognition site:\n",
    "\n",
    "coding_5 = 'G'\n",
    "coding_3 = 'AATTC'\n",
    "noncoding_3 = 'CTTAA'  \n",
    "noncoding_5 = 'G'\n",
    "\n",
    "print(coding_5 + ' ' + coding_3)\n",
    "print(noncoding_3 + ' ' + noncoding_5)"
   ]
  },
  {
   "cell_type": "markdown",
   "metadata": {},
   "source": [
    "Here is the DNA sequence of the multiple cloning site (MCS) on the plasmid [pcDNA5](https://www.addgene.org/vector-database/2132/), a popular vector for mammalian gene expression."
   ]
  },
  {
   "cell_type": "code",
   "execution_count": 5,
   "metadata": {
    "collapsed": true,
    "jupyter": {
     "outputs_hidden": true
    }
   },
   "outputs": [
    {
     "name": "stdout",
     "output_type": "stream",
     "text": [
      "True\n",
      "False\n"
     ]
    }
   ],
   "source": [
    "# It is simple to test if one string is contained within another\n",
    "\n",
    "seq = 'GAGACCCAAGCTGGCTAGCGTTTAAACTTAAGCTTGGTACCGAGCTCGGATCCACTA' \\\n",
    "      'GTCCAGTGTGGTGGAATTCTGCAGATATCCAGCACAGTGGCGGCCGCTCGAGTCTAG' \\\n",
    "      'AGGGCCCGTTTAAACCCGCTGATCAGCCT'\n",
    "\n",
    "# Does this MCS contain a restriction site for NheI (GCTAGC)? \n",
    "print('GCTAGC' in seq)\n",
    "\n",
    "# How about for MscI (TGGCCA)?\n",
    "print('TGGCCA' in seq)"
   ]
  },
  {
   "cell_type": "code",
   "execution_count": null,
   "metadata": {
    "collapsed": true,
    "jupyter": {
     "outputs_hidden": true
    }
   },
   "outputs": [],
   "source": [
    "# The len() function tells you the length of a string\n",
    "len(seq)"
   ]
  },
  {
   "cell_type": "code",
   "execution_count": null,
   "metadata": {
    "collapsed": true,
    "jupyter": {
     "outputs_hidden": true
    }
   },
   "outputs": [],
   "source": [
    "full_name = last_name + ', ' + first_name\n",
    "\n",
    "# The contents in a string can be indexed using brackets\n",
    "print('First character:', full_name[0])         # strings are index starting at 0\n",
    "print('Last character:', full_name[-1])         # str[-n] returns the n'th character from the end.\n",
    "print('Characters 5-7:', full_name[5:7])        # str[start:stop]. This is called a 'slice'.\n",
    "print('Every other character:', full_name[::2]) # str[start:stop:stride]\n",
    "print('Reverse the string:', full_name[::-1])    # strings can be reversed using a stride of -1"
   ]
  },
  {
   "cell_type": "markdown",
   "metadata": {},
   "source": [
    "For more functions and methods for strings, "
   ]
  },
  {
   "cell_type": "markdown",
   "metadata": {},
   "source": [
    "### Converting Types\n",
    "\n",
    "a character `'1'` is not an integer `1`!"
   ]
  },
  {
   "cell_type": "code",
   "execution_count": 7,
   "metadata": {},
   "outputs": [],
   "source": [
    "# int(some_var)returns an integer, can fail if the original variable cannot be an interger!\n",
    "my_int = int(5.0) \n",
    "print('my_int =', my_int, '; type is', type(my_int))\n",
    "\n",
    "# my_int = int(5.2)\n",
    "# my_int = int('five')"
   ]
  },
  {
   "cell_type": "code",
   "execution_count": null,
   "metadata": {},
   "outputs": [],
   "source": [
    "# float(some_var)returns a float\n",
    "my_float = float('3.1415926')\n",
    "print('my_num =', my_float, '; type is', type(my_float))"
   ]
  },
  {
   "cell_type": "code",
   "execution_count": null,
   "metadata": {},
   "outputs": [],
   "source": [
    "# str(some_var) returns a string\n",
    "my_str = str(5)\n",
    "print('my_str =', my_str, '; type is', type(my_str))"
   ]
  },
  {
   "cell_type": "code",
   "execution_count": null,
   "metadata": {},
   "outputs": [],
   "source": [
    "# input() fuction always returns a string\n",
    "min_copy = input('threshold transcript copy number:')\n",
    "3 < min_copy "
   ]
  },
  {
   "cell_type": "markdown",
   "metadata": {},
   "source": [
    "-----\n",
    "\n",
    "### Collections types\n",
    "\n",
    "#### __lists and tuples__\n",
    "\n",
    "\n"
   ]
  },
  {
   "cell_type": "code",
   "execution_count": null,
   "metadata": {
    "collapsed": true,
    "jupyter": {
     "outputs_hidden": true
    }
   },
   "outputs": [],
   "source": [
    "# Define a list using brackets and commas.\n",
    "\n",
    "lb_ingredients = ['Tryptone', 'NaCl', 'Yeast extract', 'Distilled water']\n",
    "\n",
    "mixed_dtype_list = [1, 'two', 3.0, 'four', 5]\n"
   ]
  },
  {
   "cell_type": "code",
   "execution_count": null,
   "metadata": {
    "collapsed": true,
    "jupyter": {
     "outputs_hidden": true
    }
   },
   "outputs": [],
   "source": [
    "# Lists can be indexed using brackets just like strings can.\n",
    "print('First element:', lb_ingredients[0])\n",
    "print('Last element:', lb_ingredients[-1])\n",
    "print('The list reversed:', lb_ingredients[::-1])"
   ]
  },
  {
   "cell_type": "code",
   "execution_count": null,
   "metadata": {
    "collapsed": true,
    "jupyter": {
     "outputs_hidden": true
    }
   },
   "outputs": [],
   "source": [
    "# Use 'in' to test whether an element is contained in a list.\n",
    "'Ethanol' in lb_ingredients"
   ]
  },
  {
   "cell_type": "code",
   "execution_count": null,
   "metadata": {
    "collapsed": true,
    "jupyter": {
     "outputs_hidden": true
    }
   },
   "outputs": [],
   "source": [
    "# Change an element in a list.\n",
    "print('Before: ', lb_ingredients)\n",
    "lb_ingredients[0] = 'Micropore water'\n",
    "print('After:', lb_ingredients)"
   ]
  },
  {
   "cell_type": "code",
   "execution_count": null,
   "metadata": {
    "collapsed": true,
    "jupyter": {
     "outputs_hidden": true
    }
   },
   "outputs": [],
   "source": [
    "# Append an element to the end of a list.\n",
    "print('Before:', lb_ingredients)\n",
    "lb_ingredients.append('NaOH')\n",
    "print('After:', lb_ingredients)"
   ]
  },
  {
   "cell_type": "code",
   "execution_count": null,
   "metadata": {
    "collapsed": true,
    "jupyter": {
     "outputs_hidden": true
    }
   },
   "outputs": [],
   "source": [
    "# You get an error if you try to access an index that doesn't exist.\n",
    "lb_ingredients[10]"
   ]
  },
  {
   "cell_type": "code",
   "execution_count": null,
   "metadata": {
    "collapsed": true,
    "jupyter": {
     "outputs_hidden": true
    }
   },
   "outputs": [],
   "source": [
    "# You also get an error if you pass a non-integer as an index.\n",
    "lb_ingredients[4.0]"
   ]
  },
  {
   "cell_type": "code",
   "execution_count": null,
   "metadata": {
    "collapsed": true,
    "jupyter": {
     "outputs_hidden": true
    }
   },
   "outputs": [],
   "source": [
    "# To create a list of numbers from 0 to n, use list(range(n))\n",
    "enum_list = list(range(10))"
   ]
  },
  {
   "cell_type": "code",
   "execution_count": 6,
   "metadata": {
    "collapsed": true,
    "jupyter": {
     "outputs_hidden": true
    }
   },
   "outputs": [
    {
     "name": "stdout",
     "output_type": "stream",
     "text": [
      "Before sorting:  0 2 4 6 8 1 3 5 7 9\n",
      "After sorting:  0 1 2 3 4 5 6 7 8 9\n"
     ]
    }
   ],
   "source": [
    "# Sort a list of numbers\n",
    "vals = [0,2,4,6,8,1,3,5,7,9]\n",
    "print('Before sorting: ', *vals) #printing the list using * operator separated \n",
    "vals.sort()\n",
    "print('After sorting: ', *vals)"
   ]
  },
  {
   "cell_type": "code",
   "execution_count": null,
   "metadata": {},
   "outputs": [],
   "source": [
    "# Tuples are like lists, though they are defined using parentheses instead of brackets.\n",
    "# Functions often pass tuples (not lists) back to the user.\n",
    "\n",
    "t = (0, 1, 2, 3, 4)\n",
    "print(t)"
   ]
  },
  {
   "cell_type": "markdown",
   "metadata": {},
   "source": [
    "#### __Dictionaries__\n",
    "Dictionaries are one of Python's most useful datatypes. They can be thought of as a list of key-value pairs that allow values to be rapidly looked up via keys. Keys can be any (immutable) variable. Values can be anything."
   ]
  },
  {
   "cell_type": "code",
   "execution_count": 6,
   "metadata": {},
   "outputs": [],
   "source": [
    "# Dictionaries are defined using braces, colons, and commas\n",
    "lb_ingredients_1L = {'Tryptone':10, 'NaCl':10, 'Yeast extract':5, 'Distilled water':975}\n",
    "print(lb_ingredients_1L)"
   ]
  },
  {
   "cell_type": "code",
   "execution_count": null,
   "metadata": {},
   "outputs": [],
   "source": [
    "# Access dictionary elements using a \"key\" enclosed in brackets\n",
    "print(lb_ingredients_1L['NaCl'])"
   ]
  },
  {
   "cell_type": "code",
   "execution_count": null,
   "metadata": {},
   "outputs": [],
   "source": [
    "# You can replace and add elements to a dictionary after it is created.\n",
    "lb_ingredients_1L['Yeast extract'] = 8\n",
    "lb_ingredients_1L['NaOH'] = .1"
   ]
  },
  {
   "cell_type": "code",
   "execution_count": null,
   "metadata": {
    "collapsed": true,
    "jupyter": {
     "outputs_hidden": true
    }
   },
   "outputs": [],
   "source": [
    "# From a dictionary, you can get a list of both the keys and the values.\n",
    "keys = list(lb_ingredients_1L.keys())\n",
    "print('keys:', keys)\n",
    "\n",
    "values = list(lb_ingredients_1L.values())\n",
    "print('values:', values)"
   ]
  },
  {
   "cell_type": "markdown",
   "metadata": {},
   "source": [
    "--------\n",
    "\n",
    "## Part 2: flow control\n",
    "\n",
    "__Selection__:\n",
    "\n",
    "- Selection is how programs make choices, and it is the process of making choices that provides a lot of the power of computing. In python we use conditional statement to evalulate and select statements to execute.\n",
    "\n",
    "\n",
    "__Repeating Statements__:\n",
    "\n",
    "- Besides selecting which statements to execute, a fundamental need in a program is repetition: repeat a set of statements under some conditions\n",
    "\n",
    "\n"
   ]
  },
  {
   "cell_type": "markdown",
   "metadata": {},
   "source": [
    "\n",
    "\n",
    "#### __`if` statements:__\n",
    "\n",
    "\n",
    "\n",
    "``` python\n",
    "#---------------------------------\n",
    "\n",
    "if boolean expression:\n",
    "    suite # watch out for indentations! \n",
    "    \n",
    "#---------------------------------\n",
    "```\n",
    "\n",
    "\n",
    "We evaluate the boolean (`True` or `False`); if `True`, execute all statements in the suite\n",
    "\n",
    "- example boolean operators: `<`, `>`, `<=`, `==`, `!=`\n"
   ]
  },
  {
   "cell_type": "code",
   "execution_count": 8,
   "metadata": {},
   "outputs": [
    {
     "data": {
      "text/plain": [
       "True"
      ]
     },
     "execution_count": 8,
     "metadata": {},
     "output_type": "execute_result"
    }
   ],
   "source": [
    "# review on boolean logic:\n",
    "\n",
    "read_gene_1 = 56\n",
    "threshold = 5\n",
    "\n",
    "read_gene_1 > threshold "
   ]
  },
  {
   "cell_type": "code",
   "execution_count": 12,
   "metadata": {},
   "outputs": [
    {
     "name": "stdout",
     "output_type": "stream",
     "text": [
      "Gene_1 will be included in the analysis.\n"
     ]
    }
   ],
   "source": [
    "# use if statement:\n",
    "\n",
    "read_gene_1 = 56\n",
    "threshold = 5\n",
    "\n",
    "if read_gene_1 > threshold:\n",
    "    print('Gene_1 will be included in the analysis.')"
   ]
  },
  {
   "cell_type": "markdown",
   "metadata": {},
   "source": [
    "#### __Python Selection, multiple rounds `if/else`__\n",
    "\n",
    "``` python\n",
    "#---------------------------------\n",
    "\n",
    "if boolean expression: # evaluate the boolean, if True, run suite1\n",
    "    suite1\n",
    "else:\n",
    "    suite2 # if False, run suite2\n",
    "\n",
    "#---------------------------------\n",
    "\n",
    "```\n"
   ]
  },
  {
   "cell_type": "code",
   "execution_count": 11,
   "metadata": {},
   "outputs": [
    {
     "name": "stdout",
     "output_type": "stream",
     "text": [
      "We disregard gene_2 in the analysis.\n"
     ]
    }
   ],
   "source": [
    "# use if/else statement:\n",
    "\n",
    "read_gene_1 = 56\n",
    "read_gene_2 = 3\n",
    "\n",
    "threshold = 5\n",
    "\n",
    "if read_gene_2 > threshold:\n",
    "    print('Gene_2 will be included in the analysis.')\n",
    "else:\n",
    "    print('We disregard gene_2 in the analysis.')"
   ]
  },
  {
   "cell_type": "markdown",
   "metadata": {},
   "source": [
    "#### __Python Selection, multiple rounds `if/elif/else`__\n",
    "\n",
    "``` python\n",
    "\n",
    "#---------------------------------\n",
    "\n",
    "if boolean expression A: # evaluate the boolean, if True, run suite1\n",
    "    suite1\n",
    "elif boolean expression B:\n",
    "    suite2 # if true, run suite2\n",
    "else:\n",
    "    suite3 # if both A and B are false, run suite2\n",
    "\n",
    "#---------------------------------\n",
    "\n",
    "```\n"
   ]
  },
  {
   "cell_type": "code",
   "execution_count": null,
   "metadata": {},
   "outputs": [],
   "source": [
    "# use if/elif/else statement:\n",
    "\n",
    "read_gene_1 = 56\n",
    "read_gene_2 = 3\n",
    "read_gene_3 = 300\n",
    "\n",
    "threshold = 5\n",
    "high_exp = 100\n",
    "\n",
    "if read_gene_3 > high_exp:\n",
    "    print('Gene_3 is considered as highly expressed.')\n",
    "\n",
    "elif read_gene_3 > threshold:\n",
    "    print('Gene_3 will be included in the analysis.')\n",
    "    \n",
    "else:\n",
    "    print('We disregard gene_3 in the analysis.')"
   ]
  },
  {
   "cell_type": "markdown",
   "metadata": {},
   "source": [
    "-----\n",
    "\n",
    "### Repetitions (loops)\n",
    "\n",
    "#### __`while` and `for` Statements__\n",
    "\n",
    "__while statement__:\n",
    "\n",
    "– repeats a set of statements while some condition is `True`\n",
    "\n",
    "– more general repetition construct\n",
    "\n",
    "__for statement__:\n",
    "\n",
    "– useful for iteration, moving through all the elements of data structure, one at a time\n"
   ]
  },
  {
   "cell_type": "markdown",
   "metadata": {},
   "source": [
    "#### __`while` loop__\n",
    "\n",
    "condition test at top (pretest):\n",
    "\n",
    "- test the boolean before running\n",
    "\n",
    "- test the boolean before each iteration of the loop\n",
    "\n",
    "``` python\n",
    "#---------------------------------\n",
    "\n",
    "while boolean expression:\n",
    "    \n",
    "    suite\n",
    "\n",
    "#---------------------------------\n",
    "\n",
    "```\n",
    "\n",
    "while loop will repeat the statements in the suite while the boolean is `True`\n",
    "\n",
    "- e.g. count number of cells in a microgrpah: while there are still florescent blobs, keep counting!\n",
    "\n",
    "<br/>\n",
    "\n",
    "__Warning__: if the Boolean expression never changes during the course of the loop, the loop will continue forever\n",
    "\n",
    "<br/>\n",
    "\n",
    "__Recipe for general treatment of `while`__:\n",
    "\n",
    "\n",
    "\n",
    "- __i)__ outside the loop, initialize the boolean, or a variable tracker;\n",
    "\n",
    "- __ii)__ somewhere inside the loop, perform some operation which changes the state of the program, eventually leading to a `False` boolean and exiting the loop.\n"
   ]
  },
  {
   "cell_type": "code",
   "execution_count": 14,
   "metadata": {},
   "outputs": [
    {
     "name": "stdout",
     "output_type": "stream",
     "text": [
      "[3, 5]\n"
     ]
    }
   ],
   "source": [
    "# find cells with intensity that passed the threshold:\n",
    "fluorescent_intesnity = [10.1, 15,3, 78.5, 0.3, 46.9, 0.2, 0.7, 2.2, 12.5, 33.2]\n",
    "\n",
    "passed_index = []\n",
    "\n",
    "index = 0 # initialize variable tracker\n",
    "\n",
    "while index < 10:\n",
    "\n",
    "    if fluorescent_intesnity[index] > 20:\n",
    "        passed_index.append(index)\n",
    "\n",
    "    index += 1 # modify variable evaluated at the condition statement  \n",
    "\n",
    "print(passed_index)"
   ]
  },
  {
   "cell_type": "code",
   "execution_count": 8,
   "metadata": {},
   "outputs": [
    {
     "name": "stdout",
     "output_type": "stream",
     "text": [
      "P32 activity will be reduced to 9.8 by day 48.\n"
     ]
    }
   ],
   "source": [
    "# Assume you have a vial of P32\n",
    "half_life = 14.3 # days\n",
    "\n",
    "# Initially, the vial is at 100% activity\n",
    "current_activity = 100\n",
    "\n",
    "# As long as it has ~10% activity, it's still good to use for radioactive gels\n",
    "min_activity = 10\n",
    "\n",
    "# Compute how many days the vial is good for before it needs to be thrown out\n",
    "num_days = 0\n",
    "while current_activity > min_activity:\n",
    "    current_activity /= 2**(1/half_life)\n",
    "    num_days += 1\n",
    "    \n",
    "print(f'P32 activity will be reduced to {current_activity:.1f} by day {num_days}.')"
   ]
  },
  {
   "cell_type": "markdown",
   "metadata": {},
   "source": [
    "#### __`for` loop and iteration__\n",
    "\n",
    "The `for` statement iterates through each element of a collection (list, etc.)\n",
    "\n",
    "``` python\n",
    "#---------------------------------\n",
    "\n",
    "for element in collection:\n",
    "\n",
    "    suite\n",
    "\n",
    "#---------------------------------\n",
    "\n",
    "```\n",
    "\n",
    "We actually have encountered collection and their elements: \n",
    "- a string and the characters;\n",
    "- a list and objects in the list;\n",
    "- a dictionary and a key, value pair in the dictionary.\n",
    "\n",
    "Those objects are  __\"iterable\"__: capable of returning its members one at a time, permitting it to be iterated over in a for-loop. \n",
    "\n",
    "There are other objects that are iterable and can be unpacked into lists:"
   ]
  },
  {
   "cell_type": "code",
   "execution_count": 14,
   "metadata": {},
   "outputs": [
    {
     "name": "stdout",
     "output_type": "stream",
     "text": [
      "<class 'range'>\n",
      "<class 'list'>\n",
      "<class 'enumerate'>\n",
      "iterable: <enumerate object at 0x7fe9a8a8f6c0>\n",
      "<class 'list'>\n",
      "list:     [(0, 'B'), (1, 'a'), (2, 'r'), (3, 'b'), (4, 'a'), (5, 'r'), (6, 'a')] \n",
      "\n",
      "<class 'dict_keys'>\n",
      "iterable: dict_keys(['A', 'C', 'G', 'T'])\n",
      "<class 'list'>\n",
      "list:     ['A', 'C', 'G', 'T']\n"
     ]
    }
   ],
   "source": [
    "v_iter = range(10)\n",
    "print(type(v_iter))\n",
    "print('iterable:', range(10))\n",
    "\n",
    "v_list = list(range(10))\n",
    "print(type(v_list))\n",
    "print('list:    ', v_list, '\\n')\n",
    "\n",
    "e_iter = enumerate(full_name)\n",
    "print(type(e_iter))\n",
    "print('iterable:', e_iter)\n",
    "\n",
    "e_list = list(enumerate(full_name))\n",
    "print(type(e_list))\n",
    "print('list:    ', e_list, '\\n')\n",
    "\n",
    "d = {'A':'T', 'C':'G', 'G':'C', 'T':'A'}\n",
    "print(type(d.keys()))\n",
    "print('iterable:', d.keys())\n",
    "print(type(list(d.keys())))\n",
    "print('list:    ', list(d.keys()))"
   ]
  },
  {
   "cell_type": "code",
   "execution_count": 16,
   "metadata": {},
   "outputs": [
    {
     "name": "stdout",
     "output_type": "stream",
     "text": [
      "Gene_1 will be included in the analysis.\n",
      "Gene_2 is discarded in the analysis.\n",
      "Gene_3 is considered as highly expressed.\n",
      "Gene_4 is considered as highly expressed.\n"
     ]
    }
   ],
   "source": [
    "read_gene_1 = 56\n",
    "read_gene_2 = 3\n",
    "read_gene_3 = 300\n",
    "read_gene_4 = 129\n",
    "\n",
    "read_list = [56, 3, 300, 129]\n",
    "\n",
    "threshold = 5\n",
    "high_exp = 100\n",
    "\n",
    "for i in range(len(read_list)): # iterate over the indexes:\n",
    "\n",
    "    if read_list[i] > high_exp:\n",
    "        print(f'Gene_{i+1} is considered as highly expressed.')\n",
    "\n",
    "    elif read_list[i] > threshold:\n",
    "        print(f'Gene_{i+1} will be included in the analysis.')\n",
    "        \n",
    "    else:\n",
    "        print(f'Gene_{i+1} is discarded in the analysis.')"
   ]
  },
  {
   "cell_type": "code",
   "execution_count": null,
   "metadata": {},
   "outputs": [],
   "source": [
    "# find cells with intensity that passed the threshold:\n",
    "\n",
    "fluorescent_intesnity = [10.1, 15,3, 78.5, 0.3, 46.9, 0.2, 0.7, 2.2, 12.5, 33.2]\n",
    "\n",
    "passed_index = []\n",
    "\n",
    "index = 0 # initialize variable tracker\n",
    "\n",
    "while index < 10:\n",
    "\n",
    "    if fluorescent_intesnity[index] > 20:\n",
    "        passed_index.append(index)\n",
    "\n",
    "    index = index + 1 # modify variable evaluated at the condition statement  \n",
    "\n",
    "print(passed_index)"
   ]
  },
  {
   "cell_type": "code",
   "execution_count": null,
   "metadata": {},
   "outputs": [],
   "source": []
  }
 ],
 "metadata": {
  "interpreter": {
   "hash": "99b6aaccea0ef8f3630693367a20130efcb7b7104c4ce0548ee5f1abf61f8eca"
  },
  "kernelspec": {
   "display_name": "Python 3.8.3 ('base')",
   "language": "python",
   "name": "python3"
  },
  "language_info": {
   "codemirror_mode": {
    "name": "ipython",
    "version": 3
   },
   "file_extension": ".py",
   "mimetype": "text/x-python",
   "name": "python",
   "nbconvert_exporter": "python",
   "pygments_lexer": "ipython3",
   "version": "3.8.3"
  },
  "orig_nbformat": 4
 },
 "nbformat": 4,
 "nbformat_minor": 2
}
