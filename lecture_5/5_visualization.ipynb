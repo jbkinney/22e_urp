{
 "cells": [
  {
   "cell_type": "markdown",
   "id": "general-culture",
   "metadata": {},
   "source": [
    "# Imports"
   ]
  },
  {
   "cell_type": "code",
   "execution_count": null,
   "id": "third-constitutional",
   "metadata": {},
   "outputs": [],
   "source": [
    "!pip install palmerpenguins"
   ]
  },
  {
   "cell_type": "code",
   "execution_count": null,
   "id": "ruled-liverpool",
   "metadata": {},
   "outputs": [],
   "source": [
    "#Two Plotting Libraries\n",
    "import matplotlib.pyplot as plt\n",
    "import seaborn as sns\n",
    "\n",
    "\n",
    "#Mathematical libraries\n",
    "import numpy as np\n",
    "import pandas as pd\n",
    "\n",
    "%matplotlib inline\n",
    "\n",
    "\n",
    "from palmerpenguins import load_penguins"
   ]
  },
  {
   "cell_type": "code",
   "execution_count": null,
   "id": "north-casting",
   "metadata": {},
   "outputs": [],
   "source": [
    "#load palmer penguins\n",
    "from palmerpenguins import load_penguins\n",
    "penguins = load_penguins()"
   ]
  },
  {
   "cell_type": "markdown",
   "id": "advised-thousand",
   "metadata": {},
   "source": [
    "<img src = 'https://allisonhorst.github.io/palmerpenguins/reference/figures/lter_penguins.png'>\n",
    "<img src = 'https://allisonhorst.github.io/palmerpenguins/reference/figures/culmen_depth.png'>"
   ]
  },
  {
   "cell_type": "code",
   "execution_count": null,
   "id": "collaborative-neighborhood",
   "metadata": {},
   "outputs": [],
   "source": [
    "#first, look at the table\n",
    "penguins"
   ]
  },
  {
   "cell_type": "code",
   "execution_count": null,
   "id": "moral-decline",
   "metadata": {
    "scrolled": true
   },
   "outputs": [],
   "source": [
    "# let's make our first graph\n",
    "ax = penguins.plot.scatter(x='bill_length_mm', y='bill_depth_mm')\n"
   ]
  },
  {
   "cell_type": "code",
   "execution_count": null,
   "id": "stupid-private",
   "metadata": {},
   "outputs": [],
   "source": [
    "ax = plt.scatter(data=penguins, x= 'bill_length_mm', y = 'bill_depth_mm')"
   ]
  },
  {
   "cell_type": "markdown",
   "id": "egyptian-document",
   "metadata": {},
   "source": [
    "## Useful websites\n",
    "https://python-graph-gallery.com\n",
    "\n",
    "https://matplotlib.org/stable/gallery/index.html\n",
    "\n",
    "https://seaborn.pydata.org/examples/index.html"
   ]
  },
  {
   "cell_type": "code",
   "execution_count": null,
   "id": "fitted-fellowship",
   "metadata": {
    "scrolled": true
   },
   "outputs": [],
   "source": [
    "fig ,ax = plt.subplots(figsize=(15,12), ncols=2,nrows=2)\n",
    "sns.violinplot(data=penguins,x='species',y='body_mass_g',ax=ax[0,0])\n",
    "sns.swarmplot(data=penguins,x='species',y='body_mass_g',ax=ax[0,1])\n",
    "sns.boxplot(data=penguins,x='species',y='body_mass_g',ax=ax[1,0])\n",
    "sns.barplot(data=penguins,x='species',y='body_mass_g',ax=ax[1,1])\n",
    "plt.show()"
   ]
  },
  {
   "cell_type": "code",
   "execution_count": null,
   "id": "unlimited-canberra",
   "metadata": {
    "scrolled": true
   },
   "outputs": [],
   "source": [
    "sns.swarmplot(data=penguins,x='species',y='body_mass_g', color='k')\n",
    "sns.violinplot(data=penguins,x='species',y='body_mass_g', saturation=.75, inner=None)"
   ]
  },
  {
   "cell_type": "markdown",
   "id": "green-compiler",
   "metadata": {},
   "source": [
    "In general, publishers will not even you publish a barplot like the bottom right one anymore. This clearly is not showing the data faithfully. \n",
    "\n",
    "\n",
    "\n",
    "<img src=\"./figure/xkcd_plot.jpeg\" width=700/>\n",
    "\n",
    "\n"
   ]
  },
  {
   "cell_type": "code",
   "execution_count": null,
   "id": "finnish-geography",
   "metadata": {
    "scrolled": true
   },
   "outputs": [],
   "source": [
    "sns.histplot(penguins['bill_length_mm'], label='Bill Length',stat ='density')\n",
    "sns.histplot(penguins['bill_depth_mm'], label='Bill Depth',stat ='density')\n",
    "sns.kdeplot(penguins['bill_length_mm'])\n",
    "sns.kdeplot(penguins['bill_depth_mm'])"
   ]
  },
  {
   "cell_type": "code",
   "execution_count": null,
   "id": "muslim-carroll",
   "metadata": {},
   "outputs": [],
   "source": [
    "fig ,ax = plt.subplots(figsize=(10,6))\n",
    "sns.scatterplot(data=penguins,x='bill_length_mm',y='flipper_length_mm', hue='species')b"
   ]
  },
  {
   "cell_type": "code",
   "execution_count": null,
   "id": "choice-scientist",
   "metadata": {},
   "outputs": [],
   "source": [
    "fig ,ax = plt.subplots(figsize=(10,6))\n",
    "sns.scatterplot(data=penguins,x='bill_length_mm',y='flipper_length_mm',ax=ax,style='species')"
   ]
  },
  {
   "cell_type": "markdown",
   "id": "combined-glenn",
   "metadata": {},
   "source": [
    "## Exercises using iris dataset"
   ]
  },
  {
   "cell_type": "code",
   "execution_count": null,
   "id": "square-garden",
   "metadata": {
    "scrolled": true
   },
   "outputs": [],
   "source": [
    "!wget https://raw.githubusercontent.com/jbkinney/22e_urp/main/lecture_5/data/iris.csv\n",
    "\n",
    "iris = pd.read_csv('./iris.csv',index_col=0)"
   ]
  },
  {
   "cell_type": "markdown",
   "id": "strategic-bleeding",
   "metadata": {},
   "source": [
    "<img src = 'https://ars.els-cdn.com/content/image/3-s2.0-B9780128147610000034-f03-01-9780128147610.jpg'>"
   ]
  },
  {
   "cell_type": "code",
   "execution_count": null,
   "id": "mathematical-updating",
   "metadata": {},
   "outputs": [],
   "source": [
    "# TODO: Make a bar chart and a histogram using the iris dataset"
   ]
  },
  {
   "cell_type": "markdown",
   "id": "respective-uncle",
   "metadata": {},
   "source": [
    "# Styling"
   ]
  },
  {
   "cell_type": "code",
   "execution_count": null,
   "id": "viral-dover",
   "metadata": {},
   "outputs": [],
   "source": [
    "# This will initialize the figure\n",
    "fig, ax = plt.subplots()\n",
    "plt.show()"
   ]
  },
  {
   "cell_type": "code",
   "execution_count": null,
   "id": "intended-breach",
   "metadata": {},
   "outputs": [],
   "source": [
    "fig, ax = plt.subplots(ncols=2, nrows=2)\n",
    "plt.show()"
   ]
  },
  {
   "cell_type": "code",
   "execution_count": null,
   "id": "fluid-strike",
   "metadata": {},
   "outputs": [],
   "source": [
    "fig, ax = plt.subplots(ncols=2, nrows=2)\n",
    "\n",
    "#Top Left\n",
    "sns.histplot(penguins['bill_depth_mm'], label='Bill Depth',stat ='density', ax = ax[0,0])\n",
    "\n",
    "#Bototm left\n",
    "sns.histplot(penguins['bill_length_mm'], label='Bill Length',stat ='density', ax=ax[1, 0])\n",
    "\n",
    "#Top right\n",
    "penguins.plot.scatter(x='bill_length_mm', y='bill_depth_mm', ax=ax[0, 1])\n",
    "\n",
    "#Bottom rigth\n",
    "ax[1,1].axis('off')\n",
    "\n",
    "#Uncomment to make pretty (aka properly organize whitespace)\n",
    "plt.tight_layout()\n",
    "plt.show()"
   ]
  },
  {
   "cell_type": "markdown",
   "id": "surprising-extent",
   "metadata": {},
   "source": [
    "<img src=\"https://files.realpython.com/media/fig_map.bc8c7cabd823.png\" />"
   ]
  },
  {
   "cell_type": "code",
   "execution_count": null,
   "id": "rising-cornell",
   "metadata": {
    "scrolled": true
   },
   "outputs": [],
   "source": [
    "# make figure with figsize\n",
    "fig ,ax = plt.subplots(figsize=(10,6))\n",
    "sns.scatterplot(data=penguins,x='bill_length_mm',y='flipper_length_mm',ax=ax,style='species')\n",
    "# set x and ylabels\n",
    "ax.set_ylabel(\"Flipper Length (mm)\")\n",
    "ax.set_xlabel(\"Bill Length (mm)\")\n",
    "\n",
    "#set title\n",
    "plt.title(\"My title\")\n",
    "\n",
    "#use tick params to customize ticks\n",
    "ax.tick_params(direction='out', length=6, width=2, colors='r',\n",
    "               grid_color='r', grid_alpha=0.5)\n",
    "\n",
    "#Remove spines\n",
    "ax.spines['right'].set_visible(False)\n",
    "ax.spines['top'].set_visible(False)\n",
    "\n",
    "#Move legend\n",
    "ax.legend(loc='upper right', frameon=False)"
   ]
  },
  {
   "cell_type": "code",
   "execution_count": null,
   "id": "creative-pledge",
   "metadata": {},
   "outputs": [],
   "source": [
    "plt.rcParams['axes.spines.right'] = False\n",
    "plt.rcParams['axes.spines.top'] = False\n",
    "plt.rcParams['xtick.bottom'] = False\n",
    "plt.rcParams['ytick.left'] = False\n",
    "plt.rcParams['font.family'] = 'sans-serif'\n",
    "plt.rcParams['font.sans-serif'] = ['Helvetica']\n",
    "plt.rcParams['font.size'] = 9"
   ]
  },
  {
   "cell_type": "code",
   "execution_count": null,
   "id": "timely-villa",
   "metadata": {},
   "outputs": [],
   "source": [
    "fig ,ax = plt.subplots(figsize=(10,6))\n",
    "sns.scatterplot(data=penguins,x='bill_length_mm',y='flipper_length_mm',ax=ax,style='species')"
   ]
  },
  {
   "cell_type": "code",
   "execution_count": null,
   "id": "introductory-subsection",
   "metadata": {},
   "outputs": [],
   "source": [
    "# TODO: Make your bar chart and histogram into subplot. Change the x and y axis labels and the font size. \n",
    "# BONUS: change where the ticks labels are"
   ]
  },
  {
   "cell_type": "markdown",
   "id": "improving-morgan",
   "metadata": {},
   "source": [
    "# Colors"
   ]
  },
  {
   "cell_type": "code",
   "execution_count": null,
   "id": "certain-float",
   "metadata": {},
   "outputs": [],
   "source": [
    "fig, ax = plt.subplots(figsize=(10, 6))\n",
    "penguins.plot.scatter(x='flipper_length_mm',y='bill_length_mm',c='body_mass_g',cmap='Blues',ax=ax)\n",
    "plt.show()"
   ]
  },
  {
   "cell_type": "code",
   "execution_count": null,
   "id": "marine-proof",
   "metadata": {},
   "outputs": [],
   "source": [
    "# TODO: Create a scatter plot with the iris dataset. Color each point by a third variable. Choose an appropriate color scheme.\n"
   ]
  },
  {
   "cell_type": "markdown",
   "id": "inner-denver",
   "metadata": {},
   "source": [
    "## Useful websites\n",
    "https://matplotlib.org/stable/gallery/color/named_colors.html\n",
    "\n",
    "https://matplotlib.org/stable/tutorials/colors/colormaps.html"
   ]
  },
  {
   "cell_type": "markdown",
   "id": "fatal-equality",
   "metadata": {},
   "source": [
    "# Reading Documentation"
   ]
  },
  {
   "cell_type": "code",
   "execution_count": null,
   "id": "durable-provision",
   "metadata": {},
   "outputs": [],
   "source": [
    "## TODO: Read through the seaborn jointplot documentation. Use the iris dataset to make a jointplot"
   ]
  }
 ],
 "metadata": {
  "kernelspec": {
   "display_name": "Python 3",
   "language": "python",
   "name": "python3"
  },
  "language_info": {
   "codemirror_mode": {
    "name": "ipython",
    "version": 3
   },
   "file_extension": ".py",
   "mimetype": "text/x-python",
   "name": "python",
   "nbconvert_exporter": "python",
   "pygments_lexer": "ipython3",
   "version": "3.7.3"
  },
  "toc": {
   "base_numbering": 1,
   "nav_menu": {},
   "number_sections": true,
   "sideBar": true,
   "skip_h1_title": false,
   "title_cell": "Table of Contents",
   "title_sidebar": "Contents",
   "toc_cell": false,
   "toc_position": {},
   "toc_section_display": true,
   "toc_window_display": false
  }
 },
 "nbformat": 4,
 "nbformat_minor": 5
}
