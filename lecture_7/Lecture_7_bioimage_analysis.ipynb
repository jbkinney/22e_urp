{
 "cells": [
  {
   "cell_type": "markdown",
   "metadata": {},
   "source": [
    "# Lecture 7: Image Analysis with Python\n",
    "\n",
    "Because this is a long notebook, here is a table of content that you can click and jump to each part:\n",
    "\n",
    "Part 0. [install and import modules](#download)\n",
    "\n",
    "Part 1. [using Napari to visualize and interact with images](#Napari)\n",
    "\n",
    "Part 2. [image processing and filters](#process)\n",
    "\n",
    "Part 3. [feature extraction](#feature)\n",
    "\n",
    "Part 4. [Analysis pipeline on a toy example](#example)\n"
   ]
  },
  {
   "cell_type": "markdown",
   "metadata": {},
   "source": [
    "---\n",
    "\n",
    "###  <font color='orange'> Part 0: install and import modules </font>  <a id= download></a>"
   ]
  },
  {
   "cell_type": "code",
   "execution_count": null,
   "metadata": {},
   "outputs": [],
   "source": [
    "# installation: \n",
    "\n",
    "!pip install scikit-image\n",
    "!pip install napari \n",
    "!pip install scipy\n",
    "!pip install ipywidgets"
   ]
  },
  {
   "cell_type": "code",
   "execution_count": null,
   "metadata": {},
   "outputs": [],
   "source": [
    "# Main modules to use: \n",
    "import numpy as np\n",
    "import matplotlib.pyplot as plt\n",
    "import pandas as pd\n",
    "\n",
    "import napari # image viewer\n",
    "from skimage import data # iamge database\n",
    "from skimage.io import imread # image reader \n",
    "import scipy.ndimage as ndi # multidimensional image processing\n",
    "from skimage import morphology # morphological operation\n",
    "\n",
    "%matplotlib inline"
   ]
  },
  {
   "cell_type": "markdown",
   "metadata": {},
   "source": [
    "----\n",
    "\n",
    "### <font color='orange'>  Part 1: using Napari to visualize and interact with images </font>  <a id= Napari></a>\n",
    "\n",
    "[Napari](https://napari.org/) is a fast, interactive, multi-dimensional image viewer in Python.\n",
    "\n",
    "We will open a napari viewer from here, add images and perform some interactions with them.\n",
    "\n"
   ]
  },
  {
   "cell_type": "code",
   "execution_count": null,
   "metadata": {},
   "outputs": [],
   "source": [
    "# a micrograph example from skimage:\n",
    "\n",
    "viewer = napari.view_image(data.cells3d(), channel_axis=1, ndisplay=3)\n",
    "napari.run()  # start the \"event loop\" and show the viewer"
   ]
  },
  {
   "cell_type": "markdown",
   "metadata": {},
   "source": [
    "Napari can be opened in one of multiple ways, depending on how it’s used in your image analysis workflow. Here are another way:\n",
    "\n",
    "- From command line: `$ napari`\n",
    "\n",
    "- To run the same commands as the code above, open napari IPython console, and type:\n",
    "\n",
    "``` python\n",
    "# copy this: \n",
    "from skimage import data\n",
    "viewer.add_image(data.cells3d()), channel_axis=1, ndisplay=3)\n",
    "```\n",
    "\n",
    "- You can of course, code all your instrcutions, but can also directly interact with the GUI"
   ]
  },
  {
   "cell_type": "code",
   "execution_count": null,
   "metadata": {},
   "outputs": [],
   "source": [
    "# launch a viewer and add a gray scale image:\n",
    "viewer = napari.Viewer()\n",
    "image_human_mitosis = data.human_mitosis()\n",
    "viewer.add_image(image_human_mitosis, name = 'mitosis')"
   ]
  },
  {
   "cell_type": "code",
   "execution_count": null,
   "metadata": {},
   "outputs": [],
   "source": [
    "# image dimension: \n",
    "image_human_mitosis.shape"
   ]
  },
  {
   "cell_type": "code",
   "execution_count": null,
   "metadata": {},
   "outputs": [],
   "source": [
    "# retrieve display elements: (follow a hierarchy)\n",
    "current_colormap = viewer.layers[0].colormap.name\n",
    "current_colormap"
   ]
  },
  {
   "cell_type": "code",
   "execution_count": null,
   "metadata": {},
   "outputs": [],
   "source": [
    "# change dispaly elements:\n",
    "viewer.layers[0].colormap = 'magma' \n",
    "viewer.layers[0].opacity = .8"
   ]
  },
  {
   "cell_type": "markdown",
   "metadata": {},
   "source": [
    "We can annotate the image by adding layers: (go to the GUI)"
   ]
  },
  {
   "cell_type": "code",
   "execution_count": null,
   "metadata": {},
   "outputs": [],
   "source": [
    "viewer.layers"
   ]
  },
  {
   "cell_type": "code",
   "execution_count": null,
   "metadata": {},
   "outputs": [],
   "source": [
    "# change elements by names:\n",
    "viewer.layers['Points'].face_color = 'yellow'"
   ]
  },
  {
   "cell_type": "markdown",
   "metadata": {},
   "source": [
    "We can also manually label a cell: (go to the GUI), and get different measurements, e.g., cell area:\n",
    "\n",
    "``` python\n",
    "# copy this \n",
    "from skimage.measure import regionprops\n",
    "props = regionprops(viewer.layers['Labels'].data)\n",
    "print(\"the cell area is: \", props[0].area)\n",
    "```"
   ]
  },
  {
   "cell_type": "markdown",
   "metadata": {},
   "source": [
    "-----\n",
    "\n",
    "### <font color='orange'> Part 2: image processing and filters </font>  <a id= process></a>\n",
    "\n",
    "What we do with `Napari` are mostly visualization: it changes how you look at an image, and it might help us see some features more easily.\n",
    "\n",
    "What is an image exactly? \n",
    "\n",
    "- an image is just a matrix of numbers\n",
    "\n",
    "- pixel: \"picture element\"\n",
    "\n",
    "- the \"edges\" between pixels are an artifact: they are a just a visual effect created by sharp change in gradient of pixel intesnities, so ... they don't really exist!"
   ]
  },
  {
   "cell_type": "code",
   "execution_count": null,
   "metadata": {},
   "outputs": [],
   "source": [
    "image_path = 'mitosis_mod.tif'\n",
    "mitosis_img = imread(image_path)\n",
    "plt.imshow(mitosis_img, cmap = 'gray')"
   ]
  },
  {
   "cell_type": "markdown",
   "metadata": {},
   "source": [
    "In `skimage`, images are simply numpy arrays, so you can view part of the image by slicing it:"
   ]
  },
  {
   "cell_type": "code",
   "execution_count": null,
   "metadata": {},
   "outputs": [],
   "source": [
    "plt.imshow(mitosis_img[5:15, 55:65], cmap = 'gray')"
   ]
  },
  {
   "cell_type": "markdown",
   "metadata": {},
   "source": [
    "Some potentially confusing concepts of images:\n",
    "\n",
    "#### __pixel size v.s. resolution__: \n",
    "\n",
    "    - __pixel size__ is a digital property of an image (dpi, ppi), you configure it during the imaging session when you do the micrsocopy;\n",
    "\n",
    "    - __resolution__ is a property of your imaging system. Spatial resolution measures how close object can be in an image while being differentiable\n",
    "\n",
    "<br/>\n",
    "\n",
    "#### __bit-depth__:\n",
    "\n",
    "    - the bit-depth *n* enuerates how many different intesnity values are present in an image: $2^n$ gray values\n",
    "    \n",
    "    - in microsopy, images are usually stored as 8, 12, or 16 bit images.\n"
   ]
  },
  {
   "cell_type": "code",
   "execution_count": null,
   "metadata": {},
   "outputs": [],
   "source": [
    "# check the image bit depth:\n",
    "print(\"Mitosis image is of type:\", mitosis_img.dtype)"
   ]
  },
  {
   "cell_type": "markdown",
   "metadata": {},
   "source": [
    "#### __color maps/lookup tables__:\n",
    "\n",
    "    - The lookup table decides how the image is displayed on screen\n",
    "    - it doesn't change the image! All pixel values stays the same, they just appear differently "
   ]
  },
  {
   "cell_type": "code",
   "execution_count": null,
   "metadata": {},
   "outputs": [],
   "source": [
    "plt.imshow(mitosis_img, cmap = 'plasma')"
   ]
  },
  {
   "cell_type": "markdown",
   "metadata": {},
   "source": [
    "####  __image histogram__:"
   ]
  },
  {
   "cell_type": "code",
   "execution_count": null,
   "metadata": {},
   "outputs": [],
   "source": [
    "from skimage.exposure import histogram\n",
    "\n",
    "# create an empty figure with a specific screen size \n",
    "plt.figure(figsize=(8,4))\n",
    "# calculate the image histogram\n",
    "pixel_counts, pixel_values = histogram(mitosis_img) \n",
    "# plot the histogram\n",
    "plt.bar(pixel_values, pixel_counts, width=2) "
   ]
  },
  {
   "cell_type": "markdown",
   "metadata": {},
   "source": [
    "The first big group to the left corresponds to small value pixels, which in this case is the background. There is a second cluster at between 70 and 150, which corresponds to the cells (foreground), because they are brighter than the background.\n",
    "\n",
    "Then there are small peak at the very end, more specifically, at 255. This is evidence that we have saturated pixels in the image, most likely corresponding to the dividing cells."
   ]
  },
  {
   "cell_type": "markdown",
   "metadata": {},
   "source": [
    "#### __brightness and contrast__:"
   ]
  },
  {
   "cell_type": "code",
   "execution_count": null,
   "metadata": {},
   "outputs": [],
   "source": [
    "plt.imshow(mitosis_img, cmap='gray')\n",
    "plt.colorbar()"
   ]
  },
  {
   "cell_type": "code",
   "execution_count": null,
   "metadata": {},
   "outputs": [],
   "source": [
    "min_value = mitosis_img.min()\n",
    "max_value = mitosis_img.max()\n",
    "print('min value = ', min_value)\n",
    "print('max value = ', max_value)"
   ]
  },
  {
   "cell_type": "markdown",
   "metadata": {},
   "source": [
    "Shift the brightness appearance of the image:"
   ]
  },
  {
   "cell_type": "code",
   "execution_count": null,
   "metadata": {},
   "outputs": [],
   "source": [
    "# creates a figure with 2 axes for plotting\n",
    "fig, ax = plt.subplots(1,2, figsize=(10,5)) \n",
    "\n",
    "image_0 = ax[0].imshow(mitosis_img, cmap='gray', vmin = min_value, vmax = max_value) \n",
    "plt.colorbar(image_0, ax=ax[0]) # adds a colorbar to the image in the first axis\n",
    "\n",
    "image_1 = ax[1].imshow(mitosis_img, cmap='gray', vmin = min_value - 50, vmax = max_value - 50)\n",
    "plt.colorbar(image_1, ax=ax[1]) # adds a colorbar to the image in the second axis"
   ]
  },
  {
   "cell_type": "markdown",
   "metadata": {},
   "source": [
    "Enhance the dispace contrast:"
   ]
  },
  {
   "cell_type": "code",
   "execution_count": null,
   "metadata": {},
   "outputs": [],
   "source": [
    "fig, ax = plt.subplots(1,2, figsize=(10,5)) \n",
    "\n",
    "axes_image0 = ax[0].imshow(mitosis_img, cmap='gray', vmin = min_value, vmax = max_value) \n",
    "plt.colorbar(axes_image0, ax=ax[0]) \n",
    "axes_image1 = ax[1].imshow(mitosis_img, cmap='gray', vmin = min_value + 20, vmax = max_value - 70) \n",
    "plt.colorbar(axes_image1, ax=ax[1]) "
   ]
  },
  {
   "cell_type": "markdown",
   "metadata": {},
   "source": [
    "What we have talked about were still visualizations. Now we move on to discuss processing the image to extract features.\n",
    "\n",
    "- \"where are my cells?\" \"how we describe their morporlogy?\""
   ]
  },
  {
   "cell_type": "markdown",
   "metadata": {},
   "source": [
    "First we need to shall distinguish foreground (cells) from the background. Let's see if we can do that easily."
   ]
  },
  {
   "cell_type": "code",
   "execution_count": null,
   "metadata": {},
   "outputs": [],
   "source": [
    "image_binary = mitosis_img > 125\n",
    "#image_binary = mitosis_img > 60\n",
    "\n",
    "plt.imshow(image_binary, cmap='gray')\n",
    "plt.colorbar()"
   ]
  },
  {
   "cell_type": "markdown",
   "metadata": {},
   "source": [
    "However, manually setting the threshold may only be interesting while exploring the data, not as part of an image analysis workflow.\n",
    "\n",
    "A few reasons why:\n",
    "\n",
    "- We do not want to choose this every time by hand;\n",
    "\n",
    "- We would like to avoid introducing bias;\n",
    "\n",
    "- We would like the workflow to be asily reproducible by others.\n",
    "\n",
    "\n",
    "<br/>\n",
    "\n",
    "#### __filters__:\n",
    "\n",
    "    - an image processing filter is an operation on an image\n",
    "\n",
    "    - it takes an image and produces __a new image__ out of it\n",
    "\n",
    "    - filters will change pixel values\n",
    "\n",
    "<font color='purple'> Tips: SAVE EVERY FILTERED IMAGE as a NEW IMAGE OBJECT </font>\n"
   ]
  },
  {
   "cell_type": "markdown",
   "metadata": {},
   "source": [
    "1. Linear Filters: replace each pixel value with a linear combination of surrounding pixels.\n",
    "\n",
    "    - Basically, linear filtering is a __convolution__ (or cross-correlation)\n",
    "\n",
    "    - It needs a kernel/footprint (weight template), described as a matrix\n",
    "    \n",
    "    - It will results in a new image where each pixel is replaced by the weighted sum of pixel values in the neighborhood"
   ]
  },
  {
   "cell_type": "code",
   "execution_count": null,
   "metadata": {},
   "outputs": [],
   "source": [
    "# Example 1: linear filter\n",
    "mean_kernel = np.array(\n",
    "        [[1, 1, 1],\n",
    "        [1, 1, 1],\n",
    "        [1, 1, 1]])/9\n",
    "print(mean_kernel)"
   ]
  },
  {
   "cell_type": "code",
   "execution_count": null,
   "metadata": {},
   "outputs": [],
   "source": [
    "# Let's plot before and after mean filtering:\n",
    "mean_filtered = ndi.correlate(mitosis_img, mean_kernel)\n",
    "\n",
    "fig, ax = plt.subplots(1,2, figsize=(10,5)) \n",
    "\n",
    "axes_image0 = ax[0].imshow(mitosis_img, cmap='gray') \n",
    "plt.colorbar(axes_image0, ax=ax[0]) \n",
    "\n",
    "axes_image1 = ax[1].imshow(mean_filtered, cmap='gray')\n",
    "plt.colorbar(axes_image1, ax=ax[1]) "
   ]
  },
  {
   "cell_type": "code",
   "execution_count": null,
   "metadata": {},
   "outputs": [],
   "source": [
    "# Example 2: prewitt filter\n",
    "prewitt_kernel = np.array(\n",
    "    [[1/3, 0, -1/3],\n",
    "     [1/3, 0, -1/3],\n",
    "     [1/3, 0, -1/3]])\n",
    "print(prewitt_kernel)"
   ]
  },
  {
   "cell_type": "code",
   "execution_count": null,
   "metadata": {},
   "outputs": [],
   "source": [
    "# Let's plot before and after prewitt filtering:\n",
    "prewitt_filtered = ndi.correlate(mitosis_img, prewitt_kernel)\n",
    "\n",
    "fig, ax = plt.subplots(1,2, figsize=(10,5)) \n",
    "\n",
    "axes_image0 = ax[0].imshow(mitosis_img, cmap='gray') \n",
    "plt.colorbar(axes_image0, ax=ax[0]) \n",
    "\n",
    "axes_image1 = ax[1].imshow(prewitt_filtered, cmap='gray') \n",
    "plt.colorbar(axes_image1, ax=ax[1])"
   ]
  },
  {
   "cell_type": "code",
   "execution_count": null,
   "metadata": {},
   "outputs": [],
   "source": [
    "### Try on your on using prewitt filter on this brick image: \n",
    "brick_image = data.brick().astype(float)"
   ]
  },
  {
   "cell_type": "markdown",
   "metadata": {},
   "source": [
    "2. Non-linear filters: they also replace pixel value but in a non linear function:\n",
    "\n",
    "    - Examples (order statistics): min, max, median \n",
    "\n",
    "There are many predefined filters in `ndi.filters`/ `skimage.filters`, like Gaussian blur, or Laplace-filter. \n",
    "\n",
    "An important usages of those filters is to __reduce/remove noise, uneveness, and enhance the contrast between objects to detect and the background__. "
   ]
  },
  {
   "cell_type": "code",
   "execution_count": null,
   "metadata": {},
   "outputs": [],
   "source": [
    "# take a look at thresholding result after we applied mean filter:\n",
    "\n",
    "mean_binary = mean_filtered > 60\n",
    "plt.imshow(mean_binary, cmap='gray')"
   ]
  },
  {
   "cell_type": "markdown",
   "metadata": {},
   "source": [
    "#### __morphological operations__\n",
    "\n",
    "Morphological operations transform images based on shape. They can be seen as non-linear spatial filters in which the kernel/footprint shape and size have a strong impact in the results. In this context, the kernel is also called structural element (SE).\n",
    "\n",
    "Strutcutal element\n",
    "The structural element (SE) is a probe that runs through the image, modifying each pixel depending on how well its shape matches the surroundings. This is best explained with some examples.\n",
    "\n",
    "Let's create 2 different SE: a square and a disk. Scikit-image has built-in functions to generate those."
   ]
  },
  {
   "cell_type": "code",
   "execution_count": null,
   "metadata": {},
   "outputs": [],
   "source": [
    "# creates a disk of 1 with radius = 3\n",
    "disk = morphology.disk(3) \n",
    "print('disk = \\n', disk)\n",
    "# creates a square with edges = 5\n",
    "square = morphology.square(5) \n",
    "print('square = \\n', square)"
   ]
  },
  {
   "cell_type": "code",
   "execution_count": null,
   "metadata": {},
   "outputs": [],
   "source": [
    "plt.imshow(disk)\n",
    "# plt.imshow(square)"
   ]
  },
  {
   "cell_type": "markdown",
   "metadata": {},
   "source": [
    "Erosion and Dilation\n",
    "\n",
    "The erosion is a spatial minimum filter. This means that, for every pixel, it gets the surronding pixels that underlie the SE shape and returns the minimal value.\n",
    "\n",
    "In the binary case, this means that, if a pixel has any 0-valued neighbouring pixel around it that lies beneath the SE, it will recevie 0.\n",
    "\n",
    "Overall, this gives the impression that the white (positive value) structures are getting consumed/eroded.\n"
   ]
  },
  {
   "cell_type": "code",
   "execution_count": null,
   "metadata": {},
   "outputs": [],
   "source": [
    "erode_disk_binary = morphology.binary_erosion(image_binary, disk)\n",
    "eroded_square_binary = morphology.binary_erosion(image_binary, square)"
   ]
  },
  {
   "cell_type": "code",
   "execution_count": null,
   "metadata": {},
   "outputs": [],
   "source": [
    "fig, ax = plt.subplots(1, 3, figsize=(10,5))\n",
    "\n",
    "ax[0].imshow(image_binary, cmap = 'gray')\n",
    "ax[0].set_title('original')\n",
    "\n",
    "ax[1].imshow(erode_disk_binary, cmap = 'gray')\n",
    "ax[1].set_title('erosion disk')\n",
    "\n",
    "ax[2].imshow(eroded_square_binary, cmap = 'gray')\n",
    "ax[2].set_title('erosion square')"
   ]
  },
  {
   "cell_type": "code",
   "execution_count": null,
   "metadata": {},
   "outputs": [],
   "source": [
    "### try out dilation yourself using morphology.binary_dilation() with the two SEs."
   ]
  },
  {
   "cell_type": "markdown",
   "metadata": {},
   "source": [
    "Openning and Closing\n",
    "\n",
    "The morphological __opening__ on an image is defined as an erosion followed by a dilation, while __closing__ is a dilation followed by an erosion."
   ]
  },
  {
   "cell_type": "code",
   "execution_count": null,
   "metadata": {},
   "outputs": [],
   "source": [
    "opening_disk_binary = morphology.binary_opening(image_binary, disk)\n",
    "opening_square_binary = morphology.binary_opening(image_binary, square)"
   ]
  },
  {
   "cell_type": "code",
   "execution_count": null,
   "metadata": {},
   "outputs": [],
   "source": [
    "fig, ax = plt.subplots(1, 3, figsize=(10,5))\n",
    "\n",
    "ax[0].imshow(image_binary, cmap = 'gray')\n",
    "ax[0].set_title('original')\n",
    "\n",
    "ax[1].imshow(opening_disk_binary, cmap = 'gray')\n",
    "ax[1].set_title('opening disk')\n",
    "\n",
    "ax[2].imshow(opening_square_binary, cmap = 'gray')\n",
    "ax[2].set_title('opening square')"
   ]
  },
  {
   "cell_type": "code",
   "execution_count": null,
   "metadata": {},
   "outputs": [],
   "source": [
    "### try out closing yourself using morphology.binary_dilation() with the two SEs."
   ]
  },
  {
   "cell_type": "markdown",
   "metadata": {},
   "source": [
    "----\n",
    "\n",
    "### <font color='orange'> Part 3: Feature extraction  </font>  <a id= feature></a>\n",
    "\n",
    "Filters and morphorlogical operations clean-up the original image, and can make the image more segmentable.\n",
    "\n",
    "What is image segmentation? Will thrsholding by one number always work?\n",
    "\n",
    "- __Segmentation__ is defined as assigning a meaningful label to each pixel. \n",
    "\n",
    "- __Semantic segmentation__ will further differentiate the labels to meaningful classes: from the instances of those classes we can extract desired features.\n"
   ]
  },
  {
   "cell_type": "markdown",
   "metadata": {},
   "source": [
    "Example threshold algo: __Otsu thresholding__\n",
    "\n",
    "Find threshold so that the summed, weighted varaince of the assignment becomes minimal:\n",
    "\n",
    "- Variance definition:\n",
    "\\begin{equation}\n",
    "\\operatorname{Var}(I)=\\frac{1}{n_{I}} \\sum(I-\\operatorname{mean}(I))^{2}\n",
    "\\end{equation}\n",
    "\n",
    "- Objective function to minimize:\n",
    "\\begin{equation}\n",
    "\\operatorname{Var}_{w, \\operatorname{sum}}=\\frac{n_{A}}{n_{I}} \\cdot \\operatorname{Var}(A)+\\frac{n_{B}}{n_{I}} \\cdot \\operatorname{Var}(B)\n",
    "\\end{equation}\n",
    "\n",
    "There are also many others like trangle thresholding, statistical thresholding, where you can find them in `skimage.filters`.\n",
    "\n",
    "You might sometimes need to refine the mask (segmentation) after thresholding too."
   ]
  },
  {
   "cell_type": "code",
   "execution_count": null,
   "metadata": {},
   "outputs": [],
   "source": [
    "### try out the threshold method skimage.filters.threshold_li() on the smoothed image. (Li's iterative Minimum Cross Entropy method)"
   ]
  },
  {
   "cell_type": "markdown",
   "metadata": {},
   "source": [
    "But after that, you will need to differentiating different objects, and here connected component analysis (CCA) is used to mark pixel that belong to differnet object with different numbers."
   ]
  },
  {
   "cell_type": "code",
   "execution_count": null,
   "metadata": {},
   "outputs": [],
   "source": [
    "plt.imshow(mean_binary, cmap='gray')"
   ]
  },
  {
   "cell_type": "code",
   "execution_count": null,
   "metadata": {},
   "outputs": [],
   "source": [
    "from skimage.measure import label, regionprops, regionprops_table\n",
    "\n",
    "label_img = label(mean_binary)\n",
    "print(label_img)"
   ]
  },
  {
   "cell_type": "code",
   "execution_count": null,
   "metadata": {},
   "outputs": [],
   "source": [
    "plt.imshow(label_img)"
   ]
  },
  {
   "cell_type": "markdown",
   "metadata": {},
   "source": [
    "Finally we are in a good position to be able to extract relavant features from the image.\n",
    "\n",
    "A __feature__ is a countable or measureable property of an image or an object.\n",
    "\n",
    "Goal of feature extraction is finding a minimal set of features to describe an object well enough to differentiate it from other objects: \n"
   ]
  },
  {
   "cell_type": "code",
   "execution_count": null,
   "metadata": {},
   "outputs": [],
   "source": [
    "regions = regionprops(label_img)"
   ]
  },
  {
   "cell_type": "markdown",
   "metadata": {},
   "source": [
    "A very handy function is [`skimage.measure.regionprops()`](https://scikit-image.org/docs/dev/api/skimage.measure.html?highlight=regionprop#skimage.measure.regionprops), which can measure many properties of labeled image regions that are of common interest, like area or axis lengths. "
   ]
  },
  {
   "cell_type": "code",
   "execution_count": null,
   "metadata": {},
   "outputs": [],
   "source": [
    "properties = ['area', 'convex_area', 'mean_intensity', 'orientation', 'axis_major_length','axis_minor_length']\n",
    "\n",
    "pd.DataFrame(regionprops_table(label_img, mitosis_img, properties=properties))"
   ]
  },
  {
   "cell_type": "markdown",
   "metadata": {},
   "source": [
    "---\n",
    "\n",
    "### <font color='orange'> Part 4: Analysis pipeline on a toy example </font>  <a id= example></a>\n",
    "\n",
    "We want to analyze the variation of cell size in a tissue, which can sometimes be critical to plant organ development.\n",
    "\n",
    "Again, this is a workflow demo, and we will <font color='purple'> SAVE EVERY FILTERED IMAGE as a NEW IMAGE OBJECT. </font>\n"
   ]
  },
  {
   "cell_type": "code",
   "execution_count": null,
   "metadata": {},
   "outputs": [],
   "source": [
    "# loading an microscopy image:\n",
    "img_color = imread('plant_cell.tiff')"
   ]
  },
  {
   "cell_type": "code",
   "execution_count": null,
   "metadata": {},
   "outputs": [],
   "source": [
    "plt.figure(figsize=(7,7))\n",
    "plt.imshow(img_color)\n",
    "plt.show()"
   ]
  },
  {
   "cell_type": "code",
   "execution_count": null,
   "metadata": {},
   "outputs": [],
   "source": [
    "#  convert to grayscale:\n",
    "from skimage.color import rgb2gray\n",
    "img = np.uint8(rgb2gray(img_color) * 255)"
   ]
  },
  {
   "cell_type": "code",
   "execution_count": null,
   "metadata": {},
   "outputs": [],
   "source": [
    "plt.figure(figsize=(7,7))\n",
    "plt.imshow(img, cmap = 'gray')\n",
    "plt.show()"
   ]
  },
  {
   "cell_type": "code",
   "execution_count": null,
   "metadata": {},
   "outputs": [],
   "source": [
    "sigma = 3 # set the standard deviation for Gaussian kernel\n",
    "img_smooth = ndi.filters.gaussian_filter(img, sigma)"
   ]
  },
  {
   "cell_type": "code",
   "execution_count": null,
   "metadata": {},
   "outputs": [],
   "source": [
    "plt.figure(figsize=(7,7))\n",
    "plt.imshow(img_smooth, interpolation='none', cmap='gray')\n",
    "plt.show()"
   ]
  },
  {
   "cell_type": "code",
   "execution_count": null,
   "metadata": {},
   "outputs": [],
   "source": [
    "# manually detect threshold:\n",
    "from ipywidgets import interact\n",
    "\n",
    "@interact(thresh=(10,250,10))\n",
    "def select_threshold(thresh=100):\n",
    "    \n",
    "    # thresholding\n",
    "    binary = img_smooth > thresh\n",
    "    \n",
    "    # visualization\n",
    "    plt.figure(figsize=(7,7))\n",
    "    plt.imshow(binary, cmap='gray')\n",
    "    plt.show()"
   ]
  },
  {
   "cell_type": "code",
   "execution_count": null,
   "metadata": {},
   "outputs": [],
   "source": [
    "from skimage.filters.thresholding import threshold_otsu\n",
    "\n",
    "# calculate and apply threshold\n",
    "thresh = threshold_otsu(img_smooth)\n",
    "otsu_binary = img_smooth > thresh\n",
    "    \n",
    "# visualization\n",
    "plt.figure(figsize=(7,7))\n",
    "plt.imshow(otsu_binary, interpolation='none', cmap='gray')\n",
    "plt.show()"
   ]
  },
  {
   "cell_type": "code",
   "execution_count": null,
   "metadata": {},
   "outputs": [],
   "source": [
    "from skimage.filters.thresholding import try_all_threshold\n",
    "fig = try_all_threshold(img_smooth, figsize=(10,10), verbose=False)"
   ]
  },
  {
   "cell_type": "markdown",
   "metadata": {},
   "source": [
    "Let's try adaptive thresholding too.\n",
    "\n",
    "We'll implement two steps of adaptive background subtraction.\n",
    "\n",
    "1. Use a strong \"mean filter\" with a circular `SE` to create the background image.\n",
    "\n",
    "2. Use the background image for thresholding."
   ]
  },
  {
   "cell_type": "code",
   "execution_count": null,
   "metadata": {},
   "outputs": [],
   "source": [
    "# define an SE filter:\n",
    "i = 70\n",
    "SE = (np.mgrid[:i,:i][0] - np.floor(i/2))**2 + (np.mgrid[:i,:i][1] - np.floor(i/2))**2 <= np.floor(i/2)**2\n",
    "\n",
    "# visualize the result:\n",
    "plt.imshow(SE, interpolation='none')\n",
    "plt.show()"
   ]
  },
  {
   "cell_type": "code",
   "execution_count": null,
   "metadata": {},
   "outputs": [],
   "source": [
    "from skimage.filters import rank \n",
    "# rank returns local mean for the neighborhood defined by the footprint\n",
    "bg = rank.mean(img_smooth, footprint=SE)"
   ]
  },
  {
   "cell_type": "code",
   "execution_count": null,
   "metadata": {},
   "outputs": [],
   "source": [
    "plt.figure(figsize=(7,7))\n",
    "plt.imshow(bg, interpolation='none', cmap='gray')\n",
    "plt.show()"
   ]
  },
  {
   "cell_type": "code",
   "execution_count": null,
   "metadata": {},
   "outputs": [],
   "source": [
    "# binarize it:\n",
    "cells = img_smooth > bg"
   ]
  },
  {
   "cell_type": "code",
   "execution_count": null,
   "metadata": {},
   "outputs": [],
   "source": [
    "plt.figure(figsize=(7,7))\n",
    "plt.imshow(cells, interpolation='none', cmap='gray')\n",
    "plt.show()\n"
   ]
  },
  {
   "cell_type": "code",
   "execution_count": null,
   "metadata": {},
   "outputs": [],
   "source": [
    "# refine segmentation by filling the holes:\n",
    "cells_final = ndi.binary_fill_holes(cells)  "
   ]
  },
  {
   "cell_type": "code",
   "execution_count": null,
   "metadata": {},
   "outputs": [],
   "source": [
    "# plot side by side:\n",
    "fig, ax = plt.subplots(1, 2, figsize=(14,7))\n",
    "ax[0].imshow(img_smooth, interpolation='none', cmap='gray')\n",
    "ax[1].imshow(cells_final, interpolation='none', cmap='gray')\n",
    "ax[0].set_title('Smoothed Image')\n",
    "ax[1].set_title('Final Membrane Mask')\n",
    "plt.show()"
   ]
  },
  {
   "cell_type": "code",
   "execution_count": null,
   "metadata": {},
   "outputs": [],
   "source": [
    "# CCA:\n",
    "cell_labels = label(cells_final)"
   ]
  },
  {
   "cell_type": "code",
   "execution_count": null,
   "metadata": {},
   "outputs": [],
   "source": [
    "plt.figure(figsize=(7,7))\n",
    "plt.imshow(cell_labels, interpolation='none', cmap='magma')\n",
    "plt.show()"
   ]
  },
  {
   "cell_type": "markdown",
   "metadata": {},
   "source": [
    "Let's find the seeds of the cells using using the distance transform approach; you can try `regionprop()` too. But the segmentation actually created a thicker gap between cells than reality, so the features extracted will have a systematic measurement bias."
   ]
  },
  {
   "cell_type": "code",
   "execution_count": null,
   "metadata": {},
   "outputs": [],
   "source": [
    "from mpl_toolkits.axes_grid1 import make_axes_locatable\n",
    "\n",
    "dist_trans = ndi.distance_transform_edt(cells_final)\n",
    "\n",
    "fig, ax = plt.subplots(figsize = (7,7))\n",
    "im = ax.imshow(np.arange(100).reshape((10, 10)))\n",
    "\n",
    "im = ax.imshow(dist_trans)\n",
    "\n",
    "divider = make_axes_locatable(ax)\n",
    "cax = divider.append_axes(\"right\", size=\"3%\", pad=0.1)\n",
    "\n",
    "plt.colorbar(im, cax=cax)\n",
    "plt.show()"
   ]
  },
  {
   "cell_type": "markdown",
   "metadata": {},
   "source": [
    "Smooth the distance transform, so that we only have one local maximum."
   ]
  },
  {
   "cell_type": "code",
   "execution_count": null,
   "metadata": {},
   "outputs": [],
   "source": [
    "from mpl_toolkits.axes_grid1 import make_axes_locatable\n",
    "\n",
    "dist_trans_smooth = ndi.filters.gaussian_filter(dist_trans, sigma=10)\n",
    "\n",
    "dist_trans = ndi.distance_transform_edt(cells_final)\n",
    "\n",
    "fig, ax = plt.subplots(figsize = (7,7))\n",
    "im = ax.imshow(np.arange(100).reshape((10, 10)))\n",
    "\n",
    "im = ax.imshow(dist_trans_smooth)\n",
    "divider = make_axes_locatable(ax)\n",
    "cax = divider.append_axes(\"right\", size=\"3%\", pad=0.1)\n",
    "\n",
    "plt.colorbar(im, cax=cax)\n",
    "plt.show()"
   ]
  },
  {
   "cell_type": "code",
   "execution_count": null,
   "metadata": {},
   "outputs": [],
   "source": [
    "# retrieve peak coordinates:\n",
    "from skimage.feature import peak_local_max\n",
    "seed_coords = peak_local_max(dist_trans_smooth, min_distance=15)\n",
    "\n",
    "# convert coords to mask that has the same size as the image:\n",
    "seeds = np.zeros_like(dist_trans_smooth, dtype=bool)\n",
    "seeds[tuple(seed_coords.T)] = True"
   ]
  },
  {
   "cell_type": "code",
   "execution_count": null,
   "metadata": {},
   "outputs": [],
   "source": [
    "# dilate seeds:\n",
    "seeds_dil = ndi.filters.maximum_filter(seeds, size=10)\n",
    "\n",
    "# create plots to visualize seeds:\n",
    "plt.figure(figsize=(7,7))\n",
    "plt.imshow(img_smooth, cmap='gray')\n",
    "plt.imshow(np.ma.array(seeds_dil, mask=seeds_dil==0), interpolation='none', cmap= 'summer')\n",
    "plt.show()"
   ]
  },
  {
   "cell_type": "code",
   "execution_count": null,
   "metadata": {},
   "outputs": [],
   "source": [
    "# use connected component labeling to give each cell seed a unique ID number.\n",
    "seeds_labeled = ndi.label(seeds)[0]\n",
    "\n",
    "# visualize the final result (the labeled seeds) as an overlay on the raw (or smoothed) image\n",
    "seeds_labeled_dil = ndi.filters.maximum_filter(seeds_labeled, size=10)  # Expand a bit for visualization\n",
    "plt.figure(figsize=(10,10))\n",
    "plt.imshow(img_smooth, cmap='gray')\n",
    "plt.imshow(np.ma.array(seeds_labeled_dil, mask=seeds_labeled_dil==0), cmap='prism')\n",
    "plt.show()"
   ]
  },
  {
   "cell_type": "markdown",
   "metadata": {},
   "source": [
    "Expand seeds by watershed expansion:"
   ]
  },
  {
   "cell_type": "code",
   "execution_count": null,
   "metadata": {},
   "outputs": [],
   "source": [
    "from skimage.segmentation import watershed\n",
    "# find the watershed lines that are the local minimas:\n",
    "ws = watershed(~img_smooth, seeds_labeled)\n",
    "\n",
    "plt.figure(figsize=(10,10))\n",
    "plt.imshow(img_smooth, interpolation='none', cmap='gray')\n",
    "plt.imshow(ws, interpolation='none', cmap='Set3', alpha=0.4)\n",
    "plt.show()"
   ]
  },
  {
   "cell_type": "markdown",
   "metadata": {},
   "source": [
    "Iterate through cells and remove those touching the image border:"
   ]
  },
  {
   "cell_type": "code",
   "execution_count": null,
   "metadata": {},
   "outputs": [],
   "source": [
    "border_mask = np.zeros(ws.shape, dtype=bool)\n",
    "border_mask = ndi.binary_dilation(border_mask, border_value=1)\n",
    "\n",
    "clean_ws = np.copy(ws)\n",
    "\n",
    "for cell_ID in np.unique(ws):\n",
    "\n",
    "    # mask that only have cells with current ID:\n",
    "    cell_mask = ws == cell_ID \n",
    "    cell_border_overlap = np.logical_and(cell_mask, border_mask)  \n",
    "    total_overlap_pixels = np.sum(cell_border_overlap)          \n",
    "\n",
    "    # If a cell touches the image boundary, delete it by setting its pixels in the segmentation to 0.\n",
    "    if total_overlap_pixels > 0: \n",
    "        clean_ws[cell_mask] = 0"
   ]
  },
  {
   "cell_type": "code",
   "execution_count": null,
   "metadata": {},
   "outputs": [],
   "source": [
    "# preserve labels:\n",
    "for new_ID, cell_ID in enumerate(np.unique(clean_ws)[1:]):\n",
    "    clean_ws[clean_ws==cell_ID] = new_ID+1                "
   ]
  },
  {
   "cell_type": "code",
   "execution_count": null,
   "metadata": {},
   "outputs": [],
   "source": [
    "plt.figure(figsize=(10,10))\n",
    "plt.imshow(img_smooth, interpolation='none', cmap='gray')\n",
    "plt.imshow(np.ma.array(clean_ws, mask=clean_ws==0), interpolation='none', cmap='Set3', alpha=0.4)\n",
    "plt.show()"
   ]
  },
  {
   "cell_type": "markdown",
   "metadata": {},
   "source": [
    "Identify cell edges:"
   ]
  },
  {
   "cell_type": "code",
   "execution_count": null,
   "metadata": {},
   "outputs": [],
   "source": [
    "edges = np.zeros_like(clean_ws)\n",
    "\n",
    "for cell_ID in np.unique(clean_ws)[1:]:\n",
    "    # erode the mask by 1 pixel\n",
    "    cell_mask = clean_ws==cell_ID\n",
    "    eroded_cell_mask = ndi.binary_erosion(cell_mask, iterations=1) \n",
    "    # create the cell edge mask\n",
    "    edge_mask = np.logical_xor(cell_mask, eroded_cell_mask)\n",
    "    edges[edge_mask] = cell_ID"
   ]
  },
  {
   "cell_type": "markdown",
   "metadata": {},
   "source": [
    "Finally, feature extraction."
   ]
  },
  {
   "cell_type": "code",
   "execution_count": null,
   "metadata": {},
   "outputs": [],
   "source": [
    "# create a dictionary that contains a key-value pairing for each measurement\n",
    "results = {\"cell_id\"      : [],\n",
    "           \"int_mean\"     : [],\n",
    "           \"int_mem_mean\" : [],\n",
    "           \"cell_area\"    : [],\n",
    "           \"cell_edge\"    : []}\n"
   ]
  },
  {
   "cell_type": "code",
   "execution_count": null,
   "metadata": {},
   "outputs": [],
   "source": [
    "for cell_id in np.unique(clean_ws)[1:]:\n",
    "\n",
    "    # Mask the current cell and cell edge\n",
    "    cell_mask = clean_ws==cell_id\n",
    "    edge_mask = edges==cell_id\n",
    "    \n",
    "    # Get the measurements\n",
    "    results[\"cell_id\"].append(cell_id)\n",
    "    results[\"int_mean\"].append(np.mean(img[cell_mask]))\n",
    "    results[\"int_mem_mean\"].append(np.mean(img[edge_mask]))\n",
    "    results[\"cell_area\"].append(np.sum(cell_mask))\n",
    "    results[\"cell_edge\"].append(np.sum(edge_mask))"
   ]
  },
  {
   "cell_type": "code",
   "execution_count": null,
   "metadata": {},
   "outputs": [],
   "source": [
    "# print the results to see if they make sense:\n",
    "for key in results.keys(): \n",
    "    print(key + \":\", results[key][:5], '\\n')"
   ]
  },
  {
   "cell_type": "markdown",
   "metadata": {},
   "source": [
    "#### Simple analysis and visualization\n",
    "\n",
    "plot of cell outline length over cell area:"
   ]
  },
  {
   "cell_type": "code",
   "execution_count": null,
   "metadata": {},
   "outputs": [],
   "source": [
    "plt.figure(figsize=(8,5))\n",
    "# scatter area v.s. edge length\n",
    "plt.scatter(results[\"cell_area\"], results[\"cell_edge\"],\n",
    "            edgecolor='k', s=30, alpha=0.5)\n",
    "\n",
    "# calculate the null relationship between area and circumference\n",
    "cell_area_range = np.linspace(min(results[\"cell_area\"]), max(results[\"cell_area\"]), num=100)\n",
    "circle_circumference = 2 * np.pi * np.sqrt( cell_area_range / np.pi )\n",
    "plt.plot(cell_area_range, circle_circumference, color='r', alpha=0.8)\n",
    "\n",
    "plt.xlabel(\"cell area [pxl^2]\")\n",
    "plt.ylabel(\"cell edge length [pxl]\")\n",
    "plt.legend(['data', 'circular null model'], loc=2, fontsize=10)\n",
    "plt.show()"
   ]
  },
  {
   "cell_type": "markdown",
   "metadata": {},
   "source": [
    "map cell size on to the image as a heatmap:"
   ]
  },
  {
   "cell_type": "code",
   "execution_count": null,
   "metadata": {},
   "outputs": [],
   "source": [
    "# scale the area back to 8bit intensity scale:\n",
    "areas_8bit = np.array(results[\"cell_area\"]) / max(results[\"cell_area\"]) * 255\n",
    "\n",
    "area_map = np.zeros_like(clean_ws, dtype=np.uint8) \n",
    "\n",
    "for index, cell_id in enumerate(results[\"cell_id\"]):\n",
    "    # assign rescalled value:\n",
    "    area_map[clean_ws==cell_id] = areas_8bit[index]\n",
    "\n",
    "# exclude the extreme 5% (two sides):\n",
    "outlier_mask = np.logical_or(area_map > np.percentile(areas_8bit, 95),\n",
    "                             area_map < np.percentile(areas_8bit, 5))\n",
    "\n",
    "# the region that we won't color (outliers + image boundary cells)\n",
    "full_mask = np.logical_or(area_map==0, outlier_mask)\n",
    "\n",
    "fig, ax = plt.subplots(figsize=(10,10))\n",
    "\n",
    "ax.imshow(img_smooth, cmap='gray')\n",
    "# heatmap:\n",
    "coloring = ax.imshow(np.ma.array(area_map, mask=full_mask), cmap='viridis', alpha=0.4)\n",
    "\n",
    "# colorbar:\n",
    "divider = make_axes_locatable(ax)\n",
    "cax = divider.append_axes(\"right\", size=\"3%\", pad=0.2)\n",
    "\n",
    "plt.colorbar(coloring, cax=cax)\n",
    "\n",
    "plt.show()"
   ]
  },
  {
   "cell_type": "markdown",
   "metadata": {},
   "source": []
  }
 ],
 "metadata": {
  "kernelspec": {
   "display_name": "Python 3.8.3 ('base')",
   "language": "python",
   "name": "python3"
  },
  "language_info": {
   "codemirror_mode": {
    "name": "ipython",
    "version": 3
   },
   "file_extension": ".py",
   "mimetype": "text/x-python",
   "name": "python",
   "nbconvert_exporter": "python",
   "pygments_lexer": "ipython3",
   "version": "3.8.3"
  },
  "orig_nbformat": 4,
  "vscode": {
   "interpreter": {
    "hash": "e5f2b81f98e7f4c9b750fd7ac745b53674feaa8225e7b6a32dbb056846c728b0"
   }
  }
 },
 "nbformat": 4,
 "nbformat_minor": 2
}
